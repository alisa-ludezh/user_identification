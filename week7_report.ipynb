{
 "cells": [
  {
   "cell_type": "markdown",
   "metadata": {},
   "source": [
    "<center>\n",
    "<img src=\"https://habrastorage.org/web/677/8e1/337/6778e1337c3d4b159d7e99df94227cb2.jpg\"/>\n",
    "## Специализация \"Машинное обучение и анализ данных\"\n",
    "</center>"
   ]
  },
  {
   "cell_type": "markdown",
   "metadata": {},
   "source": [
    "# <center> Идентификация пользователей по посещенным веб-страницам</center>\n",
    "<center> <img align=center src='http://i.istockimg.com/file_thumbview_approve/21546327/5/stock-illustration-21546327-identification-de-l-utilisateur.jpg'></center>\n",
    "<center>Автор материала: Пугачева Алиса</center>"
   ]
  },
  {
   "cell_type": "markdown",
   "metadata": {},
   "source": [
    "Идея такая: пользователи Интернета по-разному переходят по ссылкам, и это может помогать их идентифицировать.\n",
    "Задача заключается в том, чтобы по последовательности сайтов предсказать, принадлежит ли эта последовательность интересующему нас пользователю Alice, или другому. То есть решается задача бинарной классификации.\n",
    "В качестве исходных данных, на которых требуется обучить модель, имеется несколько файлов, соответствующих пользователям, каждый из которых содержит таблицу вида:"
   ]
  },
  {
   "cell_type": "markdown",
   "metadata": {},
   "source": [
    "## Описание исходных и обработанных данных и признаков"
   ]
  },
  {
   "cell_type": "code",
   "execution_count": 12,
   "metadata": {
    "ExecuteTime": {
     "end_time": "2018-04-09T10:34:25.691186Z",
     "start_time": "2018-04-09T10:34:25.676715Z"
    }
   },
   "outputs": [
    {
     "data": {
      "text/html": [
       "<div>\n",
       "<style scoped>\n",
       "    .dataframe tbody tr th:only-of-type {\n",
       "        vertical-align: middle;\n",
       "    }\n",
       "\n",
       "    .dataframe tbody tr th {\n",
       "        vertical-align: top;\n",
       "    }\n",
       "\n",
       "    .dataframe thead th {\n",
       "        text-align: right;\n",
       "    }\n",
       "</style>\n",
       "<table border=\"1\" class=\"dataframe\">\n",
       "  <thead>\n",
       "    <tr style=\"text-align: right;\">\n",
       "      <th></th>\n",
       "      <th>timestamp</th>\n",
       "      <th>site</th>\n",
       "    </tr>\n",
       "  </thead>\n",
       "  <tbody>\n",
       "    <tr>\n",
       "      <th>0</th>\n",
       "      <td>2013-11-15 09:28:17</td>\n",
       "      <td>vk.com</td>\n",
       "    </tr>\n",
       "    <tr>\n",
       "      <th>1</th>\n",
       "      <td>2013-11-15 09:33:04</td>\n",
       "      <td>oracle.com</td>\n",
       "    </tr>\n",
       "  </tbody>\n",
       "</table>\n",
       "</div>"
      ],
      "text/plain": [
       "             timestamp        site\n",
       "0  2013-11-15 09:28:17      vk.com\n",
       "1  2013-11-15 09:33:04  oracle.com"
      ]
     },
     "execution_count": 12,
     "metadata": {},
     "output_type": "execute_result"
    }
   ],
   "source": [
    "import pandas as pd\n",
    "pd.read_csv('capstone_user_identification/3users/user0001.csv').head(2)"
   ]
  },
  {
   "cell_type": "markdown",
   "metadata": {},
   "source": [
    "В [соревновании](https://inclass.kaggle.com/c/catch-me-if-you-can-intruder-detection-through-webpage-session-tracking2) на Kaggle исходные данные предобработанны таким образом, что представляют из себя таблицы, где строка - последовательность веб-страниц, метки времени захода на соотвествующий сайт и меткой пользователя:"
   ]
  },
  {
   "cell_type": "code",
   "execution_count": 13,
   "metadata": {
    "ExecuteTime": {
     "end_time": "2018-04-09T10:34:28.701998Z",
     "start_time": "2018-04-09T10:34:25.693328Z"
    }
   },
   "outputs": [
    {
     "data": {
      "text/html": [
       "<div>\n",
       "<style scoped>\n",
       "    .dataframe tbody tr th:only-of-type {\n",
       "        vertical-align: middle;\n",
       "    }\n",
       "\n",
       "    .dataframe tbody tr th {\n",
       "        vertical-align: top;\n",
       "    }\n",
       "\n",
       "    .dataframe thead th {\n",
       "        text-align: right;\n",
       "    }\n",
       "</style>\n",
       "<table border=\"1\" class=\"dataframe\">\n",
       "  <thead>\n",
       "    <tr style=\"text-align: right;\">\n",
       "      <th></th>\n",
       "      <th>site1</th>\n",
       "      <th>time1</th>\n",
       "      <th>site2</th>\n",
       "      <th>time2</th>\n",
       "      <th>site3</th>\n",
       "      <th>time3</th>\n",
       "      <th>site4</th>\n",
       "      <th>time4</th>\n",
       "      <th>site5</th>\n",
       "      <th>time5</th>\n",
       "      <th>...</th>\n",
       "      <th>time6</th>\n",
       "      <th>site7</th>\n",
       "      <th>time7</th>\n",
       "      <th>site8</th>\n",
       "      <th>time8</th>\n",
       "      <th>site9</th>\n",
       "      <th>time9</th>\n",
       "      <th>site10</th>\n",
       "      <th>time10</th>\n",
       "      <th>target</th>\n",
       "    </tr>\n",
       "    <tr>\n",
       "      <th>session_id</th>\n",
       "      <th></th>\n",
       "      <th></th>\n",
       "      <th></th>\n",
       "      <th></th>\n",
       "      <th></th>\n",
       "      <th></th>\n",
       "      <th></th>\n",
       "      <th></th>\n",
       "      <th></th>\n",
       "      <th></th>\n",
       "      <th></th>\n",
       "      <th></th>\n",
       "      <th></th>\n",
       "      <th></th>\n",
       "      <th></th>\n",
       "      <th></th>\n",
       "      <th></th>\n",
       "      <th></th>\n",
       "      <th></th>\n",
       "      <th></th>\n",
       "      <th></th>\n",
       "    </tr>\n",
       "  </thead>\n",
       "  <tbody>\n",
       "    <tr>\n",
       "      <th>1</th>\n",
       "      <td>718</td>\n",
       "      <td>2014-02-20 10:02:45</td>\n",
       "      <td>NaN</td>\n",
       "      <td>NaN</td>\n",
       "      <td>NaN</td>\n",
       "      <td>NaN</td>\n",
       "      <td>NaN</td>\n",
       "      <td>NaN</td>\n",
       "      <td>NaN</td>\n",
       "      <td>NaN</td>\n",
       "      <td>...</td>\n",
       "      <td>NaN</td>\n",
       "      <td>NaN</td>\n",
       "      <td>NaN</td>\n",
       "      <td>NaN</td>\n",
       "      <td>NaN</td>\n",
       "      <td>NaN</td>\n",
       "      <td>NaN</td>\n",
       "      <td>NaN</td>\n",
       "      <td>NaN</td>\n",
       "      <td>0</td>\n",
       "    </tr>\n",
       "    <tr>\n",
       "      <th>2</th>\n",
       "      <td>890</td>\n",
       "      <td>2014-02-22 11:19:50</td>\n",
       "      <td>941.0</td>\n",
       "      <td>2014-02-22 11:19:50</td>\n",
       "      <td>3847.0</td>\n",
       "      <td>2014-02-22 11:19:51</td>\n",
       "      <td>941.0</td>\n",
       "      <td>2014-02-22 11:19:51</td>\n",
       "      <td>942.0</td>\n",
       "      <td>2014-02-22 11:19:51</td>\n",
       "      <td>...</td>\n",
       "      <td>2014-02-22 11:19:51</td>\n",
       "      <td>3847.0</td>\n",
       "      <td>2014-02-22 11:19:52</td>\n",
       "      <td>3846.0</td>\n",
       "      <td>2014-02-22 11:19:52</td>\n",
       "      <td>1516.0</td>\n",
       "      <td>2014-02-22 11:20:15</td>\n",
       "      <td>1518.0</td>\n",
       "      <td>2014-02-22 11:20:16</td>\n",
       "      <td>0</td>\n",
       "    </tr>\n",
       "  </tbody>\n",
       "</table>\n",
       "<p>2 rows × 21 columns</p>\n",
       "</div>"
      ],
      "text/plain": [
       "            site1               time1  site2                time2   site3  \\\n",
       "session_id                                                                  \n",
       "1             718 2014-02-20 10:02:45    NaN                  NaN     NaN   \n",
       "2             890 2014-02-22 11:19:50  941.0  2014-02-22 11:19:50  3847.0   \n",
       "\n",
       "                          time3  site4                time4  site5  \\\n",
       "session_id                                                           \n",
       "1                           NaN    NaN                  NaN    NaN   \n",
       "2           2014-02-22 11:19:51  941.0  2014-02-22 11:19:51  942.0   \n",
       "\n",
       "                          time5  ...                  time6   site7  \\\n",
       "session_id                       ...                                  \n",
       "1                           NaN  ...                    NaN     NaN   \n",
       "2           2014-02-22 11:19:51  ...    2014-02-22 11:19:51  3847.0   \n",
       "\n",
       "                          time7   site8                time8   site9  \\\n",
       "session_id                                                             \n",
       "1                           NaN     NaN                  NaN     NaN   \n",
       "2           2014-02-22 11:19:52  3846.0  2014-02-22 11:19:52  1516.0   \n",
       "\n",
       "                          time9  site10               time10 target  \n",
       "session_id                                                           \n",
       "1                           NaN     NaN                  NaN      0  \n",
       "2           2014-02-22 11:20:15  1518.0  2014-02-22 11:20:16      0  \n",
       "\n",
       "[2 rows x 21 columns]"
      ]
     },
     "execution_count": 13,
     "metadata": {},
     "output_type": "execute_result"
    }
   ],
   "source": [
    "import os\n",
    "PATH_TO_DATA = ('capstone_user_identification')\n",
    "\n",
    "train_df = pd.read_csv(os.path.join(PATH_TO_DATA, 'train_sessions.csv'), index_col='session_id', parse_dates=['time1'])\n",
    "test_df = pd.read_csv(os.path.join(PATH_TO_DATA, 'test_sessions.csv'), index_col='session_id', parse_dates=['time1'])\n",
    "\n",
    "train_df.head(2)"
   ]
  },
  {
   "cell_type": "markdown",
   "metadata": {},
   "source": [
    "## Первичный анализ и предобработка признаков"
   ]
  },
  {
   "cell_type": "markdown",
   "metadata": {
    "ExecuteTime": {
     "end_time": "2018-04-03T12:58:33.270130Z",
     "start_time": "2018-04-03T12:58:33.265375Z"
    }
   },
   "source": [
    "Посмотрим, как распределены по времени сессии в обучающей и тестовой выборке:"
   ]
  },
  {
   "cell_type": "code",
   "execution_count": 14,
   "metadata": {
    "ExecuteTime": {
     "end_time": "2018-04-09T10:34:28.712596Z",
     "start_time": "2018-04-09T10:34:28.704196Z"
    }
   },
   "outputs": [
    {
     "data": {
      "text/plain": [
       "(Timestamp('2013-01-12 08:05:57'),\n",
       " Timestamp('2014-04-30 23:39:53'),\n",
       " Timestamp('2014-05-01 17:14:03'),\n",
       " Timestamp('2014-12-05 23:26:53'))"
      ]
     },
     "execution_count": 14,
     "metadata": {},
     "output_type": "execute_result"
    }
   ],
   "source": [
    "train_df.time1.min(), train_df.time1.max(), test_df.time1.min(), test_df.time1.max()"
   ]
  },
  {
   "cell_type": "markdown",
   "metadata": {},
   "source": [
    "Видим, что временные отрезки(начала сессий) не пересекаются.\n",
    "В связи с этим, сортируем сессии в обучающей выборке по времени (по полю time1)"
   ]
  },
  {
   "cell_type": "code",
   "execution_count": 15,
   "metadata": {
    "ExecuteTime": {
     "end_time": "2018-04-09T10:34:29.110173Z",
     "start_time": "2018-04-09T10:34:28.714171Z"
    }
   },
   "outputs": [
    {
     "data": {
      "text/html": [
       "<div>\n",
       "<style scoped>\n",
       "    .dataframe tbody tr th:only-of-type {\n",
       "        vertical-align: middle;\n",
       "    }\n",
       "\n",
       "    .dataframe tbody tr th {\n",
       "        vertical-align: top;\n",
       "    }\n",
       "\n",
       "    .dataframe thead th {\n",
       "        text-align: right;\n",
       "    }\n",
       "</style>\n",
       "<table border=\"1\" class=\"dataframe\">\n",
       "  <thead>\n",
       "    <tr style=\"text-align: right;\">\n",
       "      <th></th>\n",
       "      <th>site1</th>\n",
       "      <th>time1</th>\n",
       "      <th>site2</th>\n",
       "      <th>time2</th>\n",
       "      <th>site3</th>\n",
       "      <th>time3</th>\n",
       "      <th>site4</th>\n",
       "      <th>time4</th>\n",
       "      <th>site5</th>\n",
       "      <th>time5</th>\n",
       "      <th>...</th>\n",
       "      <th>time6</th>\n",
       "      <th>site7</th>\n",
       "      <th>time7</th>\n",
       "      <th>site8</th>\n",
       "      <th>time8</th>\n",
       "      <th>site9</th>\n",
       "      <th>time9</th>\n",
       "      <th>site10</th>\n",
       "      <th>time10</th>\n",
       "      <th>target</th>\n",
       "    </tr>\n",
       "    <tr>\n",
       "      <th>session_id</th>\n",
       "      <th></th>\n",
       "      <th></th>\n",
       "      <th></th>\n",
       "      <th></th>\n",
       "      <th></th>\n",
       "      <th></th>\n",
       "      <th></th>\n",
       "      <th></th>\n",
       "      <th></th>\n",
       "      <th></th>\n",
       "      <th></th>\n",
       "      <th></th>\n",
       "      <th></th>\n",
       "      <th></th>\n",
       "      <th></th>\n",
       "      <th></th>\n",
       "      <th></th>\n",
       "      <th></th>\n",
       "      <th></th>\n",
       "      <th></th>\n",
       "      <th></th>\n",
       "    </tr>\n",
       "  </thead>\n",
       "  <tbody>\n",
       "    <tr>\n",
       "      <th>21669</th>\n",
       "      <td>56</td>\n",
       "      <td>2013-01-12 08:05:57</td>\n",
       "      <td>55.0</td>\n",
       "      <td>2013-01-12 08:05:57</td>\n",
       "      <td>NaN</td>\n",
       "      <td>NaN</td>\n",
       "      <td>NaN</td>\n",
       "      <td>NaN</td>\n",
       "      <td>NaN</td>\n",
       "      <td>NaN</td>\n",
       "      <td>...</td>\n",
       "      <td>NaN</td>\n",
       "      <td>NaN</td>\n",
       "      <td>NaN</td>\n",
       "      <td>NaN</td>\n",
       "      <td>NaN</td>\n",
       "      <td>NaN</td>\n",
       "      <td>NaN</td>\n",
       "      <td>NaN</td>\n",
       "      <td>NaN</td>\n",
       "      <td>0</td>\n",
       "    </tr>\n",
       "    <tr>\n",
       "      <th>54843</th>\n",
       "      <td>56</td>\n",
       "      <td>2013-01-12 08:37:23</td>\n",
       "      <td>55.0</td>\n",
       "      <td>2013-01-12 08:37:23</td>\n",
       "      <td>56.0</td>\n",
       "      <td>2013-01-12 09:07:07</td>\n",
       "      <td>55.0</td>\n",
       "      <td>2013-01-12 09:07:09</td>\n",
       "      <td>NaN</td>\n",
       "      <td>NaN</td>\n",
       "      <td>...</td>\n",
       "      <td>NaN</td>\n",
       "      <td>NaN</td>\n",
       "      <td>NaN</td>\n",
       "      <td>NaN</td>\n",
       "      <td>NaN</td>\n",
       "      <td>NaN</td>\n",
       "      <td>NaN</td>\n",
       "      <td>NaN</td>\n",
       "      <td>NaN</td>\n",
       "      <td>0</td>\n",
       "    </tr>\n",
       "  </tbody>\n",
       "</table>\n",
       "<p>2 rows × 21 columns</p>\n",
       "</div>"
      ],
      "text/plain": [
       "            site1               time1  site2                time2  site3  \\\n",
       "session_id                                                                 \n",
       "21669          56 2013-01-12 08:05:57   55.0  2013-01-12 08:05:57    NaN   \n",
       "54843          56 2013-01-12 08:37:23   55.0  2013-01-12 08:37:23   56.0   \n",
       "\n",
       "                          time3  site4                time4  site5 time5  \\\n",
       "session_id                                                                 \n",
       "21669                       NaN    NaN                  NaN    NaN   NaN   \n",
       "54843       2013-01-12 09:07:07   55.0  2013-01-12 09:07:09    NaN   NaN   \n",
       "\n",
       "            ...    time6 site7  time7 site8  time8 site9  time9 site10  \\\n",
       "session_id  ...                                                          \n",
       "21669       ...      NaN   NaN    NaN   NaN    NaN   NaN    NaN    NaN   \n",
       "54843       ...      NaN   NaN    NaN   NaN    NaN   NaN    NaN    NaN   \n",
       "\n",
       "            time10 target  \n",
       "session_id                 \n",
       "21669          NaN      0  \n",
       "54843          NaN      0  \n",
       "\n",
       "[2 rows x 21 columns]"
      ]
     },
     "execution_count": 15,
     "metadata": {},
     "output_type": "execute_result"
    }
   ],
   "source": [
    "train_df = train_df.sort_values(by='time1')\n",
    "train_df.head(2)"
   ]
  },
  {
   "cell_type": "code",
   "execution_count": 16,
   "metadata": {
    "ExecuteTime": {
     "end_time": "2018-04-09T10:34:29.501269Z",
     "start_time": "2018-04-09T10:34:29.113050Z"
    }
   },
   "outputs": [
    {
     "name": "stdout",
     "output_type": "stream",
     "text": [
      "<class 'pandas.core.frame.DataFrame'>\n",
      "Int64Index: 253561 entries, 21669 to 204762\n",
      "Data columns (total 21 columns):\n",
      "site1     253561 non-null int64\n",
      "time1     253561 non-null datetime64[ns]\n",
      "site2     250098 non-null float64\n",
      "time2     250098 non-null object\n",
      "site3     246919 non-null float64\n",
      "time3     246919 non-null object\n",
      "site4     244321 non-null float64\n",
      "time4     244321 non-null object\n",
      "site5     241829 non-null float64\n",
      "time5     241829 non-null object\n",
      "site6     239495 non-null float64\n",
      "time6     239495 non-null object\n",
      "site7     237297 non-null float64\n",
      "time7     237297 non-null object\n",
      "site8     235224 non-null float64\n",
      "time8     235224 non-null object\n",
      "site9     233084 non-null float64\n",
      "time9     233084 non-null object\n",
      "site10    231052 non-null float64\n",
      "time10    231052 non-null object\n",
      "target    253561 non-null int64\n",
      "dtypes: datetime64[ns](1), float64(9), int64(2), object(9)\n",
      "memory usage: 42.6+ MB\n"
     ]
    }
   ],
   "source": [
    "train_df.info()"
   ]
  },
  {
   "cell_type": "markdown",
   "metadata": {},
   "source": [
    "Сессии ограничены количеством сайтов (10) или длительностью сессии (30 мин)\n",
    "\n",
    "Судя по входным данным, некоторые строки имеют пропуски, когда длительность сессии больше получаса."
   ]
  },
  {
   "cell_type": "markdown",
   "metadata": {},
   "source": [
    "Кроме train- и test- таблиц, у нас есть словарь всех сайтов site_dict:"
   ]
  },
  {
   "cell_type": "code",
   "execution_count": 17,
   "metadata": {
    "ExecuteTime": {
     "end_time": "2018-04-09T10:34:29.589209Z",
     "start_time": "2018-04-09T10:34:29.502995Z"
    }
   },
   "outputs": [
    {
     "name": "stdout",
     "output_type": "stream",
     "text": [
      "0.0-02.net                     24314\n",
      "0.56.web1.im.weibo.com         43357\n",
      "0.academia-assets.com          18340\n",
      "0.academia-photos.com          32767\n",
      "0.api.urban-rivals.com         35936\n",
      "0.client-channel.google.com    47984\n",
      "0.cyberprofs.com                1542\n",
      "0.docs.google.com                775\n",
      "0.drive.google.com               678\n",
      "0.envato-static.com            30517\n",
      "dtype: int64\n"
     ]
    },
    {
     "data": {
      "text/plain": [
       "'Длина словаря сайтов: 48371'"
      ]
     },
     "execution_count": 17,
     "metadata": {},
     "output_type": "execute_result"
    }
   ],
   "source": [
    "import pickle\n",
    "with open('capstone_user_identification/site_dic.pkl', 'rb') as sd:\n",
    "    site_dict = pickle.load(sd)\n",
    "print(pd.Series(site_dict)[:10])\n",
    "'Длина словаря сайтов: {}'.format(len(site_dict))"
   ]
  },
  {
   "cell_type": "markdown",
   "metadata": {},
   "source": [
    "Взглянем, насколько распределены объекты по классам в обучающей выборке:"
   ]
  },
  {
   "cell_type": "code",
   "execution_count": 18,
   "metadata": {
    "ExecuteTime": {
     "end_time": "2018-04-09T10:34:29.612266Z",
     "start_time": "2018-04-09T10:34:29.590999Z"
    }
   },
   "outputs": [
    {
     "data": {
      "text/html": [
       "<script>requirejs.config({paths: { 'plotly': ['https://cdn.plot.ly/plotly-latest.min']},});if(!window.Plotly) {{require(['plotly'],function(plotly) {window.Plotly=plotly;});}}</script>"
      ],
      "text/vnd.plotly.v1+html": [
       "<script>requirejs.config({paths: { 'plotly': ['https://cdn.plot.ly/plotly-latest.min']},});if(!window.Plotly) {{require(['plotly'],function(plotly) {window.Plotly=plotly;});}}</script>"
      ]
     },
     "metadata": {},
     "output_type": "display_data"
    },
    {
     "data": {
      "application/vnd.plotly.v1+json": {
       "data": [
        {
         "type": "bar",
         "uid": "551f3c",
         "x": [
          0,
          1
         ],
         "y": [
          251264,
          2297
         ]
        }
       ],
       "layout": {
        "autosize": true,
        "xaxis": {
         "autorange": true,
         "range": [
          -0.5,
          1.5
         ],
         "type": "linear"
        },
        "yaxis": {
         "autorange": true,
         "range": [
          0,
          264488.4210526316
         ],
         "type": "linear"
        }
       }
      },
      "text/html": [
       "<div id=\"769d827b-99ae-467c-a3eb-aaffd8ad507e\" style=\"height: 525px; width: 100%;\" class=\"plotly-graph-div\"></div><script type=\"text/javascript\">require([\"plotly\"], function(Plotly) { window.PLOTLYENV=window.PLOTLYENV || {};window.PLOTLYENV.BASE_URL=\"https://plot.ly\";Plotly.newPlot(\"769d827b-99ae-467c-a3eb-aaffd8ad507e\", [{\"type\": \"bar\", \"y\": [251264, 2297], \"x\": [0, 1]}], {}, {\"showLink\": true, \"linkText\": \"Export to plot.ly\"})});</script>"
      ],
      "text/vnd.plotly.v1+html": [
       "<div id=\"769d827b-99ae-467c-a3eb-aaffd8ad507e\" style=\"height: 525px; width: 100%;\" class=\"plotly-graph-div\"></div><script type=\"text/javascript\">require([\"plotly\"], function(Plotly) { window.PLOTLYENV=window.PLOTLYENV || {};window.PLOTLYENV.BASE_URL=\"https://plot.ly\";Plotly.newPlot(\"769d827b-99ae-467c-a3eb-aaffd8ad507e\", [{\"type\": \"bar\", \"y\": [251264, 2297], \"x\": [0, 1]}], {}, {\"showLink\": true, \"linkText\": \"Export to plot.ly\"})});</script>"
      ]
     },
     "metadata": {},
     "output_type": "display_data"
    }
   ],
   "source": [
    "from plotly import __version__\n",
    "from plotly.offline import download_plotlyjs, init_notebook_mode, plot, iplot\n",
    "import plotly.graph_objs as go\n",
    "\n",
    "init_notebook_mode(connected=True)\n",
    "\n",
    "data = [go.Bar(y=list(train_df.target.value_counts()), x=train_df.target.value_counts().index)]\n",
    "iplot(data)"
   ]
  },
  {
   "cell_type": "markdown",
   "metadata": {},
   "source": [
    "Видим, что в обучающей выборке классы очень несбалансированы: один класс больше другого примерно в сто раз."
   ]
  },
  {
   "cell_type": "markdown",
   "metadata": {},
   "source": [
    "Объеденим обучающую и тестовую выборки без меток класса, чтобы производить преобразования и добавление новых признаков:"
   ]
  },
  {
   "cell_type": "code",
   "execution_count": 19,
   "metadata": {
    "ExecuteTime": {
     "end_time": "2018-04-09T10:34:30.074565Z",
     "start_time": "2018-04-09T10:34:29.615125Z"
    }
   },
   "outputs": [
    {
     "data": {
      "text/plain": [
       "(336358, 20)"
      ]
     },
     "execution_count": 19,
     "metadata": {},
     "output_type": "execute_result"
    }
   ],
   "source": [
    "full_df = pd.concat([train_df.drop('target', axis=1), test_df])\n",
    "full_df.shape"
   ]
  },
  {
   "cell_type": "markdown",
   "metadata": {},
   "source": [
    "Выделим колонки сайтов и времени и поменяем тип колонок сайтов на int, заодно заменим пропуски сайтов на 0, так как нумерация сайтов в словаре site_dict начинается с единицы:"
   ]
  },
  {
   "cell_type": "code",
   "execution_count": 20,
   "metadata": {
    "ExecuteTime": {
     "end_time": "2018-04-09T10:34:30.495111Z",
     "start_time": "2018-04-09T10:34:30.076363Z"
    }
   },
   "outputs": [
    {
     "data": {
      "text/html": [
       "<div>\n",
       "<style scoped>\n",
       "    .dataframe tbody tr th:only-of-type {\n",
       "        vertical-align: middle;\n",
       "    }\n",
       "\n",
       "    .dataframe tbody tr th {\n",
       "        vertical-align: top;\n",
       "    }\n",
       "\n",
       "    .dataframe thead th {\n",
       "        text-align: right;\n",
       "    }\n",
       "</style>\n",
       "<table border=\"1\" class=\"dataframe\">\n",
       "  <thead>\n",
       "    <tr style=\"text-align: right;\">\n",
       "      <th></th>\n",
       "      <th>site1</th>\n",
       "      <th>site2</th>\n",
       "      <th>site3</th>\n",
       "      <th>site4</th>\n",
       "      <th>site5</th>\n",
       "      <th>site6</th>\n",
       "      <th>site7</th>\n",
       "      <th>site8</th>\n",
       "      <th>site9</th>\n",
       "      <th>site10</th>\n",
       "    </tr>\n",
       "    <tr>\n",
       "      <th>session_id</th>\n",
       "      <th></th>\n",
       "      <th></th>\n",
       "      <th></th>\n",
       "      <th></th>\n",
       "      <th></th>\n",
       "      <th></th>\n",
       "      <th></th>\n",
       "      <th></th>\n",
       "      <th></th>\n",
       "      <th></th>\n",
       "    </tr>\n",
       "  </thead>\n",
       "  <tbody>\n",
       "    <tr>\n",
       "      <th>21669</th>\n",
       "      <td>56</td>\n",
       "      <td>55</td>\n",
       "      <td>0</td>\n",
       "      <td>0</td>\n",
       "      <td>0</td>\n",
       "      <td>0</td>\n",
       "      <td>0</td>\n",
       "      <td>0</td>\n",
       "      <td>0</td>\n",
       "      <td>0</td>\n",
       "    </tr>\n",
       "    <tr>\n",
       "      <th>54843</th>\n",
       "      <td>56</td>\n",
       "      <td>55</td>\n",
       "      <td>56</td>\n",
       "      <td>55</td>\n",
       "      <td>0</td>\n",
       "      <td>0</td>\n",
       "      <td>0</td>\n",
       "      <td>0</td>\n",
       "      <td>0</td>\n",
       "      <td>0</td>\n",
       "    </tr>\n",
       "    <tr>\n",
       "      <th>77292</th>\n",
       "      <td>946</td>\n",
       "      <td>946</td>\n",
       "      <td>951</td>\n",
       "      <td>946</td>\n",
       "      <td>946</td>\n",
       "      <td>945</td>\n",
       "      <td>948</td>\n",
       "      <td>784</td>\n",
       "      <td>949</td>\n",
       "      <td>946</td>\n",
       "    </tr>\n",
       "  </tbody>\n",
       "</table>\n",
       "</div>"
      ],
      "text/plain": [
       "            site1  site2  site3  site4  site5  site6  site7  site8  site9  \\\n",
       "session_id                                                                  \n",
       "21669          56     55      0      0      0      0      0      0      0   \n",
       "54843          56     55     56     55      0      0      0      0      0   \n",
       "77292         946    946    951    946    946    945    948    784    949   \n",
       "\n",
       "            site10  \n",
       "session_id          \n",
       "21669            0  \n",
       "54843            0  \n",
       "77292          946  "
      ]
     },
     "execution_count": 20,
     "metadata": {},
     "output_type": "execute_result"
    }
   ],
   "source": [
    "time_cols = ['time%s' % i for i in range(1, 11)]\n",
    "site_cols = ['site%s' % i for i in range(1, 11)]\n",
    "train_df[site_cols] = train_df[site_cols].fillna(0).astype(int)\n",
    "full_df[site_cols] = full_df[site_cols].fillna(0).astype(int)\n",
    "idx = train_df.shape[0]\n",
    "full_df[site_cols].head(3)"
   ]
  },
  {
   "cell_type": "code",
   "execution_count": 21,
   "metadata": {
    "ExecuteTime": {
     "end_time": "2018-04-09T10:34:30.537246Z",
     "start_time": "2018-04-09T10:34:30.497150Z"
    }
   },
   "outputs": [
    {
     "data": {
      "text/html": [
       "<div>\n",
       "<style scoped>\n",
       "    .dataframe tbody tr th:only-of-type {\n",
       "        vertical-align: middle;\n",
       "    }\n",
       "\n",
       "    .dataframe tbody tr th {\n",
       "        vertical-align: top;\n",
       "    }\n",
       "\n",
       "    .dataframe thead th {\n",
       "        text-align: right;\n",
       "    }\n",
       "</style>\n",
       "<table border=\"1\" class=\"dataframe\">\n",
       "  <thead>\n",
       "    <tr style=\"text-align: right;\">\n",
       "      <th></th>\n",
       "      <th>site1</th>\n",
       "      <th>site2</th>\n",
       "      <th>site3</th>\n",
       "      <th>site4</th>\n",
       "      <th>site5</th>\n",
       "      <th>site6</th>\n",
       "      <th>site7</th>\n",
       "      <th>site8</th>\n",
       "      <th>site9</th>\n",
       "      <th>site10</th>\n",
       "    </tr>\n",
       "    <tr>\n",
       "      <th>session_id</th>\n",
       "      <th></th>\n",
       "      <th></th>\n",
       "      <th></th>\n",
       "      <th></th>\n",
       "      <th></th>\n",
       "      <th></th>\n",
       "      <th></th>\n",
       "      <th></th>\n",
       "      <th></th>\n",
       "      <th></th>\n",
       "    </tr>\n",
       "  </thead>\n",
       "  <tbody>\n",
       "    <tr>\n",
       "      <th>1</th>\n",
       "      <td>29</td>\n",
       "      <td>35</td>\n",
       "      <td>22</td>\n",
       "      <td>321</td>\n",
       "      <td>23</td>\n",
       "      <td>2211</td>\n",
       "      <td>6730</td>\n",
       "      <td>21</td>\n",
       "      <td>44582</td>\n",
       "      <td>15336</td>\n",
       "    </tr>\n",
       "    <tr>\n",
       "      <th>2</th>\n",
       "      <td>782</td>\n",
       "      <td>782</td>\n",
       "      <td>782</td>\n",
       "      <td>782</td>\n",
       "      <td>782</td>\n",
       "      <td>782</td>\n",
       "      <td>782</td>\n",
       "      <td>782</td>\n",
       "      <td>782</td>\n",
       "      <td>782</td>\n",
       "    </tr>\n",
       "    <tr>\n",
       "      <th>3</th>\n",
       "      <td>55</td>\n",
       "      <td>55</td>\n",
       "      <td>55</td>\n",
       "      <td>55</td>\n",
       "      <td>55</td>\n",
       "      <td>55</td>\n",
       "      <td>55</td>\n",
       "      <td>55</td>\n",
       "      <td>1445</td>\n",
       "      <td>1445</td>\n",
       "    </tr>\n",
       "  </tbody>\n",
       "</table>\n",
       "</div>"
      ],
      "text/plain": [
       "            site1  site2  site3  site4  site5  site6  site7  site8  site9  \\\n",
       "session_id                                                                  \n",
       "1              29     35     22    321     23   2211   6730     21  44582   \n",
       "2             782    782    782    782    782    782    782    782    782   \n",
       "3              55     55     55     55     55     55     55     55   1445   \n",
       "\n",
       "            site10  \n",
       "session_id          \n",
       "1            15336  \n",
       "2              782  \n",
       "3             1445  "
      ]
     },
     "execution_count": 21,
     "metadata": {},
     "output_type": "execute_result"
    }
   ],
   "source": [
    "test_df[site_cols] = test_df[site_cols].fillna(0).astype(int)\n",
    "test_df[site_cols].head(3)"
   ]
  },
  {
   "cell_type": "markdown",
   "metadata": {},
   "source": [
    "### Трансформация временных меток в интервалы времени"
   ]
  },
  {
   "cell_type": "code",
   "execution_count": 22,
   "metadata": {
    "ExecuteTime": {
     "end_time": "2018-04-09T10:34:34.695965Z",
     "start_time": "2018-04-09T10:34:30.539172Z"
    }
   },
   "outputs": [],
   "source": [
    "import numpy as np\n",
    "stamps = full_df[time_cols].apply(pd.to_datetime)\n",
    "for t in stamps[:-1]:\n",
    "    stamps[t] = np.log1p((stamps.shift(-1, axis=1)[t] - stamps[t])/np.timedelta64(1,'s'))\n",
    "stamps.drop('time10', axis=1, inplace=True)"
   ]
  },
  {
   "cell_type": "code",
   "execution_count": 23,
   "metadata": {
    "ExecuteTime": {
     "end_time": "2018-04-09T10:34:34.719817Z",
     "start_time": "2018-04-09T10:34:34.698131Z"
    }
   },
   "outputs": [
    {
     "data": {
      "text/html": [
       "<div>\n",
       "<style scoped>\n",
       "    .dataframe tbody tr th:only-of-type {\n",
       "        vertical-align: middle;\n",
       "    }\n",
       "\n",
       "    .dataframe tbody tr th {\n",
       "        vertical-align: top;\n",
       "    }\n",
       "\n",
       "    .dataframe thead th {\n",
       "        text-align: right;\n",
       "    }\n",
       "</style>\n",
       "<table border=\"1\" class=\"dataframe\">\n",
       "  <thead>\n",
       "    <tr style=\"text-align: right;\">\n",
       "      <th></th>\n",
       "      <th>time1</th>\n",
       "      <th>time2</th>\n",
       "      <th>time3</th>\n",
       "      <th>time4</th>\n",
       "      <th>time5</th>\n",
       "      <th>time6</th>\n",
       "      <th>time7</th>\n",
       "      <th>time8</th>\n",
       "      <th>time9</th>\n",
       "    </tr>\n",
       "    <tr>\n",
       "      <th>session_id</th>\n",
       "      <th></th>\n",
       "      <th></th>\n",
       "      <th></th>\n",
       "      <th></th>\n",
       "      <th></th>\n",
       "      <th></th>\n",
       "      <th></th>\n",
       "      <th></th>\n",
       "      <th></th>\n",
       "    </tr>\n",
       "  </thead>\n",
       "  <tbody>\n",
       "    <tr>\n",
       "      <th>21669</th>\n",
       "      <td>0.000000</td>\n",
       "      <td>NaN</td>\n",
       "      <td>NaN</td>\n",
       "      <td>NaN</td>\n",
       "      <td>NaN</td>\n",
       "      <td>NaN</td>\n",
       "      <td>NaN</td>\n",
       "      <td>NaN</td>\n",
       "      <td>NaN</td>\n",
       "    </tr>\n",
       "    <tr>\n",
       "      <th>54843</th>\n",
       "      <td>0.000000</td>\n",
       "      <td>7.487174</td>\n",
       "      <td>1.098612</td>\n",
       "      <td>NaN</td>\n",
       "      <td>NaN</td>\n",
       "      <td>NaN</td>\n",
       "      <td>NaN</td>\n",
       "      <td>NaN</td>\n",
       "      <td>NaN</td>\n",
       "    </tr>\n",
       "    <tr>\n",
       "      <th>77292</th>\n",
       "      <td>0.693147</td>\n",
       "      <td>0.693147</td>\n",
       "      <td>0.000000</td>\n",
       "      <td>0.693147</td>\n",
       "      <td>0.0</td>\n",
       "      <td>0.000000</td>\n",
       "      <td>0.000000</td>\n",
       "      <td>0.693147</td>\n",
       "      <td>0.000000</td>\n",
       "    </tr>\n",
       "    <tr>\n",
       "      <th>114021</th>\n",
       "      <td>0.000000</td>\n",
       "      <td>0.693147</td>\n",
       "      <td>0.000000</td>\n",
       "      <td>0.000000</td>\n",
       "      <td>0.0</td>\n",
       "      <td>0.693147</td>\n",
       "      <td>0.000000</td>\n",
       "      <td>0.000000</td>\n",
       "      <td>0.693147</td>\n",
       "    </tr>\n",
       "    <tr>\n",
       "      <th>146670</th>\n",
       "      <td>0.000000</td>\n",
       "      <td>0.000000</td>\n",
       "      <td>0.693147</td>\n",
       "      <td>0.000000</td>\n",
       "      <td>0.0</td>\n",
       "      <td>0.000000</td>\n",
       "      <td>0.693147</td>\n",
       "      <td>0.000000</td>\n",
       "      <td>0.000000</td>\n",
       "    </tr>\n",
       "  </tbody>\n",
       "</table>\n",
       "</div>"
      ],
      "text/plain": [
       "               time1     time2     time3     time4  time5     time6     time7  \\\n",
       "session_id                                                                      \n",
       "21669       0.000000       NaN       NaN       NaN    NaN       NaN       NaN   \n",
       "54843       0.000000  7.487174  1.098612       NaN    NaN       NaN       NaN   \n",
       "77292       0.693147  0.693147  0.000000  0.693147    0.0  0.000000  0.000000   \n",
       "114021      0.000000  0.693147  0.000000  0.000000    0.0  0.693147  0.000000   \n",
       "146670      0.000000  0.000000  0.693147  0.000000    0.0  0.000000  0.693147   \n",
       "\n",
       "               time8     time9  \n",
       "session_id                      \n",
       "21669            NaN       NaN  \n",
       "54843            NaN       NaN  \n",
       "77292       0.693147  0.000000  \n",
       "114021      0.000000  0.693147  \n",
       "146670      0.000000  0.000000  "
      ]
     },
     "execution_count": 23,
     "metadata": {},
     "output_type": "execute_result"
    }
   ],
   "source": [
    "stamps.head()"
   ]
  },
  {
   "cell_type": "markdown",
   "metadata": {},
   "source": [
    "Добавим в additional_data_df столбец timespan - разница между первым и последним сайтом в сессии."
   ]
  },
  {
   "cell_type": "markdown",
   "metadata": {},
   "source": [
    "## Генерация новых признаков"
   ]
  },
  {
   "cell_type": "code",
   "execution_count": 24,
   "metadata": {
    "ExecuteTime": {
     "end_time": "2018-04-09T10:34:34.788494Z",
     "start_time": "2018-04-09T10:34:34.721640Z"
    }
   },
   "outputs": [],
   "source": [
    "additional_data_df = pd.DataFrame(index = full_df.index)"
   ]
  },
  {
   "cell_type": "markdown",
   "metadata": {},
   "source": [
    "### Количество уникальных сайтов в сессиях"
   ]
  },
  {
   "cell_type": "markdown",
   "metadata": {},
   "source": [
    "Посмотрим на распределение количества уникальных сайтов в сессиях, и как оно различается в зависимости от пользователя:"
   ]
  },
  {
   "cell_type": "code",
   "execution_count": 25,
   "metadata": {
    "ExecuteTime": {
     "end_time": "2018-04-09T10:34:34.875901Z",
     "start_time": "2018-04-09T10:34:34.790511Z"
    }
   },
   "outputs": [
    {
     "data": {
      "text/plain": [
       "session_id\n",
       "21669     2\n",
       "54843     2\n",
       "77292     6\n",
       "114021    5\n",
       "146670    6\n",
       "dtype: int64"
      ]
     },
     "execution_count": 25,
     "metadata": {},
     "output_type": "execute_result"
    }
   ],
   "source": [
    "train_df[site_cols].head(5).apply(lambda x: len(np.unique(x[x!=0])), axis=1)"
   ]
  },
  {
   "cell_type": "code",
   "execution_count": 26,
   "metadata": {
    "ExecuteTime": {
     "end_time": "2018-04-09T10:34:34.942316Z",
     "start_time": "2018-04-09T10:34:34.878440Z"
    }
   },
   "outputs": [
    {
     "data": {
      "text/html": [
       "<div>\n",
       "<style scoped>\n",
       "    .dataframe tbody tr th:only-of-type {\n",
       "        vertical-align: middle;\n",
       "    }\n",
       "\n",
       "    .dataframe tbody tr th {\n",
       "        vertical-align: top;\n",
       "    }\n",
       "\n",
       "    .dataframe thead th {\n",
       "        text-align: right;\n",
       "    }\n",
       "</style>\n",
       "<table border=\"1\" class=\"dataframe\">\n",
       "  <thead>\n",
       "    <tr style=\"text-align: right;\">\n",
       "      <th></th>\n",
       "      <th>site1</th>\n",
       "      <th>site2</th>\n",
       "      <th>site3</th>\n",
       "      <th>site4</th>\n",
       "      <th>site5</th>\n",
       "      <th>site6</th>\n",
       "      <th>site7</th>\n",
       "      <th>site8</th>\n",
       "      <th>site9</th>\n",
       "      <th>site10</th>\n",
       "    </tr>\n",
       "    <tr>\n",
       "      <th>session_id</th>\n",
       "      <th></th>\n",
       "      <th></th>\n",
       "      <th></th>\n",
       "      <th></th>\n",
       "      <th></th>\n",
       "      <th></th>\n",
       "      <th></th>\n",
       "      <th></th>\n",
       "      <th></th>\n",
       "      <th></th>\n",
       "    </tr>\n",
       "  </thead>\n",
       "  <tbody>\n",
       "    <tr>\n",
       "      <th>21669</th>\n",
       "      <td>56</td>\n",
       "      <td>55</td>\n",
       "      <td>0</td>\n",
       "      <td>0</td>\n",
       "      <td>0</td>\n",
       "      <td>0</td>\n",
       "      <td>0</td>\n",
       "      <td>0</td>\n",
       "      <td>0</td>\n",
       "      <td>0</td>\n",
       "    </tr>\n",
       "    <tr>\n",
       "      <th>54843</th>\n",
       "      <td>56</td>\n",
       "      <td>55</td>\n",
       "      <td>56</td>\n",
       "      <td>55</td>\n",
       "      <td>0</td>\n",
       "      <td>0</td>\n",
       "      <td>0</td>\n",
       "      <td>0</td>\n",
       "      <td>0</td>\n",
       "      <td>0</td>\n",
       "    </tr>\n",
       "    <tr>\n",
       "      <th>77292</th>\n",
       "      <td>946</td>\n",
       "      <td>946</td>\n",
       "      <td>951</td>\n",
       "      <td>946</td>\n",
       "      <td>946</td>\n",
       "      <td>945</td>\n",
       "      <td>948</td>\n",
       "      <td>784</td>\n",
       "      <td>949</td>\n",
       "      <td>946</td>\n",
       "    </tr>\n",
       "    <tr>\n",
       "      <th>114021</th>\n",
       "      <td>945</td>\n",
       "      <td>948</td>\n",
       "      <td>949</td>\n",
       "      <td>948</td>\n",
       "      <td>945</td>\n",
       "      <td>946</td>\n",
       "      <td>947</td>\n",
       "      <td>945</td>\n",
       "      <td>946</td>\n",
       "      <td>946</td>\n",
       "    </tr>\n",
       "    <tr>\n",
       "      <th>146670</th>\n",
       "      <td>947</td>\n",
       "      <td>950</td>\n",
       "      <td>948</td>\n",
       "      <td>947</td>\n",
       "      <td>950</td>\n",
       "      <td>952</td>\n",
       "      <td>946</td>\n",
       "      <td>951</td>\n",
       "      <td>946</td>\n",
       "      <td>947</td>\n",
       "    </tr>\n",
       "  </tbody>\n",
       "</table>\n",
       "</div>"
      ],
      "text/plain": [
       "            site1  site2  site3  site4  site5  site6  site7  site8  site9  \\\n",
       "session_id                                                                  \n",
       "21669          56     55      0      0      0      0      0      0      0   \n",
       "54843          56     55     56     55      0      0      0      0      0   \n",
       "77292         946    946    951    946    946    945    948    784    949   \n",
       "114021        945    948    949    948    945    946    947    945    946   \n",
       "146670        947    950    948    947    950    952    946    951    946   \n",
       "\n",
       "            site10  \n",
       "session_id          \n",
       "21669            0  \n",
       "54843            0  \n",
       "77292          946  \n",
       "114021         946  \n",
       "146670         947  "
      ]
     },
     "execution_count": 26,
     "metadata": {},
     "output_type": "execute_result"
    }
   ],
   "source": [
    "train_df[site_cols].head(5)"
   ]
  },
  {
   "cell_type": "code",
   "execution_count": 27,
   "metadata": {
    "ExecuteTime": {
     "end_time": "2018-04-09T10:36:04.439694Z",
     "start_time": "2018-04-09T10:34:34.945852Z"
    }
   },
   "outputs": [
    {
     "data": {
      "text/html": [
       "<div>\n",
       "<style scoped>\n",
       "    .dataframe tbody tr th:only-of-type {\n",
       "        vertical-align: middle;\n",
       "    }\n",
       "\n",
       "    .dataframe tbody tr th {\n",
       "        vertical-align: top;\n",
       "    }\n",
       "\n",
       "    .dataframe thead th {\n",
       "        text-align: right;\n",
       "    }\n",
       "</style>\n",
       "<table border=\"1\" class=\"dataframe\">\n",
       "  <thead>\n",
       "    <tr style=\"text-align: right;\">\n",
       "      <th></th>\n",
       "      <th>nunique_site_count</th>\n",
       "      <th>target</th>\n",
       "    </tr>\n",
       "    <tr>\n",
       "      <th>session_id</th>\n",
       "      <th></th>\n",
       "      <th></th>\n",
       "    </tr>\n",
       "  </thead>\n",
       "  <tbody>\n",
       "    <tr>\n",
       "      <th>21669</th>\n",
       "      <td>2</td>\n",
       "      <td>0</td>\n",
       "    </tr>\n",
       "    <tr>\n",
       "      <th>54843</th>\n",
       "      <td>2</td>\n",
       "      <td>0</td>\n",
       "    </tr>\n",
       "    <tr>\n",
       "      <th>77292</th>\n",
       "      <td>6</td>\n",
       "      <td>0</td>\n",
       "    </tr>\n",
       "    <tr>\n",
       "      <th>114021</th>\n",
       "      <td>5</td>\n",
       "      <td>0</td>\n",
       "    </tr>\n",
       "    <tr>\n",
       "      <th>146670</th>\n",
       "      <td>6</td>\n",
       "      <td>0</td>\n",
       "    </tr>\n",
       "  </tbody>\n",
       "</table>\n",
       "</div>"
      ],
      "text/plain": [
       "            nunique_site_count  target\n",
       "session_id                            \n",
       "21669                        2       0\n",
       "54843                        2       0\n",
       "77292                        6       0\n",
       "114021                       5       0\n",
       "146670                       6       0"
      ]
     },
     "execution_count": 27,
     "metadata": {},
     "output_type": "execute_result"
    }
   ],
   "source": [
    "unique_count_sites_df = pd.DataFrame({'nunique_site_count' : train_df[site_cols].apply(lambda x: len(np.unique(x[x!=0])), axis=1), 'target' : train_df.target})\n",
    "unique_count_sites_df.head()"
   ]
  },
  {
   "cell_type": "code",
   "execution_count": 28,
   "metadata": {
    "ExecuteTime": {
     "end_time": "2018-04-09T10:36:04.476292Z",
     "start_time": "2018-04-09T10:36:04.442797Z"
    }
   },
   "outputs": [
    {
     "data": {
      "application/vnd.plotly.v1+json": {
       "data": [
        {
         "name": "target 0",
         "type": "bar",
         "uid": "3ad646",
         "x": [
          7,
          6,
          8,
          5,
          4,
          9,
          3,
          2,
          1,
          10
         ],
         "y": [
          37185,
          35332,
          33203,
          30763,
          23162,
          22855,
          21004,
          20446,
          16830,
          10484
         ]
        },
        {
         "name": "target 1",
         "type": "bar",
         "uid": "a854d0",
         "x": [
          7,
          5,
          6,
          8,
          4,
          9,
          3,
          2,
          10,
          1
         ],
         "y": [
          467,
          368,
          368,
          335,
          240,
          206,
          141,
          78,
          61,
          33
         ]
        }
       ],
       "layout": {
        "autosize": true,
        "title": "Distributions of amount of unique sites in sessions",
        "xaxis": {
         "autorange": true,
         "range": [
          0.5,
          10.5
         ],
         "type": "linear"
        },
        "yaxis": {
         "autorange": true,
         "range": [
          0,
          39142.10526315789
         ],
         "type": "linear"
        }
       }
      },
      "text/html": [
       "<div id=\"e1bdcf54-1dbf-405b-9498-7a6b25d53de4\" style=\"height: 525px; width: 100%;\" class=\"plotly-graph-div\"></div><script type=\"text/javascript\">require([\"plotly\"], function(Plotly) { window.PLOTLYENV=window.PLOTLYENV || {};window.PLOTLYENV.BASE_URL=\"https://plot.ly\";Plotly.newPlot(\"e1bdcf54-1dbf-405b-9498-7a6b25d53de4\", [{\"type\": \"bar\", \"x\": [7, 6, 8, 5, 4, 9, 3, 2, 1, 10], \"y\": [37185, 35332, 33203, 30763, 23162, 22855, 21004, 20446, 16830, 10484], \"name\": \"target 0\"}, {\"type\": \"bar\", \"x\": [7, 5, 6, 8, 4, 9, 3, 2, 10, 1], \"y\": [467, 368, 368, 335, 240, 206, 141, 78, 61, 33], \"name\": \"target 1\"}], {\"title\": \"Distributions of amount of unique sites in sessions\"}, {\"showLink\": true, \"linkText\": \"Export to plot.ly\"})});</script>"
      ],
      "text/vnd.plotly.v1+html": [
       "<div id=\"e1bdcf54-1dbf-405b-9498-7a6b25d53de4\" style=\"height: 525px; width: 100%;\" class=\"plotly-graph-div\"></div><script type=\"text/javascript\">require([\"plotly\"], function(Plotly) { window.PLOTLYENV=window.PLOTLYENV || {};window.PLOTLYENV.BASE_URL=\"https://plot.ly\";Plotly.newPlot(\"e1bdcf54-1dbf-405b-9498-7a6b25d53de4\", [{\"type\": \"bar\", \"x\": [7, 6, 8, 5, 4, 9, 3, 2, 1, 10], \"y\": [37185, 35332, 33203, 30763, 23162, 22855, 21004, 20446, 16830, 10484], \"name\": \"target 0\"}, {\"type\": \"bar\", \"x\": [7, 5, 6, 8, 4, 9, 3, 2, 10, 1], \"y\": [467, 368, 368, 335, 240, 206, 141, 78, 61, 33], \"name\": \"target 1\"}], {\"title\": \"Distributions of amount of unique sites in sessions\"}, {\"showLink\": true, \"linkText\": \"Export to plot.ly\"})});</script>"
      ]
     },
     "metadata": {},
     "output_type": "display_data"
    }
   ],
   "source": [
    "data4 = [ go.Bar(\n",
    "    x=unique_count_sites_df[unique_count_sites_df.target == 0]['nunique_site_count'].value_counts().index,\n",
    "    y=unique_count_sites_df[unique_count_sites_df.target == 0]['nunique_site_count'].value_counts(),\n",
    "    name='target 0'\n",
    "), go.Bar(\n",
    "    x=unique_count_sites_df[unique_count_sites_df.target == 1]['nunique_site_count'].value_counts().index,\n",
    "    y=unique_count_sites_df[unique_count_sites_df.target == 1]['nunique_site_count'].value_counts(),\n",
    "    name='target 1'\n",
    ")]\n",
    "layout = {'title': 'Distributions of amount of unique sites in sessions'}\n",
    "fig = go.Figure(data=data4, layout=layout)\n",
    "iplot(fig)"
   ]
  },
  {
   "cell_type": "markdown",
   "metadata": {},
   "source": [
    "Добавим столбец 'nunique' в датафрейм additional_data_df:"
   ]
  },
  {
   "cell_type": "code",
   "execution_count": 29,
   "metadata": {
    "ExecuteTime": {
     "end_time": "2018-04-09T10:37:56.852132Z",
     "start_time": "2018-04-09T10:36:04.478623Z"
    }
   },
   "outputs": [],
   "source": [
    "#del unique_count_sites_df\n",
    "additional_data_df['nunique'] = full_df[site_cols].apply(lambda x: len(np.unique(x[x!=0])), axis=1)"
   ]
  },
  {
   "cell_type": "markdown",
   "metadata": {},
   "source": [
    "### Индикаторы популярных сайтов в сессии"
   ]
  },
  {
   "cell_type": "markdown",
   "metadata": {},
   "source": [
    "#### Найдем наиболее популярные сайты в обучающей выборке среди всех пользователей"
   ]
  },
  {
   "cell_type": "code",
   "execution_count": 30,
   "metadata": {
    "ExecuteTime": {
     "end_time": "2018-04-09T10:37:56.909815Z",
     "start_time": "2018-04-09T10:37:56.853681Z"
    }
   },
   "outputs": [
    {
     "data": {
      "text/plain": [
       "21     123776\n",
       "0      122730\n",
       "23      87619\n",
       "782     77055\n",
       "22      58258\n",
       "29      54094\n",
       "167     46405\n",
       "780     43841\n",
       "778     38194\n",
       "52      36085\n",
       "dtype: int64"
      ]
     },
     "execution_count": 30,
     "metadata": {},
     "output_type": "execute_result"
    }
   ],
   "source": [
    "top_sites = pd.Series(train_df[site_cols].values.flatten()\n",
    "                     ).value_counts().sort_values(ascending=False).head(10)\n",
    "top_sites"
   ]
  },
  {
   "cell_type": "code",
   "execution_count": 31,
   "metadata": {
    "ExecuteTime": {
     "end_time": "2018-04-09T10:37:56.939564Z",
     "start_time": "2018-04-09T10:37:56.911950Z"
    }
   },
   "outputs": [
    {
     "data": {
      "text/plain": [
       "122730"
      ]
     },
     "execution_count": 31,
     "metadata": {},
     "output_type": "execute_result"
    }
   ],
   "source": [
    "#удалим из этого списка 0, которым заменили пропуски\n",
    "top_sites.pop(0)"
   ]
  },
  {
   "cell_type": "code",
   "execution_count": 32,
   "metadata": {
    "ExecuteTime": {
     "end_time": "2018-04-09T10:37:57.036566Z",
     "start_time": "2018-04-09T10:37:56.941461Z"
    }
   },
   "outputs": [
    {
     "name": "stdout",
     "output_type": "stream",
     "text": [
      "www.google.fr\n",
      "www.google.com\n",
      "annotathon.org\n",
      "apis.google.com\n",
      "www.facebook.com\n",
      "www.bing.com\n",
      "blast.ncbi.nlm.nih.gov\n",
      "www.ncbi.nlm.nih.gov\n",
      "clients1.google.com\n"
     ]
    }
   ],
   "source": [
    "top_site_names = []\n",
    "for s in top_sites.index:\n",
    "    top_site_names.append(list(site_dict.keys())[list(site_dict.values()).index(s)])\n",
    "    print(top_site_names[-1])"
   ]
  },
  {
   "cell_type": "code",
   "execution_count": 33,
   "metadata": {
    "ExecuteTime": {
     "end_time": "2018-04-09T10:37:57.123756Z",
     "start_time": "2018-04-09T10:37:57.039193Z"
    }
   },
   "outputs": [
    {
     "data": {
      "text/plain": [
       "77     1382\n",
       "80     1354\n",
       "76     1307\n",
       "29      897\n",
       "21      857\n",
       "81      609\n",
       "879     522\n",
       "22      522\n",
       "75      451\n",
       "82      447\n",
       "dtype: int64"
      ]
     },
     "execution_count": 33,
     "metadata": {},
     "output_type": "execute_result"
    }
   ],
   "source": [
    "# Alice's preferences\n",
    "top_sites_alice = pd.Series(train_df[train_df.target==1][site_cols].values.flatten()\n",
    "                           ).value_counts().sort_values(ascending=False).head(10)\n",
    "top_sites_alice"
   ]
  },
  {
   "cell_type": "markdown",
   "metadata": {},
   "source": [
    "Заметим, что сайты 21, 22 и 29 находятся в топе популярных и у Alice, и у остальных пользователей."
   ]
  },
  {
   "cell_type": "markdown",
   "metadata": {},
   "source": [
    "Посмотрим, как часто встречаются сайты, популярные у Alice, среди всех сессий выборки:"
   ]
  },
  {
   "cell_type": "code",
   "execution_count": 34,
   "metadata": {
    "ExecuteTime": {
     "end_time": "2018-04-09T10:37:58.987864Z",
     "start_time": "2018-04-09T10:37:57.125567Z"
    }
   },
   "outputs": [],
   "source": [
    "alices_pop_sites=[]\n",
    "for s in top_sites_alice.index:\n",
    "    alices_pop_sites.append(len(train_df[train_df.target==0][site_cols].values.flatten()[train_df[train_df.target==0][site_cols].values.flatten()==s]))"
   ]
  },
  {
   "cell_type": "code",
   "execution_count": 35,
   "metadata": {
    "ExecuteTime": {
     "end_time": "2018-04-09T10:37:59.915870Z",
     "start_time": "2018-04-09T10:37:58.989987Z"
    }
   },
   "outputs": [],
   "source": [
    "alices_top_names = []\n",
    "for s in top_sites_alice.index:\n",
    "    alices_top_names.append(list(site_dict.keys())[list(site_dict.values()).index(s)])"
   ]
  },
  {
   "cell_type": "code",
   "execution_count": 36,
   "metadata": {
    "ExecuteTime": {
     "end_time": "2018-04-09T10:37:59.988143Z",
     "start_time": "2018-04-09T10:37:59.918382Z"
    }
   },
   "outputs": [
    {
     "data": {
      "text/plain": [
       "['i1.ytimg.com',\n",
       " 's.youtube.com',\n",
       " 'www.youtube.com',\n",
       " 'www.facebook.com',\n",
       " 'www.google.fr',\n",
       " 'r4---sn-gxo5uxg-jqbe.googlevideo.com',\n",
       " 'r1---sn-gxo5uxg-jqbe.googlevideo.com',\n",
       " 'apis.google.com',\n",
       " 's.ytimg.com',\n",
       " 'r2---sn-gxo5uxg-jqbe.googlevideo.com']"
      ]
     },
     "execution_count": 36,
     "metadata": {},
     "output_type": "execute_result"
    }
   ],
   "source": [
    "alices_top_names"
   ]
  },
  {
   "cell_type": "code",
   "execution_count": 37,
   "metadata": {
    "ExecuteTime": {
     "end_time": "2018-04-09T10:38:00.057554Z",
     "start_time": "2018-04-09T10:37:59.992577Z"
    }
   },
   "outputs": [
    {
     "data": {
      "application/vnd.plotly.v1+json": {
       "data": [
        {
         "name": "among Alice",
         "type": "bar",
         "uid": "80498e",
         "x": [
          "i1.ytimg.com",
          "s.youtube.com",
          "www.youtube.com",
          "www.facebook.com",
          "www.google.fr",
          "r4---sn-gxo5uxg-jqbe.googlevideo.com",
          "r1---sn-gxo5uxg-jqbe.googlevideo.com",
          "apis.google.com",
          "s.ytimg.com",
          "r2---sn-gxo5uxg-jqbe.googlevideo.com"
         ],
         "y": [
          1382,
          1354,
          1307,
          897,
          857,
          609,
          522,
          522,
          451,
          447
         ]
        },
        {
         "name": "among all another",
         "type": "bar",
         "uid": "dd2193",
         "x": [
          "i1.ytimg.com",
          "s.youtube.com",
          "www.youtube.com",
          "www.facebook.com",
          "www.google.fr",
          "r4---sn-gxo5uxg-jqbe.googlevideo.com",
          "r1---sn-gxo5uxg-jqbe.googlevideo.com",
          "apis.google.com",
          "s.ytimg.com",
          "r2---sn-gxo5uxg-jqbe.googlevideo.com"
         ],
         "y": [
          15888,
          30037,
          19615,
          53197,
          122919,
          7457,
          8160,
          57736,
          9654,
          7737
         ]
        }
       ],
       "layout": {
        "autosize": true,
        "title": "Distribution of alices most popular sites",
        "xaxis": {
         "autorange": true,
         "range": [
          -0.5,
          9.5
         ],
         "type": "category"
        },
        "yaxis": {
         "autorange": true,
         "range": [
          0,
          129388.42105263157
         ],
         "type": "linear"
        }
       }
      },
      "text/html": [
       "<div id=\"f744d383-5747-4a11-89fd-03f76a9772ce\" style=\"height: 525px; width: 100%;\" class=\"plotly-graph-div\"></div><script type=\"text/javascript\">require([\"plotly\"], function(Plotly) { window.PLOTLYENV=window.PLOTLYENV || {};window.PLOTLYENV.BASE_URL=\"https://plot.ly\";Plotly.newPlot(\"f744d383-5747-4a11-89fd-03f76a9772ce\", [{\"type\": \"bar\", \"y\": [1382, 1354, 1307, 897, 857, 609, 522, 522, 451, 447], \"x\": [\"i1.ytimg.com\", \"s.youtube.com\", \"www.youtube.com\", \"www.facebook.com\", \"www.google.fr\", \"r4---sn-gxo5uxg-jqbe.googlevideo.com\", \"r1---sn-gxo5uxg-jqbe.googlevideo.com\", \"apis.google.com\", \"s.ytimg.com\", \"r2---sn-gxo5uxg-jqbe.googlevideo.com\"], \"name\": \"among Alice\"}, {\"type\": \"bar\", \"y\": [15888, 30037, 19615, 53197, 122919, 7457, 8160, 57736, 9654, 7737], \"x\": [\"i1.ytimg.com\", \"s.youtube.com\", \"www.youtube.com\", \"www.facebook.com\", \"www.google.fr\", \"r4---sn-gxo5uxg-jqbe.googlevideo.com\", \"r1---sn-gxo5uxg-jqbe.googlevideo.com\", \"apis.google.com\", \"s.ytimg.com\", \"r2---sn-gxo5uxg-jqbe.googlevideo.com\"], \"name\": \"among all another\"}], {\"title\": \"Distribution of alices most popular sites\"}, {\"showLink\": true, \"linkText\": \"Export to plot.ly\"})});</script>"
      ],
      "text/vnd.plotly.v1+html": [
       "<div id=\"f744d383-5747-4a11-89fd-03f76a9772ce\" style=\"height: 525px; width: 100%;\" class=\"plotly-graph-div\"></div><script type=\"text/javascript\">require([\"plotly\"], function(Plotly) { window.PLOTLYENV=window.PLOTLYENV || {};window.PLOTLYENV.BASE_URL=\"https://plot.ly\";Plotly.newPlot(\"f744d383-5747-4a11-89fd-03f76a9772ce\", [{\"type\": \"bar\", \"y\": [1382, 1354, 1307, 897, 857, 609, 522, 522, 451, 447], \"x\": [\"i1.ytimg.com\", \"s.youtube.com\", \"www.youtube.com\", \"www.facebook.com\", \"www.google.fr\", \"r4---sn-gxo5uxg-jqbe.googlevideo.com\", \"r1---sn-gxo5uxg-jqbe.googlevideo.com\", \"apis.google.com\", \"s.ytimg.com\", \"r2---sn-gxo5uxg-jqbe.googlevideo.com\"], \"name\": \"among Alice\"}, {\"type\": \"bar\", \"y\": [15888, 30037, 19615, 53197, 122919, 7457, 8160, 57736, 9654, 7737], \"x\": [\"i1.ytimg.com\", \"s.youtube.com\", \"www.youtube.com\", \"www.facebook.com\", \"www.google.fr\", \"r4---sn-gxo5uxg-jqbe.googlevideo.com\", \"r1---sn-gxo5uxg-jqbe.googlevideo.com\", \"apis.google.com\", \"s.ytimg.com\", \"r2---sn-gxo5uxg-jqbe.googlevideo.com\"], \"name\": \"among all another\"}], {\"title\": \"Distribution of alices most popular sites\"}, {\"showLink\": true, \"linkText\": \"Export to plot.ly\"})});</script>"
      ]
     },
     "metadata": {},
     "output_type": "display_data"
    }
   ],
   "source": [
    "data5 = [\n",
    "    go.Bar(y=top_sites_alice, x=alices_top_names, name='among Alice'),\n",
    "    go.Bar(y=alices_pop_sites, x=alices_top_names, name='among all another')\n",
    "]\n",
    "fig = go.Figure(data=data5, layout={'title': 'Distribution of alices most popular sites'})\n",
    "iplot(fig)"
   ]
  },
  {
   "cell_type": "markdown",
   "metadata": {},
   "source": [
    "Видим, что сайты, популярные у Alice, пользуются популярностью также и у остальных пользователей. Тем не менее, они будут нам полезны, добавим в датафрейм  additional_data_df индикатор захода на эти сайты:"
   ]
  },
  {
   "cell_type": "code",
   "execution_count": 38,
   "metadata": {
    "ExecuteTime": {
     "end_time": "2018-04-09T10:38:26.588904Z",
     "start_time": "2018-04-09T10:38:00.059914Z"
    }
   },
   "outputs": [],
   "source": [
    "additional_data_df['alices_top_site'] = full_df[site_cols].apply(lambda x: 1 if x.any() in list(top_sites_alice.index) else 0, axis=1)"
   ]
  },
  {
   "cell_type": "markdown",
   "metadata": {},
   "source": [
    "Из-за того, что списки пересекаются, начиная уже с четвертого элемента, возможно, более показательно будет добавить индикатор захода в топ-3 популярных сайтов Alice."
   ]
  },
  {
   "cell_type": "code",
   "execution_count": 39,
   "metadata": {
    "ExecuteTime": {
     "end_time": "2018-04-09T10:38:50.361467Z",
     "start_time": "2018-04-09T10:38:26.590817Z"
    }
   },
   "outputs": [],
   "source": [
    "additional_data_df['alices_top3_site'] = full_df[site_cols].apply(lambda x: 1 if x.any() in list(top_sites_alice.index)[:3] else 0, axis=1)"
   ]
  },
  {
   "cell_type": "code",
   "execution_count": 40,
   "metadata": {
    "ExecuteTime": {
     "end_time": "2018-04-09T10:38:50.378707Z",
     "start_time": "2018-04-09T10:38:50.363681Z"
    },
    "scrolled": true
   },
   "outputs": [
    {
     "data": {
      "text/html": [
       "<div>\n",
       "<style scoped>\n",
       "    .dataframe tbody tr th:only-of-type {\n",
       "        vertical-align: middle;\n",
       "    }\n",
       "\n",
       "    .dataframe tbody tr th {\n",
       "        vertical-align: top;\n",
       "    }\n",
       "\n",
       "    .dataframe thead th {\n",
       "        text-align: right;\n",
       "    }\n",
       "</style>\n",
       "<table border=\"1\" class=\"dataframe\">\n",
       "  <thead>\n",
       "    <tr style=\"text-align: right;\">\n",
       "      <th></th>\n",
       "      <th>nunique</th>\n",
       "      <th>alices_top_site</th>\n",
       "      <th>alices_top3_site</th>\n",
       "    </tr>\n",
       "    <tr>\n",
       "      <th>session_id</th>\n",
       "      <th></th>\n",
       "      <th></th>\n",
       "      <th></th>\n",
       "    </tr>\n",
       "  </thead>\n",
       "  <tbody>\n",
       "    <tr>\n",
       "      <th>21669</th>\n",
       "      <td>2</td>\n",
       "      <td>0</td>\n",
       "      <td>0</td>\n",
       "    </tr>\n",
       "    <tr>\n",
       "      <th>54843</th>\n",
       "      <td>2</td>\n",
       "      <td>0</td>\n",
       "      <td>0</td>\n",
       "    </tr>\n",
       "    <tr>\n",
       "      <th>77292</th>\n",
       "      <td>6</td>\n",
       "      <td>0</td>\n",
       "      <td>0</td>\n",
       "    </tr>\n",
       "    <tr>\n",
       "      <th>114021</th>\n",
       "      <td>5</td>\n",
       "      <td>0</td>\n",
       "      <td>0</td>\n",
       "    </tr>\n",
       "    <tr>\n",
       "      <th>146670</th>\n",
       "      <td>6</td>\n",
       "      <td>0</td>\n",
       "      <td>0</td>\n",
       "    </tr>\n",
       "    <tr>\n",
       "      <th>242171</th>\n",
       "      <td>5</td>\n",
       "      <td>0</td>\n",
       "      <td>0</td>\n",
       "    </tr>\n",
       "    <tr>\n",
       "      <th>57157</th>\n",
       "      <td>5</td>\n",
       "      <td>0</td>\n",
       "      <td>0</td>\n",
       "    </tr>\n",
       "    <tr>\n",
       "      <th>240201</th>\n",
       "      <td>6</td>\n",
       "      <td>0</td>\n",
       "      <td>0</td>\n",
       "    </tr>\n",
       "    <tr>\n",
       "      <th>210686</th>\n",
       "      <td>5</td>\n",
       "      <td>0</td>\n",
       "      <td>0</td>\n",
       "    </tr>\n",
       "    <tr>\n",
       "      <th>98804</th>\n",
       "      <td>8</td>\n",
       "      <td>0</td>\n",
       "      <td>0</td>\n",
       "    </tr>\n",
       "  </tbody>\n",
       "</table>\n",
       "</div>"
      ],
      "text/plain": [
       "            nunique  alices_top_site  alices_top3_site\n",
       "session_id                                            \n",
       "21669             2                0                 0\n",
       "54843             2                0                 0\n",
       "77292             6                0                 0\n",
       "114021            5                0                 0\n",
       "146670            6                0                 0\n",
       "242171            5                0                 0\n",
       "57157             5                0                 0\n",
       "240201            6                0                 0\n",
       "210686            5                0                 0\n",
       "98804             8                0                 0"
      ]
     },
     "execution_count": 40,
     "metadata": {},
     "output_type": "execute_result"
    }
   ],
   "source": [
    "additional_data_df.head(10)"
   ]
  },
  {
   "cell_type": "markdown",
   "metadata": {},
   "source": [
    "Кроме того, добавим индикатор захода на наиболее популярные сайты в выборке:"
   ]
  },
  {
   "cell_type": "code",
   "execution_count": 41,
   "metadata": {
    "ExecuteTime": {
     "end_time": "2018-04-09T10:39:16.943816Z",
     "start_time": "2018-04-09T10:38:50.381119Z"
    }
   },
   "outputs": [],
   "source": [
    "additional_data_df['top_site'] = full_df[site_cols].apply(lambda x: 1 if x.any() in list(top_sites.index) else 0, axis=1)"
   ]
  },
  {
   "cell_type": "markdown",
   "metadata": {},
   "source": [
    "### День недели, час начала сессии, часть дня, индикатор выходного дня, месяц, год"
   ]
  },
  {
   "cell_type": "code",
   "execution_count": 42,
   "metadata": {
    "ExecuteTime": {
     "end_time": "2018-04-09T10:39:18.096120Z",
     "start_time": "2018-04-09T10:39:16.946302Z"
    }
   },
   "outputs": [],
   "source": [
    "additional_data_df['start_hour'] = full_df['time1'].apply(lambda x: x.hour)"
   ]
  },
  {
   "cell_type": "code",
   "execution_count": 43,
   "metadata": {
    "ExecuteTime": {
     "end_time": "2018-04-09T10:39:19.158272Z",
     "start_time": "2018-04-09T10:39:18.097939Z"
    }
   },
   "outputs": [],
   "source": [
    "additional_data_df['day_of_week'] = full_df['time1'].apply(lambda x: x.weekday())"
   ]
  },
  {
   "cell_type": "code",
   "execution_count": 44,
   "metadata": {
    "ExecuteTime": {
     "end_time": "2018-04-09T10:39:21.447096Z",
     "start_time": "2018-04-09T10:39:19.160569Z"
    }
   },
   "outputs": [],
   "source": [
    "additional_data_df['month'] = full_df['time1'].apply(lambda x: x.month)\n",
    "additional_data_df['year'] = full_df['time1'].apply(lambda x: x.year)"
   ]
  },
  {
   "cell_type": "code",
   "execution_count": 45,
   "metadata": {
    "ExecuteTime": {
     "end_time": "2018-04-09T10:39:25.690125Z",
     "start_time": "2018-04-09T10:39:21.448727Z"
    }
   },
   "outputs": [
    {
     "data": {
      "image/png": "[encoded data removed]",
      "text/plain": [
       "<matplotlib.figure.Figure at 0x7f506a039860>"
      ]
     },
     "metadata": {},
     "output_type": "display_data"
    }
   ],
   "source": [
    "import seaborn as sns\n",
    "import matplotlib.pyplot as plt\n",
    "%matplotlib inline\n",
    "_, axes = plt.subplots(1, 2, figsize=(16,6))\n",
    "\n",
    "sns.countplot(x=additional_data_df[:idx][train_df.target==0].day_of_week, hue=train_df.target, ax=axes[0]);\n",
    "sns.countplot(x=additional_data_df[:idx][train_df.target==1].day_of_week, hue=train_df.target, ax=axes[1]);\n",
    "_.suptitle('Distribution sessions by day of week'); # can also get the figure from plt.gcf()"
   ]
  },
  {
   "cell_type": "code",
   "execution_count": 46,
   "metadata": {
    "ExecuteTime": {
     "end_time": "2018-04-09T10:39:26.290087Z",
     "start_time": "2018-04-09T10:39:25.692519Z"
    }
   },
   "outputs": [
    {
     "data": {
      "image/png": "[encoded data removed]",
      "text/plain": [
       "<matplotlib.figure.Figure at 0x7f506541dac8>"
      ]
     },
     "metadata": {},
     "output_type": "display_data"
    }
   ],
   "source": [
    "import seaborn as sns\n",
    "_, axes = plt.subplots(1, 2, figsize=(16,6))\n",
    "\n",
    "sns.countplot(x=additional_data_df[:idx][train_df.target==0].start_hour, hue=train_df.target, ax=axes[0]);\n",
    "sns.countplot(x=additional_data_df[:idx][train_df.target==1].start_hour, hue=train_df.target, ax=axes[1]);\n",
    "_.suptitle('Distribution sessions by day of week'); # can also get the figure from plt.gcf()"
   ]
  },
  {
   "cell_type": "markdown",
   "metadata": {},
   "source": [
    "Видим, что у Alice довольно отличное от общей выборки время начала сессии. Укажем отдельным столбцом часть дня, соответсвующую start_hour:"
   ]
  },
  {
   "cell_type": "code",
   "execution_count": 47,
   "metadata": {
    "ExecuteTime": {
     "end_time": "2018-04-09T10:39:26.310876Z",
     "start_time": "2018-04-09T10:39:26.294788Z"
    }
   },
   "outputs": [],
   "source": [
    "def day_part(hour):\n",
    "    if hour<9:\n",
    "        return 'early_morning'\n",
    "    elif hour<12:\n",
    "            return 'morning'\n",
    "    elif hour<16:\n",
    "            return 'day'\n",
    "    elif hour<19:\n",
    "            return 'early evening'\n",
    "    else:\n",
    "        return 'evening'"
   ]
  },
  {
   "cell_type": "code",
   "execution_count": 48,
   "metadata": {
    "ExecuteTime": {
     "end_time": "2018-04-09T10:39:26.497403Z",
     "start_time": "2018-04-09T10:39:26.312905Z"
    }
   },
   "outputs": [],
   "source": [
    "additional_data_df['daypart'] = additional_data_df['start_hour'].apply(lambda x: day_part(x))"
   ]
  },
  {
   "cell_type": "code",
   "execution_count": 49,
   "metadata": {
    "ExecuteTime": {
     "end_time": "2018-04-09T10:39:26.606620Z",
     "start_time": "2018-04-09T10:39:26.499341Z"
    }
   },
   "outputs": [],
   "source": [
    "additional_data_df['weekend'] = additional_data_df['day_of_week'].apply(lambda x: 1 if x>4 else 0)"
   ]
  },
  {
   "cell_type": "markdown",
   "metadata": {},
   "source": [
    "### Количество и длительность захода на сайт vk.com\n",
    "Это мой \"инсайт\", который я отрыла, рассматривая файлы пользователей: некоторые пользователи вовсе не заходят на этот сайт, а Alice - довольно много.\n",
    "Посчитаем количество захода на сайт за сессию, а также время, проведенное на сайте"
   ]
  },
  {
   "cell_type": "code",
   "execution_count": 50,
   "metadata": {
    "ExecuteTime": {
     "end_time": "2018-04-09T10:39:26.611613Z",
     "start_time": "2018-04-09T10:39:26.608397Z"
    }
   },
   "outputs": [],
   "source": [
    "site_vk = site_dict['vk.com']"
   ]
  },
  {
   "cell_type": "code",
   "execution_count": 51,
   "metadata": {
    "ExecuteTime": {
     "end_time": "2018-04-09T10:39:26.884589Z",
     "start_time": "2018-04-09T10:39:26.614418Z"
    }
   },
   "outputs": [
    {
     "data": {
      "text/plain": [
       "1035"
      ]
     },
     "execution_count": 51,
     "metadata": {},
     "output_type": "execute_result"
    }
   ],
   "source": [
    "len(train_df[train_df.target==0][site_cols].values.flatten()[train_df[train_df.target==0][site_cols].values.flatten()==site_vk])"
   ]
  },
  {
   "cell_type": "code",
   "execution_count": 52,
   "metadata": {
    "ExecuteTime": {
     "end_time": "2018-04-09T10:39:26.904790Z",
     "start_time": "2018-04-09T10:39:26.887393Z"
    }
   },
   "outputs": [
    {
     "data": {
      "text/plain": [
       "286"
      ]
     },
     "execution_count": 52,
     "metadata": {},
     "output_type": "execute_result"
    }
   ],
   "source": [
    "len(train_df[train_df.target==1][site_cols].values.flatten()[train_df[train_df.target==1][site_cols].values.flatten()==site_vk])"
   ]
  },
  {
   "cell_type": "code",
   "execution_count": 53,
   "metadata": {
    "ExecuteTime": {
     "end_time": "2018-04-09T10:41:12.371171Z",
     "start_time": "2018-04-09T10:39:26.906862Z"
    }
   },
   "outputs": [],
   "source": [
    "additional_data_df['vk.com'] = full_df[site_cols].apply(lambda x: len(x[x==site_vk]), axis=1)"
   ]
  },
  {
   "cell_type": "code",
   "execution_count": 54,
   "metadata": {
    "ExecuteTime": {
     "end_time": "2018-04-09T10:41:12.394393Z",
     "start_time": "2018-04-09T10:41:12.373367Z"
    }
   },
   "outputs": [
    {
     "data": {
      "text/plain": [
       "vk.com    0.12451\n",
       "dtype: float64"
      ]
     },
     "execution_count": 54,
     "metadata": {},
     "output_type": "execute_result"
    }
   ],
   "source": [
    "#Среднее количество заходов на vk.com у Alice\n",
    "additional_data_df[:idx][train_df.target == 1][['vk.com']].mean()"
   ]
  },
  {
   "cell_type": "code",
   "execution_count": 55,
   "metadata": {
    "ExecuteTime": {
     "end_time": "2018-04-09T10:41:12.476352Z",
     "start_time": "2018-04-09T10:41:12.396137Z"
    },
    "scrolled": true
   },
   "outputs": [
    {
     "data": {
      "text/plain": [
       "vk.com    0.004119\n",
       "dtype: float64"
      ]
     },
     "execution_count": 55,
     "metadata": {},
     "output_type": "execute_result"
    }
   ],
   "source": [
    "#Среднее количество заходов на vk.com среди других пользователей\n",
    "additional_data_df[:idx][train_df.target == 0][['vk.com']].mean()"
   ]
  },
  {
   "cell_type": "markdown",
   "metadata": {},
   "source": [
    "### Интервал времени между заходом на первый и последний сайт сессии"
   ]
  },
  {
   "cell_type": "code",
   "execution_count": 56,
   "metadata": {
    "ExecuteTime": {
     "end_time": "2018-04-09T10:41:12.554222Z",
     "start_time": "2018-04-09T10:41:12.478615Z"
    }
   },
   "outputs": [],
   "source": [
    "additional_data_df['timespan'] = stamps.sum(axis=1)"
   ]
  },
  {
   "cell_type": "markdown",
   "metadata": {},
   "source": [
    "## Преобразуем категориальные признаки"
   ]
  },
  {
   "cell_type": "code",
   "execution_count": 57,
   "metadata": {
    "ExecuteTime": {
     "end_time": "2018-04-09T10:41:12.701185Z",
     "start_time": "2018-04-09T10:41:12.555729Z"
    }
   },
   "outputs": [],
   "source": [
    "add_data_df = pd.get_dummies(additional_data_df, columns=['start_hour', 'day_of_week', 'daypart', 'month'])"
   ]
  },
  {
   "cell_type": "code",
   "execution_count": 58,
   "metadata": {
    "ExecuteTime": {
     "end_time": "2018-04-09T10:41:12.738057Z",
     "start_time": "2018-04-09T10:41:12.703468Z"
    },
    "scrolled": true
   },
   "outputs": [
    {
     "data": {
      "text/html": [
       "<div>\n",
       "<style scoped>\n",
       "    .dataframe tbody tr th:only-of-type {\n",
       "        vertical-align: middle;\n",
       "    }\n",
       "\n",
       "    .dataframe tbody tr th {\n",
       "        vertical-align: top;\n",
       "    }\n",
       "\n",
       "    .dataframe thead th {\n",
       "        text-align: right;\n",
       "    }\n",
       "</style>\n",
       "<table border=\"1\" class=\"dataframe\">\n",
       "  <thead>\n",
       "    <tr style=\"text-align: right;\">\n",
       "      <th></th>\n",
       "      <th>nunique</th>\n",
       "      <th>alices_top_site</th>\n",
       "      <th>alices_top3_site</th>\n",
       "      <th>top_site</th>\n",
       "      <th>year</th>\n",
       "      <th>weekend</th>\n",
       "      <th>vk.com</th>\n",
       "      <th>timespan</th>\n",
       "      <th>start_hour_7</th>\n",
       "      <th>start_hour_8</th>\n",
       "      <th>...</th>\n",
       "      <th>month_3</th>\n",
       "      <th>month_4</th>\n",
       "      <th>month_5</th>\n",
       "      <th>month_6</th>\n",
       "      <th>month_7</th>\n",
       "      <th>month_8</th>\n",
       "      <th>month_9</th>\n",
       "      <th>month_10</th>\n",
       "      <th>month_11</th>\n",
       "      <th>month_12</th>\n",
       "    </tr>\n",
       "    <tr>\n",
       "      <th>session_id</th>\n",
       "      <th></th>\n",
       "      <th></th>\n",
       "      <th></th>\n",
       "      <th></th>\n",
       "      <th></th>\n",
       "      <th></th>\n",
       "      <th></th>\n",
       "      <th></th>\n",
       "      <th></th>\n",
       "      <th></th>\n",
       "      <th></th>\n",
       "      <th></th>\n",
       "      <th></th>\n",
       "      <th></th>\n",
       "      <th></th>\n",
       "      <th></th>\n",
       "      <th></th>\n",
       "      <th></th>\n",
       "      <th></th>\n",
       "      <th></th>\n",
       "      <th></th>\n",
       "    </tr>\n",
       "  </thead>\n",
       "  <tbody>\n",
       "    <tr>\n",
       "      <th>21669</th>\n",
       "      <td>2</td>\n",
       "      <td>0</td>\n",
       "      <td>0</td>\n",
       "      <td>0</td>\n",
       "      <td>2013</td>\n",
       "      <td>1</td>\n",
       "      <td>0</td>\n",
       "      <td>0.000000</td>\n",
       "      <td>0</td>\n",
       "      <td>1</td>\n",
       "      <td>...</td>\n",
       "      <td>0</td>\n",
       "      <td>0</td>\n",
       "      <td>0</td>\n",
       "      <td>0</td>\n",
       "      <td>0</td>\n",
       "      <td>0</td>\n",
       "      <td>0</td>\n",
       "      <td>0</td>\n",
       "      <td>0</td>\n",
       "      <td>0</td>\n",
       "    </tr>\n",
       "    <tr>\n",
       "      <th>54843</th>\n",
       "      <td>2</td>\n",
       "      <td>0</td>\n",
       "      <td>0</td>\n",
       "      <td>0</td>\n",
       "      <td>2013</td>\n",
       "      <td>1</td>\n",
       "      <td>0</td>\n",
       "      <td>8.585786</td>\n",
       "      <td>0</td>\n",
       "      <td>1</td>\n",
       "      <td>...</td>\n",
       "      <td>0</td>\n",
       "      <td>0</td>\n",
       "      <td>0</td>\n",
       "      <td>0</td>\n",
       "      <td>0</td>\n",
       "      <td>0</td>\n",
       "      <td>0</td>\n",
       "      <td>0</td>\n",
       "      <td>0</td>\n",
       "      <td>0</td>\n",
       "    </tr>\n",
       "    <tr>\n",
       "      <th>77292</th>\n",
       "      <td>6</td>\n",
       "      <td>0</td>\n",
       "      <td>0</td>\n",
       "      <td>0</td>\n",
       "      <td>2013</td>\n",
       "      <td>1</td>\n",
       "      <td>0</td>\n",
       "      <td>2.772589</td>\n",
       "      <td>0</td>\n",
       "      <td>1</td>\n",
       "      <td>...</td>\n",
       "      <td>0</td>\n",
       "      <td>0</td>\n",
       "      <td>0</td>\n",
       "      <td>0</td>\n",
       "      <td>0</td>\n",
       "      <td>0</td>\n",
       "      <td>0</td>\n",
       "      <td>0</td>\n",
       "      <td>0</td>\n",
       "      <td>0</td>\n",
       "    </tr>\n",
       "    <tr>\n",
       "      <th>114021</th>\n",
       "      <td>5</td>\n",
       "      <td>0</td>\n",
       "      <td>0</td>\n",
       "      <td>0</td>\n",
       "      <td>2013</td>\n",
       "      <td>1</td>\n",
       "      <td>0</td>\n",
       "      <td>2.079442</td>\n",
       "      <td>0</td>\n",
       "      <td>1</td>\n",
       "      <td>...</td>\n",
       "      <td>0</td>\n",
       "      <td>0</td>\n",
       "      <td>0</td>\n",
       "      <td>0</td>\n",
       "      <td>0</td>\n",
       "      <td>0</td>\n",
       "      <td>0</td>\n",
       "      <td>0</td>\n",
       "      <td>0</td>\n",
       "      <td>0</td>\n",
       "    </tr>\n",
       "    <tr>\n",
       "      <th>146670</th>\n",
       "      <td>6</td>\n",
       "      <td>0</td>\n",
       "      <td>0</td>\n",
       "      <td>0</td>\n",
       "      <td>2013</td>\n",
       "      <td>1</td>\n",
       "      <td>0</td>\n",
       "      <td>1.386294</td>\n",
       "      <td>0</td>\n",
       "      <td>1</td>\n",
       "      <td>...</td>\n",
       "      <td>0</td>\n",
       "      <td>0</td>\n",
       "      <td>0</td>\n",
       "      <td>0</td>\n",
       "      <td>0</td>\n",
       "      <td>0</td>\n",
       "      <td>0</td>\n",
       "      <td>0</td>\n",
       "      <td>0</td>\n",
       "      <td>0</td>\n",
       "    </tr>\n",
       "  </tbody>\n",
       "</table>\n",
       "<p>5 rows × 49 columns</p>\n",
       "</div>"
      ],
      "text/plain": [
       "            nunique  alices_top_site  alices_top3_site  top_site  year  \\\n",
       "session_id                                                               \n",
       "21669             2                0                 0         0  2013   \n",
       "54843             2                0                 0         0  2013   \n",
       "77292             6                0                 0         0  2013   \n",
       "114021            5                0                 0         0  2013   \n",
       "146670            6                0                 0         0  2013   \n",
       "\n",
       "            weekend  vk.com  timespan  start_hour_7  start_hour_8    ...     \\\n",
       "session_id                                                           ...      \n",
       "21669             1       0  0.000000             0             1    ...      \n",
       "54843             1       0  8.585786             0             1    ...      \n",
       "77292             1       0  2.772589             0             1    ...      \n",
       "114021            1       0  2.079442             0             1    ...      \n",
       "146670            1       0  1.386294             0             1    ...      \n",
       "\n",
       "            month_3  month_4  month_5  month_6  month_7  month_8  month_9  \\\n",
       "session_id                                                                  \n",
       "21669             0        0        0        0        0        0        0   \n",
       "54843             0        0        0        0        0        0        0   \n",
       "77292             0        0        0        0        0        0        0   \n",
       "114021            0        0        0        0        0        0        0   \n",
       "146670            0        0        0        0        0        0        0   \n",
       "\n",
       "            month_10  month_11  month_12  \n",
       "session_id                                \n",
       "21669              0         0         0  \n",
       "54843              0         0         0  \n",
       "77292              0         0         0  \n",
       "114021             0         0         0  \n",
       "146670             0         0         0  \n",
       "\n",
       "[5 rows x 49 columns]"
      ]
     },
     "execution_count": 58,
     "metadata": {},
     "output_type": "execute_result"
    }
   ],
   "source": [
    "add_data_df.head()"
   ]
  },
  {
   "cell_type": "markdown",
   "metadata": {},
   "source": [
    "## Векторизуем данные сайтов"
   ]
  },
  {
   "cell_type": "code",
   "execution_count": 59,
   "metadata": {
    "ExecuteTime": {
     "end_time": "2018-04-09T10:41:28.663868Z",
     "start_time": "2018-04-09T10:41:12.739840Z"
    }
   },
   "outputs": [
    {
     "data": {
      "text/plain": [
       "((253561, 50000), (82797, 50000))"
      ]
     },
     "execution_count": 59,
     "metadata": {},
     "output_type": "execute_result"
    }
   ],
   "source": [
    "from sklearn.feature_extraction.text import CountVectorizer\n",
    "cv = CountVectorizer(ngram_range=(1, 3), max_features=50000)\n",
    "full_df[site_cols][:idx].to_csv('train_sessions_text.txt', sep=' ', index=None, header=None)\n",
    "full_df[site_cols][idx:].to_csv('test_sessions_text.txt', sep=' ', index=None, header=None)\n",
    "with open('train_sessions_text.txt') as inp_train_file:\n",
    "    X_train_sites = cv.fit_transform(inp_train_file)\n",
    "with open('test_sessions_text.txt') as inp_test_file:\n",
    "    X_test_sites = cv.transform(inp_test_file)\n",
    "X_train_sites.shape, X_test_sites.shape"
   ]
  },
  {
   "cell_type": "code",
   "execution_count": 60,
   "metadata": {
    "ExecuteTime": {
     "end_time": "2018-04-09T10:41:28.675219Z",
     "start_time": "2018-04-09T10:41:28.666327Z"
    }
   },
   "outputs": [],
   "source": [
    "vocabulary_list = list(cv.vocabulary_.values())"
   ]
  },
  {
   "cell_type": "markdown",
   "metadata": {},
   "source": [
    "## Создадим разбиение с помощью TimeSeriesSplit"
   ]
  },
  {
   "cell_type": "code",
   "execution_count": 61,
   "metadata": {
    "ExecuteTime": {
     "end_time": "2018-04-09T10:41:29.091148Z",
     "start_time": "2018-04-09T10:41:28.677874Z"
    }
   },
   "outputs": [],
   "source": [
    "from sklearn.model_selection import TimeSeriesSplit, cross_val_score, GridSearchCV\n",
    "time_split = TimeSeriesSplit(n_splits=10)"
   ]
  },
  {
   "cell_type": "markdown",
   "metadata": {
    "ExecuteTime": {
     "end_time": "2018-04-04T14:13:25.127205Z",
     "start_time": "2018-04-04T14:13:25.124679Z"
    }
   },
   "source": [
    "## Обучение модели"
   ]
  },
  {
   "cell_type": "markdown",
   "metadata": {},
   "source": [
    "### Объединяем все датафреймы в один, и разбиваем обратно на обучающую и тестовую выбобрки"
   ]
  },
  {
   "cell_type": "code",
   "execution_count": 62,
   "metadata": {
    "ExecuteTime": {
     "end_time": "2018-04-09T10:41:29.095827Z",
     "start_time": "2018-04-09T10:41:29.093106Z"
    }
   },
   "outputs": [],
   "source": [
    "from scipy.sparse import hstack, vstack"
   ]
  },
  {
   "cell_type": "code",
   "execution_count": 63,
   "metadata": {
    "ExecuteTime": {
     "end_time": "2018-04-09T10:41:29.788391Z",
     "start_time": "2018-04-09T10:41:29.097788Z"
    }
   },
   "outputs": [],
   "source": [
    "train_sparse = hstack([X_train_sites, add_data_df[:idx].values], 'csr')\n",
    "test_sparse = hstack([X_test_sites, add_data_df[idx:].values], 'csr')"
   ]
  },
  {
   "cell_type": "code",
   "execution_count": 64,
   "metadata": {
    "ExecuteTime": {
     "end_time": "2018-04-09T10:41:30.111676Z",
     "start_time": "2018-04-09T10:41:29.790928Z"
    }
   },
   "outputs": [],
   "source": [
    "with open('train_sparse.pkl', 'wb') as f:\n",
    "    pickle.dump(train_sparse, f, protocol=2)\n",
    "with open('test_sparse.pkl', 'wb') as f:\n",
    "    pickle.dump(test_sparse, f, protocol=2)"
   ]
  },
  {
   "cell_type": "markdown",
   "metadata": {},
   "source": [
    "### Создаем несколько моделей"
   ]
  },
  {
   "cell_type": "markdown",
   "metadata": {},
   "source": [
    "#### Обучаем несколько моделей с параметрами по умолчанию, сравним качество"
   ]
  },
  {
   "cell_type": "code",
   "execution_count": 65,
   "metadata": {
    "ExecuteTime": {
     "end_time": "2018-04-09T10:51:40.765428Z",
     "start_time": "2018-04-09T10:51:40.762706Z"
    }
   },
   "outputs": [],
   "source": [
    "from sklearn.model_selection import cross_val_score"
   ]
  },
  {
   "cell_type": "code",
   "execution_count": 66,
   "metadata": {
    "ExecuteTime": {
     "end_time": "2018-04-09T10:51:45.379113Z",
     "start_time": "2018-04-09T10:51:44.488683Z"
    }
   },
   "outputs": [],
   "source": [
    "from sklearn.linear_model import LogisticRegressionCV, LogisticRegression, SGDClassifier\n",
    "from sklearn.svm import LinearSVC\n",
    "from sklearn.ensemble import RandomForestRegressor, GradientBoostingClassifier"
   ]
  },
  {
   "cell_type": "code",
   "execution_count": 67,
   "metadata": {
    "ExecuteTime": {
     "end_time": "2018-04-09T10:51:49.575042Z",
     "start_time": "2018-04-09T10:51:48.826948Z"
    }
   },
   "outputs": [],
   "source": [
    "import catboost"
   ]
  },
  {
   "cell_type": "code",
   "execution_count": 79,
   "metadata": {
    "ExecuteTime": {
     "end_time": "2018-04-09T11:12:19.500918Z",
     "start_time": "2018-04-09T11:12:19.498148Z"
    }
   },
   "outputs": [],
   "source": [
    "valid_idx = int(train_sparse.shape[0]*0.7)"
   ]
  },
  {
   "cell_type": "code",
   "execution_count": 89,
   "metadata": {
    "ExecuteTime": {
     "end_time": "2018-04-09T12:02:53.731385Z",
     "start_time": "2018-04-09T12:02:53.705422Z"
    }
   },
   "outputs": [],
   "source": [
    "train_x_sparse = train_sparse[:valid_idx]\n",
    "train_valid_sparse = train_sparse[valid_idx:]"
   ]
  },
  {
   "cell_type": "code",
   "execution_count": 95,
   "metadata": {
    "ExecuteTime": {
     "end_time": "2018-04-09T12:41:21.855822Z",
     "start_time": "2018-04-09T12:30:09.440810Z"
    }
   },
   "outputs": [],
   "source": [
    "lr = LogisticRegression(random_state=17, solver='lbfgs', n_jobs=1).fit(train_x_sparse, train_df.target[:valid_idx])\n",
    "sgd = SGDClassifier(random_state=17, max_iter=10000, loss='log').fit(train_x_sparse, train_df.target[:valid_idx])\n",
    "#lsvc = LinearSVC(random_state=17).fit(train_x_sparse, train_df.target[:valid_idx])\n",
    "gb = GradientBoostingClassifier(random_state=17).fit(train_x_sparse, train_df.target[:valid_idx])"
   ]
  },
  {
   "cell_type": "code",
   "execution_count": 98,
   "metadata": {
    "ExecuteTime": {
     "end_time": "2018-04-09T12:46:06.394670Z",
     "start_time": "2018-04-09T12:46:06.199238Z"
    }
   },
   "outputs": [
    {
     "name": "stdout",
     "output_type": "stream",
     "text": [
      "LogisticRegression(C=1.0, class_weight=None, dual=False, fit_intercept=True,\n",
      "          intercept_scaling=1, max_iter=100, multi_class='ovr', n_jobs=1,\n",
      "          penalty='l2', random_state=17, solver='lbfgs', tol=0.0001,\n",
      "          verbose=0, warm_start=False) 0.948511259106246\n",
      "SGDClassifier(alpha=0.0001, average=False, class_weight=None, epsilon=0.1,\n",
      "       eta0=0.0, fit_intercept=True, l1_ratio=0.15,\n",
      "       learning_rate='optimal', loss='log', max_iter=10000, n_iter=None,\n",
      "       n_jobs=1, penalty='l2', power_t=0.5, random_state=17, shuffle=True,\n",
      "       tol=None, verbose=0, warm_start=False) 0.9538379520908232\n",
      "GradientBoostingClassifier(criterion='friedman_mse', init=None,\n",
      "              learning_rate=0.1, loss='deviance', max_depth=3,\n",
      "              max_features=None, max_leaf_nodes=None,\n",
      "              min_impurity_decrease=0.0, min_impurity_split=None,\n",
      "              min_samples_leaf=1, min_samples_split=2,\n",
      "              min_weight_fraction_leaf=0.0, n_estimators=100,\n",
      "              presort='auto', random_state=17, subsample=1.0, verbose=0,\n",
      "              warm_start=False) 0.9421223600385275\n"
     ]
    }
   ],
   "source": [
    "from sklearn.metrics import roc_auc_score\n",
    "for model in [lr,sgd, gb]:\n",
    "    print(model, roc_auc_score(train_df.target[valid_idx:], model.predict_proba(train_valid_sparse)[:,1]))"
   ]
  },
  {
   "cell_type": "markdown",
   "metadata": {},
   "source": [
    "Лучший результат показал SGDClassifier. Буду использовать его."
   ]
  },
  {
   "cell_type": "markdown",
   "metadata": {},
   "source": [
    "## Настройка параметров модели, построение кривых валидации."
   ]
  },
  {
   "cell_type": "code",
   "execution_count": 131,
   "metadata": {
    "ExecuteTime": {
     "end_time": "2018-04-09T16:31:14.445817Z",
     "start_time": "2018-04-09T16:29:33.526910Z"
    }
   },
   "outputs": [
    {
     "name": "stdout",
     "output_type": "stream",
     "text": [
      "Best C: 0.010000\n",
      "CPU times: user 1min 42s, sys: 6.31 s, total: 1min 49s\n",
      "Wall time: 1min 40s\n"
     ]
    }
   ],
   "source": [
    "%%time\n",
    "cv_lr = LogisticRegressionCV(Cs=np.logspace(-2, 1, 10), cv=3, scoring='roc_auc', random_state=17)\n",
    "cv_lr.fit(train_x_sparse, train_df.target[:valid_idx])\n",
    "\n",
    "print('Best C: {:3f}'.format(cv_lr.C_[0]))"
   ]
  },
  {
   "cell_type": "code",
   "execution_count": 105,
   "metadata": {
    "ExecuteTime": {
     "end_time": "2018-04-09T13:12:20.729365Z",
     "start_time": "2018-04-09T13:12:20.726669Z"
    }
   },
   "outputs": [],
   "source": [
    "from sklearn.model_selection import validation_curve\n",
    "from sklearn.cross_validation import "
   ]
  },
  {
   "cell_type": "code",
   "execution_count": 112,
   "metadata": {
    "ExecuteTime": {
     "end_time": "2018-04-09T13:43:25.839820Z",
     "start_time": "2018-04-09T13:39:40.085788Z"
    }
   },
   "outputs": [
    {
     "name": "stderr",
     "output_type": "stream",
     "text": [
      "[Parallel(n_jobs=-1)]: Done  50 out of  50 | elapsed:  3.6min finished\n"
     ]
    }
   ],
   "source": [
    "train_scores, test_scores = validation_curve(lr, train_sparse, train_df.target, cv=time_split, scoring='roc_auc', param_name='C', param_range=np.logspace(-1,1,5), verbose=1, n_jobs=-1)"
   ]
  },
  {
   "cell_type": "code",
   "execution_count": 149,
   "metadata": {
    "ExecuteTime": {
     "end_time": "2018-04-09T16:42:23.550615Z",
     "start_time": "2018-04-09T16:42:23.076121Z"
    }
   },
   "outputs": [
    {
     "data": {
      "image/png": "[encoded data removed]",
      "text/plain": [
       "<matplotlib.figure.Figure at 0x7f503d75b5f8>"
      ]
     },
     "metadata": {},
     "output_type": "display_data"
    }
   ],
   "source": [
    "fig = plt.figure(figsize=(15,10))\n",
    "train_scores_mean = np.mean(train_scores, axis=1)\n",
    "train_scores_std = np.std(train_scores, axis=1)\n",
    "test_scores_mean = np.mean(test_scores, axis=1)\n",
    "test_scores_std = np.std(test_scores, axis=1)\n",
    "\n",
    "plt.title(\"Validation Curve with LogisticRegression\")\n",
    "plt.xlabel(\"$C$\")\n",
    "plt.ylabel(\"ROC-AUC Score\")\n",
    "plt.ylim(0.7, 1.1)\n",
    "lw = 2\n",
    "plt.semilogx(np.logspace(-1,1,5), train_scores_mean, label=\"Training score\",\n",
    "             color=\"darkorange\", lw=2)\n",
    "plt.fill_between(np.logspace(-1,1,5), train_scores_mean - train_scores_std,\n",
    "                 train_scores_mean + train_scores_std, alpha=0.2,\n",
    "                 color=\"darkorange\", lw=2)\n",
    "plt.semilogx(np.logspace(-1,1,5), test_scores_mean, label=\"Cross-validation score\",\n",
    "             color=\"navy\", lw=2)\n",
    "plt.fill_between(np.logspace(-1,1,5), test_scores_mean - test_scores_std,\n",
    "                 test_scores_mean + test_scores_std, alpha=0.2,\n",
    "                 color=\"navy\", lw=2)\n",
    "plt.legend(loc=\"best\")\n",
    "plt.show()"
   ]
  },
  {
   "cell_type": "markdown",
   "metadata": {
    "ExecuteTime": {
     "end_time": "2018-04-09T13:49:49.080605Z",
     "start_time": "2018-04-09T13:49:49.076697Z"
    }
   },
   "source": [
    "Я взяла довольно узкий промежуток С, поэтому качество не очень разнится."
   ]
  },
  {
   "cell_type": "code",
   "execution_count": 139,
   "metadata": {
    "ExecuteTime": {
     "end_time": "2018-04-09T16:34:35.183473Z",
     "start_time": "2018-04-09T16:34:35.179741Z"
    }
   },
   "outputs": [
    {
     "data": {
      "text/plain": [
       "50033"
      ]
     },
     "execution_count": 139,
     "metadata": {},
     "output_type": "execute_result"
    }
   ],
   "source": [
    "cv_lr.coef_.argmax()"
   ]
  },
  {
   "cell_type": "code",
   "execution_count": 142,
   "metadata": {
    "ExecuteTime": {
     "end_time": "2018-04-09T16:36:23.697645Z",
     "start_time": "2018-04-09T16:36:22.126720Z"
    }
   },
   "outputs": [],
   "source": [
    "temp_sparse = hstack([train_sparse[:,:cv_lr.coef_.argmax()], train_sparse[:,cv_lr.coef_.argmax()+1:]])"
   ]
  },
  {
   "cell_type": "code",
   "execution_count": 143,
   "metadata": {
    "ExecuteTime": {
     "end_time": "2018-04-09T16:37:53.554485Z",
     "start_time": "2018-04-09T16:37:47.180956Z"
    }
   },
   "outputs": [],
   "source": [
    "lr_new = LogisticRegression(solver='lbfgs', random_state=17).fit(temp_sparse, train_df.target)\n"
   ]
  },
  {
   "cell_type": "code",
   "execution_count": 145,
   "metadata": {
    "ExecuteTime": {
     "end_time": "2018-04-09T16:38:55.967080Z",
     "start_time": "2018-04-09T16:38:55.874063Z"
    }
   },
   "outputs": [],
   "source": [
    "res_t=lr_new.predict_proba(hstack([test_sparse[:,:cv_lr.coef_.argmax()], test_sparse[:,cv_lr.coef_.argmax()+1:]]))"
   ]
  },
  {
   "cell_type": "code",
   "execution_count": 148,
   "metadata": {
    "ExecuteTime": {
     "end_time": "2018-04-09T16:39:20.547107Z",
     "start_time": "2018-04-09T16:39:20.257046Z"
    }
   },
   "outputs": [],
   "source": [
    "write_to_submission_file(res_t[:,1], 'kaggle_answer_file.csv')"
   ]
  },
  {
   "cell_type": "markdown",
   "metadata": {},
   "source": [
    "Настроим параметры модели"
   ]
  },
  {
   "cell_type": "code",
   "execution_count": 151,
   "metadata": {
    "ExecuteTime": {
     "end_time": "2018-04-09T16:42:47.876745Z",
     "start_time": "2018-04-09T16:42:47.862069Z"
    }
   },
   "outputs": [],
   "source": [
    "gs = GridSearchCV(lr_new, param_grid={'C':np.logspace(-2,1,10)}, scoring='roc_auc', cv=time_split)"
   ]
  },
  {
   "cell_type": "code",
   "execution_count": null,
   "metadata": {
    "ExecuteTime": {
     "start_time": "2018-04-09T16:43:08.586Z"
    }
   },
   "outputs": [],
   "source": [
    "gs.fit(temp_sparse, train_df.target)"
   ]
  },
  {
   "cell_type": "code",
   "execution_count": null,
   "metadata": {},
   "outputs": [],
   "source": []
  },
  {
   "cell_type": "code",
   "execution_count": null,
   "metadata": {},
   "outputs": [],
   "source": []
  },
  {
   "cell_type": "markdown",
   "metadata": {},
   "source": [
    "## Оценим важность признаков\n",
    "Построим график для наиболее весомых признаков"
   ]
  },
  {
   "cell_type": "code",
   "execution_count": 120,
   "metadata": {
    "ExecuteTime": {
     "end_time": "2018-04-09T13:51:51.261610Z",
     "start_time": "2018-04-09T13:51:51.171976Z"
    }
   },
   "outputs": [],
   "source": [
    "importance_features_pos = np.argsort(cv_lr.coef_.ravel())[-20:]\n",
    "\n",
    "importance_features_neg = np.argsort(cv_lr.coef_.ravel())[:20]"
   ]
  },
  {
   "cell_type": "code",
   "execution_count": 121,
   "metadata": {
    "ExecuteTime": {
     "end_time": "2018-04-09T13:51:52.989838Z",
     "start_time": "2018-04-09T13:51:52.952236Z"
    }
   },
   "outputs": [],
   "source": [
    "def feature_names(importance_features):\n",
    "    xticks = []\n",
    "    for f in importance_features:\n",
    "        if f>=50000:\n",
    "            xticks.append(add_data_df.columns[f-50000])\n",
    "        else:\n",
    "            sites = list(cv.vocabulary_.keys())[vocabulary_list.index(f)]\n",
    "            harmon = []\n",
    "            for s in sites.split():\n",
    "                harmon.append(list(site_dict.keys())[list(site_dict.values()).index(int(s))]) \n",
    "            xticks.append(','.join(harmon))\n",
    "    return(xticks)"
   ]
  },
  {
   "cell_type": "code",
   "execution_count": 124,
   "metadata": {
    "ExecuteTime": {
     "end_time": "2018-04-09T13:52:32.604653Z",
     "start_time": "2018-04-09T13:52:32.387446Z"
    }
   },
   "outputs": [
    {
     "data": {
      "application/vnd.plotly.v1+json": {
       "data": [
        {
         "name": "negative features",
         "type": "bar",
         "uid": "418530",
         "x": [
          "day_of_week_2",
          "plus.google.com",
          "start_hour_14",
          "start_hour_10",
          "mail.google.com",
          "daypart_morning",
          "month_3",
          "daypart_early_morning",
          "start_hour_8",
          "day_of_week_6",
          "start_hour_11",
          "start_hour_15",
          "month_1",
          "weekend",
          "vk.com,vk.com,vk.com",
          "safebrowsing-cache.google.com",
          "www.bing.com",
          "www.google.com,www.google.fr",
          "vk.com,vk.com",
          "month_10"
         ],
         "y": [
          -2.0663510434351258,
          -1.441966088894828,
          -1.3183395961658224,
          -1.0531954444973495,
          -1.04845835179749,
          -1.0359563215694323,
          -1.0086604858276322,
          -0.8436606354242628,
          -0.8217333332692431,
          -0.8173476492348667,
          -0.7202965487754945,
          -0.6659003062992277,
          -0.6367661413436464,
          -0.6019710311452995,
          -0.5709522627607623,
          -0.539763209114191,
          -0.5048504516142014,
          -0.47917131573771343,
          -0.46994566616474415,
          -0.4545093120060624
         ]
        },
        {
         "name": "positive features",
         "type": "bar",
         "uid": "43244d",
         "x": [
          "start_hour_9",
          "static.leboncoin.fr",
          "start_hour_16",
          "s.radio-canada.ca",
          "www.regarder-film-gratuit.com",
          "www.banque-chalus.fr",
          "www.blogger.com",
          "www.info-jeunes.net",
          "g1ujynb3gx.b.ad6media.fr",
          "api.bing.com",
          "www.melty.fr",
          "www.audienceinsights.net",
          "start_hour_12",
          "day_of_week_4",
          "day_of_week_0",
          "www.express.co.uk",
          "start_hour_13",
          "youwatch.org",
          "daypart_early evening",
          "month_9"
         ],
         "y": [
          0.7375356729513214,
          0.7376727349335394,
          0.7444016038786899,
          0.7560591486471261,
          0.7585381721182793,
          0.7646229856749267,
          0.8404999710136302,
          0.8471914784306745,
          0.8703086224003557,
          0.8827125169607402,
          0.9385003181677865,
          0.9974743656788498,
          1.0148812924523043,
          1.1020285407507093,
          1.1605113519961652,
          1.1676478829116572,
          1.169394889598017,
          1.252225727853753,
          2.112451172526234,
          2.297326657454419
         ]
        }
       ],
       "layout": {
        "autosize": true,
        "title": "Coefficients of most important featutes",
        "xaxis": {
         "autorange": true,
         "range": [
          -0.5,
          39.5
         ],
         "type": "category"
        },
        "yaxis": {
         "autorange": true,
         "range": [
          -2.308777582373434,
          2.539753196392727
         ],
         "type": "linear"
        }
       }
      },
      "text/html": [
       "<div id=\"d523cb4c-d2c3-471a-a45e-4f1d18467a41\" style=\"height: 525px; width: 100%;\" class=\"plotly-graph-div\"></div><script type=\"text/javascript\">require([\"plotly\"], function(Plotly) { window.PLOTLYENV=window.PLOTLYENV || {};window.PLOTLYENV.BASE_URL=\"https://plot.ly\";Plotly.newPlot(\"d523cb4c-d2c3-471a-a45e-4f1d18467a41\", [{\"type\": \"bar\", \"y\": [-2.0663510434351258, -1.441966088894828, -1.3183395961658224, -1.0531954444973495, -1.04845835179749, -1.0359563215694323, -1.0086604858276322, -0.8436606354242628, -0.8217333332692431, -0.8173476492348667, -0.7202965487754945, -0.6659003062992277, -0.6367661413436464, -0.6019710311452995, -0.5709522627607623, -0.539763209114191, -0.5048504516142014, -0.47917131573771343, -0.46994566616474415, -0.4545093120060624], \"x\": [\"day_of_week_2\", \"plus.google.com\", \"start_hour_14\", \"start_hour_10\", \"mail.google.com\", \"daypart_morning\", \"month_3\", \"daypart_early_morning\", \"start_hour_8\", \"day_of_week_6\", \"start_hour_11\", \"start_hour_15\", \"month_1\", \"weekend\", \"vk.com,vk.com,vk.com\", \"safebrowsing-cache.google.com\", \"www.bing.com\", \"www.google.com,www.google.fr\", \"vk.com,vk.com\", \"month_10\"], \"name\": \"negative features\"}, {\"type\": \"bar\", \"y\": [0.7375356729513214, 0.7376727349335394, 0.7444016038786899, 0.7560591486471261, 0.7585381721182793, 0.7646229856749267, 0.8404999710136302, 0.8471914784306745, 0.8703086224003557, 0.8827125169607402, 0.9385003181677865, 0.9974743656788498, 1.0148812924523043, 1.1020285407507093, 1.1605113519961652, 1.1676478829116572, 1.169394889598017, 1.252225727853753, 2.112451172526234, 2.297326657454419], \"x\": [\"start_hour_9\", \"static.leboncoin.fr\", \"start_hour_16\", \"s.radio-canada.ca\", \"www.regarder-film-gratuit.com\", \"www.banque-chalus.fr\", \"www.blogger.com\", \"www.info-jeunes.net\", \"g1ujynb3gx.b.ad6media.fr\", \"api.bing.com\", \"www.melty.fr\", \"www.audienceinsights.net\", \"start_hour_12\", \"day_of_week_4\", \"day_of_week_0\", \"www.express.co.uk\", \"start_hour_13\", \"youwatch.org\", \"daypart_early evening\", \"month_9\"], \"name\": \"positive features\"}], {\"title\": \"Coefficients of most important featutes\"}, {\"showLink\": true, \"linkText\": \"Export to plot.ly\"})});</script>"
      ],
      "text/vnd.plotly.v1+html": [
       "<div id=\"d523cb4c-d2c3-471a-a45e-4f1d18467a41\" style=\"height: 525px; width: 100%;\" class=\"plotly-graph-div\"></div><script type=\"text/javascript\">require([\"plotly\"], function(Plotly) { window.PLOTLYENV=window.PLOTLYENV || {};window.PLOTLYENV.BASE_URL=\"https://plot.ly\";Plotly.newPlot(\"d523cb4c-d2c3-471a-a45e-4f1d18467a41\", [{\"type\": \"bar\", \"y\": [-2.0663510434351258, -1.441966088894828, -1.3183395961658224, -1.0531954444973495, -1.04845835179749, -1.0359563215694323, -1.0086604858276322, -0.8436606354242628, -0.8217333332692431, -0.8173476492348667, -0.7202965487754945, -0.6659003062992277, -0.6367661413436464, -0.6019710311452995, -0.5709522627607623, -0.539763209114191, -0.5048504516142014, -0.47917131573771343, -0.46994566616474415, -0.4545093120060624], \"x\": [\"day_of_week_2\", \"plus.google.com\", \"start_hour_14\", \"start_hour_10\", \"mail.google.com\", \"daypart_morning\", \"month_3\", \"daypart_early_morning\", \"start_hour_8\", \"day_of_week_6\", \"start_hour_11\", \"start_hour_15\", \"month_1\", \"weekend\", \"vk.com,vk.com,vk.com\", \"safebrowsing-cache.google.com\", \"www.bing.com\", \"www.google.com,www.google.fr\", \"vk.com,vk.com\", \"month_10\"], \"name\": \"negative features\"}, {\"type\": \"bar\", \"y\": [0.7375356729513214, 0.7376727349335394, 0.7444016038786899, 0.7560591486471261, 0.7585381721182793, 0.7646229856749267, 0.8404999710136302, 0.8471914784306745, 0.8703086224003557, 0.8827125169607402, 0.9385003181677865, 0.9974743656788498, 1.0148812924523043, 1.1020285407507093, 1.1605113519961652, 1.1676478829116572, 1.169394889598017, 1.252225727853753, 2.112451172526234, 2.297326657454419], \"x\": [\"start_hour_9\", \"static.leboncoin.fr\", \"start_hour_16\", \"s.radio-canada.ca\", \"www.regarder-film-gratuit.com\", \"www.banque-chalus.fr\", \"www.blogger.com\", \"www.info-jeunes.net\", \"g1ujynb3gx.b.ad6media.fr\", \"api.bing.com\", \"www.melty.fr\", \"www.audienceinsights.net\", \"start_hour_12\", \"day_of_week_4\", \"day_of_week_0\", \"www.express.co.uk\", \"start_hour_13\", \"youwatch.org\", \"daypart_early evening\", \"month_9\"], \"name\": \"positive features\"}], {\"title\": \"Coefficients of most important featutes\"}, {\"showLink\": true, \"linkText\": \"Export to plot.ly\"})});</script>"
      ]
     },
     "metadata": {},
     "output_type": "display_data"
    }
   ],
   "source": [
    "data6 = [\n",
    "    go.Bar(y=cv_lr.coef_.ravel()[importance_features_neg], x=feature_names(importance_features_neg), name='negative features'),\n",
    "    go.Bar(y=cv_lr.coef_.ravel()[importance_features_pos], x=feature_names(importance_features_pos), name='positive features')\n",
    "]\n",
    "\n",
    "fig = go.Figure(data=data6, layout={'title': 'Coefficients of most important featutes'})\n",
    "iplot(fig)"
   ]
  },
  {
   "cell_type": "markdown",
   "metadata": {},
   "source": [
    "Видим, что среди наиболее важных признаков преимущественно сайты, на которые, например, заходила только Alice, или, наоборот, те, на которые она не заходила никогда. Из мною сгенерированных признаков сюда попали только месяц(month_9), время (start_hour_12, start_hour_13) и часть дня (daypart_early_morning)"
   ]
  },
  {
   "cell_type": "code",
   "execution_count": 128,
   "metadata": {
    "ExecuteTime": {
     "end_time": "2018-04-09T16:26:33.478520Z",
     "start_time": "2018-04-09T16:26:27.078176Z"
    }
   },
   "outputs": [],
   "source": [
    "lr_res = LogisticRegression(C=cv_lr.C_[0], random_state=17, solver='lbfgs')\n",
    "lr_res.fit(train_sparse, train_df.target)\n",
    "test_pred3 = lr_res.predict_proba(test_sparse)[:,1]"
   ]
  },
  {
   "cell_type": "code",
   "execution_count": null,
   "metadata": {
    "ExecuteTime": {
     "start_time": "2018-04-08T16:41:50.768Z"
    }
   },
   "outputs": [],
   "source": [
    "result_answer.shape"
   ]
  },
  {
   "cell_type": "code",
   "execution_count": 129,
   "metadata": {
    "ExecuteTime": {
     "end_time": "2018-04-09T16:26:34.844290Z",
     "start_time": "2018-04-09T16:26:34.809898Z"
    }
   },
   "outputs": [],
   "source": [
    "# A helper function for writing predictions to a file\n",
    "def write_to_submission_file(predicted_labels, out_file,\n",
    "                             target='target', index_label=\"session_id\"):\n",
    "    predicted_df = pd.DataFrame(predicted_labels,\n",
    "                                index = np.arange(1, predicted_labels.shape[0] + 1),\n",
    "                                columns=[target])\n",
    "    predicted_df.to_csv(out_file, index_label=index_label)"
   ]
  },
  {
   "cell_type": "code",
   "execution_count": 130,
   "metadata": {
    "ExecuteTime": {
     "end_time": "2018-04-09T16:26:36.453717Z",
     "start_time": "2018-04-09T16:26:36.123693Z"
    }
   },
   "outputs": [],
   "source": [
    "write_to_submission_file(test_pred3, 'kaggle_answer_file.txt')"
   ]
  },
  {
   "cell_type": "markdown",
   "metadata": {},
   "source": [
    "## Заключение. Итоги"
   ]
  },
  {
   "cell_type": "markdown",
   "metadata": {},
   "source": [
    "В ходе проекта было реализованы следующие шаги:\n",
    "- генерация новых признаков, таких как время начала сессии, количество уникальных сайтов в сессии, день недели, часть дня, время сессии\n",
    "- предобработка данных включала в себя сортировку данных по времени, преобразование данных сайтов в разреженную матрицу, логарифмирование длительности сессии, преобразование порядковых признаков в категориальные.\n",
    "- обучение модели логистической регрессии, обучение модели регрессии случайного леса, усреднение результатов."
   ]
  }
 ],
 "metadata": {
  "kernelspec": {
   "display_name": "Python 3",
   "language": "python",
   "name": "python3"
  },
  "language_info": {
   "codemirror_mode": {
    "name": "ipython",
    "version": 3
   },
   "file_extension": ".py",
   "mimetype": "text/x-python",
   "name": "python",
   "nbconvert_exporter": "python",
   "pygments_lexer": "ipython3",
   "version": "3.6.3"
  },
  "toc": {
   "nav_menu": {},
   "number_sections": true,
   "sideBar": true,
   "skip_h1_title": false,
   "toc_cell": false,
   "toc_position": {},
   "toc_section_display": "block",
   "toc_window_display": true
  },
  "varInspector": {
   "cols": {
    "lenName": 16,
    "lenType": 16,
    "lenVar": 40
   },
   "kernels_config": {
    "python": {
     "delete_cmd_postfix": "",
     "delete_cmd_prefix": "del ",
     "library": "var_list.py",
     "varRefreshCmd": "print(var_dic_list())"
    },
    "r": {
     "delete_cmd_postfix": ") ",
     "delete_cmd_prefix": "rm(",
     "library": "var_list.r",
     "varRefreshCmd": "cat(var_dic_list()) "
    }
   },
   "position": {
    "height": "162px",
    "left": "2112px",
    "right": "20px",
    "top": "242px",
    "width": "317px"
   },
   "types_to_exclude": [
    "module",
    "function",
    "builtin_function_or_method",
    "instance",
    "_Feature"
   ],
   "window_display": true
  }
 },
 "nbformat": 4,
 "nbformat_minor": 2
}
