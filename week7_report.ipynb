{
 "cells": [
  {
   "cell_type": "markdown",
   "metadata": {},
   "source": [
    "<center>\n",
    "<img src=\"https://habrastorage.org/web/677/8e1/337/6778e1337c3d4b159d7e99df94227cb2.jpg\"/>\n",
    "## Специализация \"Машинное обучение и анализ данных\"\n",
    "</center>"
   ]
  },
  {
   "cell_type": "markdown",
   "metadata": {},
   "source": [
    "# <center> Идентификация пользователей по посещенным веб-страницам</center>\n",
    "<center> <img align=center src='http://i.istockimg.com/file_thumbview_approve/21546327/5/stock-illustration-21546327-identification-de-l-utilisateur.jpg'></center>\n",
    "<center>Автор материала: Пугачева Алиса</center>"
   ]
  },
  {
   "cell_type": "markdown",
   "metadata": {},
   "source": [
    "Идея такая: пользователи Интернета по-разному переходят по ссылкам, и это может помогать их идентифицировать. В качестве входных данных мы имеем несколько файлов, соответствующих пользователям, каждый из которых содержит таблицу вида:"
   ]
  },
  {
   "cell_type": "markdown",
   "metadata": {},
   "source": [
    "## Описание исходных и обработанных данных и признаков"
   ]
  },
  {
   "cell_type": "code",
   "execution_count": 1,
   "metadata": {
    "ExecuteTime": {
     "end_time": "2018-04-05T14:39:00.210144Z",
     "start_time": "2018-04-05T14:38:56.720762Z"
    }
   },
   "outputs": [
    {
     "data": {
      "text/html": [
       "<div>\n",
       "<style scoped>\n",
       "    .dataframe tbody tr th:only-of-type {\n",
       "        vertical-align: middle;\n",
       "    }\n",
       "\n",
       "    .dataframe tbody tr th {\n",
       "        vertical-align: top;\n",
       "    }\n",
       "\n",
       "    .dataframe thead th {\n",
       "        text-align: right;\n",
       "    }\n",
       "</style>\n",
       "<table border=\"1\" class=\"dataframe\">\n",
       "  <thead>\n",
       "    <tr style=\"text-align: right;\">\n",
       "      <th></th>\n",
       "      <th>timestamp</th>\n",
       "      <th>site</th>\n",
       "    </tr>\n",
       "  </thead>\n",
       "  <tbody>\n",
       "    <tr>\n",
       "      <th>0</th>\n",
       "      <td>2013-11-15 09:28:17</td>\n",
       "      <td>vk.com</td>\n",
       "    </tr>\n",
       "    <tr>\n",
       "      <th>1</th>\n",
       "      <td>2013-11-15 09:33:04</td>\n",
       "      <td>oracle.com</td>\n",
       "    </tr>\n",
       "  </tbody>\n",
       "</table>\n",
       "</div>"
      ],
      "text/plain": [
       "             timestamp        site\n",
       "0  2013-11-15 09:28:17      vk.com\n",
       "1  2013-11-15 09:33:04  oracle.com"
      ]
     },
     "execution_count": 1,
     "metadata": {},
     "output_type": "execute_result"
    }
   ],
   "source": [
    "import pandas as pd\n",
    "pd.read_csv('capstone_user_identification/3users/user0001.csv').head(2)"
   ]
  },
  {
   "cell_type": "markdown",
   "metadata": {},
   "source": [
    "В [соревновании](https://inclass.kaggle.com/c/catch-me-if-you-can-intruder-detection-through-webpage-session-tracking2) на Kaggle входные данные предобработанны таким образом, что представляют из себя таблицы где строка - последовательность веб-страниц, метки времени захода на соотвествующий сайт и меткой пользователя:"
   ]
  },
  {
   "cell_type": "code",
   "execution_count": 2,
   "metadata": {
    "ExecuteTime": {
     "end_time": "2018-04-05T14:39:04.745612Z",
     "start_time": "2018-04-05T14:39:00.214275Z"
    }
   },
   "outputs": [
    {
     "data": {
      "text/html": [
       "<div>\n",
       "<style scoped>\n",
       "    .dataframe tbody tr th:only-of-type {\n",
       "        vertical-align: middle;\n",
       "    }\n",
       "\n",
       "    .dataframe tbody tr th {\n",
       "        vertical-align: top;\n",
       "    }\n",
       "\n",
       "    .dataframe thead th {\n",
       "        text-align: right;\n",
       "    }\n",
       "</style>\n",
       "<table border=\"1\" class=\"dataframe\">\n",
       "  <thead>\n",
       "    <tr style=\"text-align: right;\">\n",
       "      <th></th>\n",
       "      <th>site1</th>\n",
       "      <th>time1</th>\n",
       "      <th>site2</th>\n",
       "      <th>time2</th>\n",
       "      <th>site3</th>\n",
       "      <th>time3</th>\n",
       "      <th>site4</th>\n",
       "      <th>time4</th>\n",
       "      <th>site5</th>\n",
       "      <th>time5</th>\n",
       "      <th>...</th>\n",
       "      <th>time6</th>\n",
       "      <th>site7</th>\n",
       "      <th>time7</th>\n",
       "      <th>site8</th>\n",
       "      <th>time8</th>\n",
       "      <th>site9</th>\n",
       "      <th>time9</th>\n",
       "      <th>site10</th>\n",
       "      <th>time10</th>\n",
       "      <th>target</th>\n",
       "    </tr>\n",
       "    <tr>\n",
       "      <th>session_id</th>\n",
       "      <th></th>\n",
       "      <th></th>\n",
       "      <th></th>\n",
       "      <th></th>\n",
       "      <th></th>\n",
       "      <th></th>\n",
       "      <th></th>\n",
       "      <th></th>\n",
       "      <th></th>\n",
       "      <th></th>\n",
       "      <th></th>\n",
       "      <th></th>\n",
       "      <th></th>\n",
       "      <th></th>\n",
       "      <th></th>\n",
       "      <th></th>\n",
       "      <th></th>\n",
       "      <th></th>\n",
       "      <th></th>\n",
       "      <th></th>\n",
       "      <th></th>\n",
       "    </tr>\n",
       "  </thead>\n",
       "  <tbody>\n",
       "    <tr>\n",
       "      <th>1</th>\n",
       "      <td>718</td>\n",
       "      <td>2014-02-20 10:02:45</td>\n",
       "      <td>NaN</td>\n",
       "      <td>NaN</td>\n",
       "      <td>NaN</td>\n",
       "      <td>NaN</td>\n",
       "      <td>NaN</td>\n",
       "      <td>NaN</td>\n",
       "      <td>NaN</td>\n",
       "      <td>NaN</td>\n",
       "      <td>...</td>\n",
       "      <td>NaN</td>\n",
       "      <td>NaN</td>\n",
       "      <td>NaN</td>\n",
       "      <td>NaN</td>\n",
       "      <td>NaN</td>\n",
       "      <td>NaN</td>\n",
       "      <td>NaN</td>\n",
       "      <td>NaN</td>\n",
       "      <td>NaN</td>\n",
       "      <td>0</td>\n",
       "    </tr>\n",
       "    <tr>\n",
       "      <th>2</th>\n",
       "      <td>890</td>\n",
       "      <td>2014-02-22 11:19:50</td>\n",
       "      <td>941.0</td>\n",
       "      <td>2014-02-22 11:19:50</td>\n",
       "      <td>3847.0</td>\n",
       "      <td>2014-02-22 11:19:51</td>\n",
       "      <td>941.0</td>\n",
       "      <td>2014-02-22 11:19:51</td>\n",
       "      <td>942.0</td>\n",
       "      <td>2014-02-22 11:19:51</td>\n",
       "      <td>...</td>\n",
       "      <td>2014-02-22 11:19:51</td>\n",
       "      <td>3847.0</td>\n",
       "      <td>2014-02-22 11:19:52</td>\n",
       "      <td>3846.0</td>\n",
       "      <td>2014-02-22 11:19:52</td>\n",
       "      <td>1516.0</td>\n",
       "      <td>2014-02-22 11:20:15</td>\n",
       "      <td>1518.0</td>\n",
       "      <td>2014-02-22 11:20:16</td>\n",
       "      <td>0</td>\n",
       "    </tr>\n",
       "  </tbody>\n",
       "</table>\n",
       "<p>2 rows × 21 columns</p>\n",
       "</div>"
      ],
      "text/plain": [
       "            site1               time1  site2                time2   site3  \\\n",
       "session_id                                                                  \n",
       "1             718 2014-02-20 10:02:45    NaN                  NaN     NaN   \n",
       "2             890 2014-02-22 11:19:50  941.0  2014-02-22 11:19:50  3847.0   \n",
       "\n",
       "                          time3  site4                time4  site5  \\\n",
       "session_id                                                           \n",
       "1                           NaN    NaN                  NaN    NaN   \n",
       "2           2014-02-22 11:19:51  941.0  2014-02-22 11:19:51  942.0   \n",
       "\n",
       "                          time5  ...                  time6   site7  \\\n",
       "session_id                       ...                                  \n",
       "1                           NaN  ...                    NaN     NaN   \n",
       "2           2014-02-22 11:19:51  ...    2014-02-22 11:19:51  3847.0   \n",
       "\n",
       "                          time7   site8                time8   site9  \\\n",
       "session_id                                                             \n",
       "1                           NaN     NaN                  NaN     NaN   \n",
       "2           2014-02-22 11:19:52  3846.0  2014-02-22 11:19:52  1516.0   \n",
       "\n",
       "                          time9  site10               time10 target  \n",
       "session_id                                                           \n",
       "1                           NaN     NaN                  NaN      0  \n",
       "2           2014-02-22 11:20:15  1518.0  2014-02-22 11:20:16      0  \n",
       "\n",
       "[2 rows x 21 columns]"
      ]
     },
     "execution_count": 2,
     "metadata": {},
     "output_type": "execute_result"
    }
   ],
   "source": [
    "import os\n",
    "PATH_TO_DATA = ('capstone_user_identification')\n",
    "\n",
    "train_df = pd.read_csv(os.path.join(PATH_TO_DATA, 'train_sessions.csv'), index_col='session_id', parse_dates=['time1'])\n",
    "test_df = pd.read_csv(os.path.join(PATH_TO_DATA, 'test_sessions.csv'), index_col='session_id', parse_dates=['time1'])\n",
    "\n",
    "train_df.head(2)"
   ]
  },
  {
   "cell_type": "markdown",
   "metadata": {
    "ExecuteTime": {
     "end_time": "2018-04-03T12:58:33.270130Z",
     "start_time": "2018-04-03T12:58:33.265375Z"
    }
   },
   "source": [
    "Посмотрим, как распределены по времени сессии в обучающей и тестовой выборке:"
   ]
  },
  {
   "cell_type": "code",
   "execution_count": 3,
   "metadata": {
    "ExecuteTime": {
     "end_time": "2018-04-05T14:39:04.766797Z",
     "start_time": "2018-04-05T14:39:04.747908Z"
    }
   },
   "outputs": [
    {
     "data": {
      "text/plain": [
       "(Timestamp('2013-01-12 08:05:57'),\n",
       " Timestamp('2014-04-30 23:39:53'),\n",
       " Timestamp('2014-05-01 17:14:03'),\n",
       " Timestamp('2014-12-05 23:26:53'))"
      ]
     },
     "execution_count": 3,
     "metadata": {},
     "output_type": "execute_result"
    }
   ],
   "source": [
    "train_df.time1.min(), train_df.time1.max(), test_df.time1.min(), test_df.time1.max()"
   ]
  },
  {
   "cell_type": "markdown",
   "metadata": {},
   "source": [
    "Видим, что временные отрезки(начала сессий) не пересекаются.\n",
    "В связи с этим, сортируем сессии в обучающей выборке по времени (по полю time1)"
   ]
  },
  {
   "cell_type": "code",
   "execution_count": 4,
   "metadata": {
    "ExecuteTime": {
     "end_time": "2018-04-05T14:39:05.155730Z",
     "start_time": "2018-04-05T14:39:04.769327Z"
    }
   },
   "outputs": [
    {
     "data": {
      "text/html": [
       "<div>\n",
       "<style scoped>\n",
       "    .dataframe tbody tr th:only-of-type {\n",
       "        vertical-align: middle;\n",
       "    }\n",
       "\n",
       "    .dataframe tbody tr th {\n",
       "        vertical-align: top;\n",
       "    }\n",
       "\n",
       "    .dataframe thead th {\n",
       "        text-align: right;\n",
       "    }\n",
       "</style>\n",
       "<table border=\"1\" class=\"dataframe\">\n",
       "  <thead>\n",
       "    <tr style=\"text-align: right;\">\n",
       "      <th></th>\n",
       "      <th>site1</th>\n",
       "      <th>time1</th>\n",
       "      <th>site2</th>\n",
       "      <th>time2</th>\n",
       "      <th>site3</th>\n",
       "      <th>time3</th>\n",
       "      <th>site4</th>\n",
       "      <th>time4</th>\n",
       "      <th>site5</th>\n",
       "      <th>time5</th>\n",
       "      <th>...</th>\n",
       "      <th>time6</th>\n",
       "      <th>site7</th>\n",
       "      <th>time7</th>\n",
       "      <th>site8</th>\n",
       "      <th>time8</th>\n",
       "      <th>site9</th>\n",
       "      <th>time9</th>\n",
       "      <th>site10</th>\n",
       "      <th>time10</th>\n",
       "      <th>target</th>\n",
       "    </tr>\n",
       "    <tr>\n",
       "      <th>session_id</th>\n",
       "      <th></th>\n",
       "      <th></th>\n",
       "      <th></th>\n",
       "      <th></th>\n",
       "      <th></th>\n",
       "      <th></th>\n",
       "      <th></th>\n",
       "      <th></th>\n",
       "      <th></th>\n",
       "      <th></th>\n",
       "      <th></th>\n",
       "      <th></th>\n",
       "      <th></th>\n",
       "      <th></th>\n",
       "      <th></th>\n",
       "      <th></th>\n",
       "      <th></th>\n",
       "      <th></th>\n",
       "      <th></th>\n",
       "      <th></th>\n",
       "      <th></th>\n",
       "    </tr>\n",
       "  </thead>\n",
       "  <tbody>\n",
       "    <tr>\n",
       "      <th>21669</th>\n",
       "      <td>56</td>\n",
       "      <td>2013-01-12 08:05:57</td>\n",
       "      <td>55.0</td>\n",
       "      <td>2013-01-12 08:05:57</td>\n",
       "      <td>NaN</td>\n",
       "      <td>NaN</td>\n",
       "      <td>NaN</td>\n",
       "      <td>NaN</td>\n",
       "      <td>NaN</td>\n",
       "      <td>NaN</td>\n",
       "      <td>...</td>\n",
       "      <td>NaN</td>\n",
       "      <td>NaN</td>\n",
       "      <td>NaN</td>\n",
       "      <td>NaN</td>\n",
       "      <td>NaN</td>\n",
       "      <td>NaN</td>\n",
       "      <td>NaN</td>\n",
       "      <td>NaN</td>\n",
       "      <td>NaN</td>\n",
       "      <td>0</td>\n",
       "    </tr>\n",
       "    <tr>\n",
       "      <th>54843</th>\n",
       "      <td>56</td>\n",
       "      <td>2013-01-12 08:37:23</td>\n",
       "      <td>55.0</td>\n",
       "      <td>2013-01-12 08:37:23</td>\n",
       "      <td>56.0</td>\n",
       "      <td>2013-01-12 09:07:07</td>\n",
       "      <td>55.0</td>\n",
       "      <td>2013-01-12 09:07:09</td>\n",
       "      <td>NaN</td>\n",
       "      <td>NaN</td>\n",
       "      <td>...</td>\n",
       "      <td>NaN</td>\n",
       "      <td>NaN</td>\n",
       "      <td>NaN</td>\n",
       "      <td>NaN</td>\n",
       "      <td>NaN</td>\n",
       "      <td>NaN</td>\n",
       "      <td>NaN</td>\n",
       "      <td>NaN</td>\n",
       "      <td>NaN</td>\n",
       "      <td>0</td>\n",
       "    </tr>\n",
       "  </tbody>\n",
       "</table>\n",
       "<p>2 rows × 21 columns</p>\n",
       "</div>"
      ],
      "text/plain": [
       "            site1               time1  site2                time2  site3  \\\n",
       "session_id                                                                 \n",
       "21669          56 2013-01-12 08:05:57   55.0  2013-01-12 08:05:57    NaN   \n",
       "54843          56 2013-01-12 08:37:23   55.0  2013-01-12 08:37:23   56.0   \n",
       "\n",
       "                          time3  site4                time4  site5 time5  \\\n",
       "session_id                                                                 \n",
       "21669                       NaN    NaN                  NaN    NaN   NaN   \n",
       "54843       2013-01-12 09:07:07   55.0  2013-01-12 09:07:09    NaN   NaN   \n",
       "\n",
       "            ...    time6 site7  time7 site8  time8 site9  time9 site10  \\\n",
       "session_id  ...                                                          \n",
       "21669       ...      NaN   NaN    NaN   NaN    NaN   NaN    NaN    NaN   \n",
       "54843       ...      NaN   NaN    NaN   NaN    NaN   NaN    NaN    NaN   \n",
       "\n",
       "            time10 target  \n",
       "session_id                 \n",
       "21669          NaN      0  \n",
       "54843          NaN      0  \n",
       "\n",
       "[2 rows x 21 columns]"
      ]
     },
     "execution_count": 4,
     "metadata": {},
     "output_type": "execute_result"
    }
   ],
   "source": [
    "train_df = train_df.sort_values(by='time1')\n",
    "train_df.head(2)"
   ]
  },
  {
   "cell_type": "code",
   "execution_count": 5,
   "metadata": {
    "ExecuteTime": {
     "end_time": "2018-04-05T14:39:05.551261Z",
     "start_time": "2018-04-05T14:39:05.158305Z"
    }
   },
   "outputs": [
    {
     "name": "stdout",
     "output_type": "stream",
     "text": [
      "<class 'pandas.core.frame.DataFrame'>\n",
      "Int64Index: 253561 entries, 21669 to 204762\n",
      "Data columns (total 21 columns):\n",
      "site1     253561 non-null int64\n",
      "time1     253561 non-null datetime64[ns]\n",
      "site2     250098 non-null float64\n",
      "time2     250098 non-null object\n",
      "site3     246919 non-null float64\n",
      "time3     246919 non-null object\n",
      "site4     244321 non-null float64\n",
      "time4     244321 non-null object\n",
      "site5     241829 non-null float64\n",
      "time5     241829 non-null object\n",
      "site6     239495 non-null float64\n",
      "time6     239495 non-null object\n",
      "site7     237297 non-null float64\n",
      "time7     237297 non-null object\n",
      "site8     235224 non-null float64\n",
      "time8     235224 non-null object\n",
      "site9     233084 non-null float64\n",
      "time9     233084 non-null object\n",
      "site10    231052 non-null float64\n",
      "time10    231052 non-null object\n",
      "target    253561 non-null int64\n",
      "dtypes: datetime64[ns](1), float64(9), int64(2), object(9)\n",
      "memory usage: 42.6+ MB\n"
     ]
    }
   ],
   "source": [
    "train_df.info()"
   ]
  },
  {
   "cell_type": "markdown",
   "metadata": {},
   "source": [
    "Сессии ограничены количеством сайтов (10) или длительностью сессии (30 мин)\n",
    "\n",
    "Судя по входным данным, некоторые строки имеют пропуски, когда длительность сессии больше получаса."
   ]
  },
  {
   "cell_type": "markdown",
   "metadata": {},
   "source": [
    "Кроме train- и test- таблиц, у нас есть словарь всех сайтов site_dict:"
   ]
  },
  {
   "cell_type": "code",
   "execution_count": 6,
   "metadata": {
    "ExecuteTime": {
     "end_time": "2018-04-05T14:39:05.693859Z",
     "start_time": "2018-04-05T14:39:05.553593Z"
    }
   },
   "outputs": [
    {
     "name": "stdout",
     "output_type": "stream",
     "text": [
      "0.0-02.net                     24314\n",
      "0.56.web1.im.weibo.com         43357\n",
      "0.academia-assets.com          18340\n",
      "0.academia-photos.com          32767\n",
      "0.api.urban-rivals.com         35936\n",
      "0.client-channel.google.com    47984\n",
      "0.cyberprofs.com                1542\n",
      "0.docs.google.com                775\n",
      "0.drive.google.com               678\n",
      "0.envato-static.com            30517\n",
      "dtype: int64\n"
     ]
    },
    {
     "data": {
      "text/plain": [
       "'Длина словаря сайтов: 48371'"
      ]
     },
     "execution_count": 6,
     "metadata": {},
     "output_type": "execute_result"
    }
   ],
   "source": [
    "import pickle\n",
    "with open('capstone_user_identification/site_dic.pkl', 'rb') as sd:\n",
    "    site_dict = pickle.load(sd)\n",
    "print(pd.Series(site_dict)[:10])\n",
    "'Длина словаря сайтов: {}'.format(len(site_dict))"
   ]
  },
  {
   "cell_type": "code",
   "execution_count": 7,
   "metadata": {
    "ExecuteTime": {
     "end_time": "2018-04-05T14:39:06.571949Z",
     "start_time": "2018-04-05T14:39:05.696248Z"
    }
   },
   "outputs": [
    {
     "data": {
      "text/html": [
       "<script>requirejs.config({paths: { 'plotly': ['https://cdn.plot.ly/plotly-latest.min']},});if(!window.Plotly) {{require(['plotly'],function(plotly) {window.Plotly=plotly;});}}</script>"
      ],
      "text/vnd.plotly.v1+html": [
       "<script>requirejs.config({paths: { 'plotly': ['https://cdn.plot.ly/plotly-latest.min']},});if(!window.Plotly) {{require(['plotly'],function(plotly) {window.Plotly=plotly;});}}</script>"
      ]
     },
     "metadata": {},
     "output_type": "display_data"
    },
    {
     "data": {
      "application/vnd.plotly.v1+json": {
       "data": [
        {
         "type": "bar",
         "x": [
          0,
          1
         ],
         "y": [
          251264,
          2297
         ]
        }
       ],
       "layout": {}
      },
      "text/html": [
       "<div id=\"457793c0-f100-4085-a37f-6b590b171905\" style=\"height: 525px; width: 100%;\" class=\"plotly-graph-div\"></div><script type=\"text/javascript\">require([\"plotly\"], function(Plotly) { window.PLOTLYENV=window.PLOTLYENV || {};window.PLOTLYENV.BASE_URL=\"https://plot.ly\";Plotly.newPlot(\"457793c0-f100-4085-a37f-6b590b171905\", [{\"type\": \"bar\", \"y\": [251264, 2297], \"x\": [0, 1]}], {}, {\"showLink\": true, \"linkText\": \"Export to plot.ly\"})});</script>"
      ],
      "text/vnd.plotly.v1+html": [
       "<div id=\"457793c0-f100-4085-a37f-6b590b171905\" style=\"height: 525px; width: 100%;\" class=\"plotly-graph-div\"></div><script type=\"text/javascript\">require([\"plotly\"], function(Plotly) { window.PLOTLYENV=window.PLOTLYENV || {};window.PLOTLYENV.BASE_URL=\"https://plot.ly\";Plotly.newPlot(\"457793c0-f100-4085-a37f-6b590b171905\", [{\"type\": \"bar\", \"y\": [251264, 2297], \"x\": [0, 1]}], {}, {\"showLink\": true, \"linkText\": \"Export to plot.ly\"})});</script>"
      ]
     },
     "metadata": {},
     "output_type": "display_data"
    }
   ],
   "source": [
    "from plotly import __version__\n",
    "from plotly.offline import download_plotlyjs, init_notebook_mode, plot, iplot\n",
    "import plotly.graph_objs as go\n",
    "\n",
    "init_notebook_mode(connected=True)\n",
    "\n",
    "data = [go.Bar(y=list(train_df.target.value_counts()), x=train_df.target.value_counts().index)]\n",
    "iplot(data)"
   ]
  },
  {
   "cell_type": "markdown",
   "metadata": {},
   "source": [
    "Видим, что в обучающей выборке классы очень несбалансированы: один класс больше другого примерно в сто раз."
   ]
  },
  {
   "cell_type": "markdown",
   "metadata": {},
   "source": [
    "Объеденим обучающую и тестовую выборки без меток класса, чтобы производить преобразования и добавление новых признаков:"
   ]
  },
  {
   "cell_type": "code",
   "execution_count": 8,
   "metadata": {
    "ExecuteTime": {
     "end_time": "2018-04-05T14:39:07.003992Z",
     "start_time": "2018-04-05T14:39:06.574062Z"
    }
   },
   "outputs": [
    {
     "data": {
      "text/plain": [
       "(336358, 20)"
      ]
     },
     "execution_count": 8,
     "metadata": {},
     "output_type": "execute_result"
    }
   ],
   "source": [
    "full_df = pd.concat([train_df.drop('target', axis=1), test_df])\n",
    "full_df.shape"
   ]
  },
  {
   "cell_type": "markdown",
   "metadata": {},
   "source": [
    "Выделим колонки сайтов и времени и поменяем тип колонок сайтов на int, заодно заменим пропуски сайтов на 0, так как нумерация сайтов в словаре site_dict начинается с единицы:"
   ]
  },
  {
   "cell_type": "code",
   "execution_count": 9,
   "metadata": {
    "ExecuteTime": {
     "end_time": "2018-04-05T14:39:07.450066Z",
     "start_time": "2018-04-05T14:39:07.006502Z"
    }
   },
   "outputs": [
    {
     "data": {
      "text/html": [
       "<div>\n",
       "<style scoped>\n",
       "    .dataframe tbody tr th:only-of-type {\n",
       "        vertical-align: middle;\n",
       "    }\n",
       "\n",
       "    .dataframe tbody tr th {\n",
       "        vertical-align: top;\n",
       "    }\n",
       "\n",
       "    .dataframe thead th {\n",
       "        text-align: right;\n",
       "    }\n",
       "</style>\n",
       "<table border=\"1\" class=\"dataframe\">\n",
       "  <thead>\n",
       "    <tr style=\"text-align: right;\">\n",
       "      <th></th>\n",
       "      <th>site1</th>\n",
       "      <th>site2</th>\n",
       "      <th>site3</th>\n",
       "      <th>site4</th>\n",
       "      <th>site5</th>\n",
       "      <th>site6</th>\n",
       "      <th>site7</th>\n",
       "      <th>site8</th>\n",
       "      <th>site9</th>\n",
       "      <th>site10</th>\n",
       "    </tr>\n",
       "    <tr>\n",
       "      <th>session_id</th>\n",
       "      <th></th>\n",
       "      <th></th>\n",
       "      <th></th>\n",
       "      <th></th>\n",
       "      <th></th>\n",
       "      <th></th>\n",
       "      <th></th>\n",
       "      <th></th>\n",
       "      <th></th>\n",
       "      <th></th>\n",
       "    </tr>\n",
       "  </thead>\n",
       "  <tbody>\n",
       "    <tr>\n",
       "      <th>21669</th>\n",
       "      <td>56</td>\n",
       "      <td>55</td>\n",
       "      <td>0</td>\n",
       "      <td>0</td>\n",
       "      <td>0</td>\n",
       "      <td>0</td>\n",
       "      <td>0</td>\n",
       "      <td>0</td>\n",
       "      <td>0</td>\n",
       "      <td>0</td>\n",
       "    </tr>\n",
       "    <tr>\n",
       "      <th>54843</th>\n",
       "      <td>56</td>\n",
       "      <td>55</td>\n",
       "      <td>56</td>\n",
       "      <td>55</td>\n",
       "      <td>0</td>\n",
       "      <td>0</td>\n",
       "      <td>0</td>\n",
       "      <td>0</td>\n",
       "      <td>0</td>\n",
       "      <td>0</td>\n",
       "    </tr>\n",
       "    <tr>\n",
       "      <th>77292</th>\n",
       "      <td>946</td>\n",
       "      <td>946</td>\n",
       "      <td>951</td>\n",
       "      <td>946</td>\n",
       "      <td>946</td>\n",
       "      <td>945</td>\n",
       "      <td>948</td>\n",
       "      <td>784</td>\n",
       "      <td>949</td>\n",
       "      <td>946</td>\n",
       "    </tr>\n",
       "  </tbody>\n",
       "</table>\n",
       "</div>"
      ],
      "text/plain": [
       "            site1  site2  site3  site4  site5  site6  site7  site8  site9  \\\n",
       "session_id                                                                  \n",
       "21669          56     55      0      0      0      0      0      0      0   \n",
       "54843          56     55     56     55      0      0      0      0      0   \n",
       "77292         946    946    951    946    946    945    948    784    949   \n",
       "\n",
       "            site10  \n",
       "session_id          \n",
       "21669            0  \n",
       "54843            0  \n",
       "77292          946  "
      ]
     },
     "execution_count": 9,
     "metadata": {},
     "output_type": "execute_result"
    }
   ],
   "source": [
    "time_cols = ['time%s' % i for i in range(1, 11)]\n",
    "site_cols = ['site%s' % i for i in range(1, 11)]\n",
    "train_df[site_cols] = train_df[site_cols].fillna(0).astype(int)\n",
    "full_df[site_cols] = full_df[site_cols].fillna(0).astype(int)\n",
    "idx = train_df.shape[0]\n",
    "full_df[site_cols].head(3)"
   ]
  },
  {
   "cell_type": "code",
   "execution_count": 10,
   "metadata": {
    "ExecuteTime": {
     "end_time": "2018-04-05T14:39:07.490477Z",
     "start_time": "2018-04-05T14:39:07.452507Z"
    }
   },
   "outputs": [
    {
     "data": {
      "text/html": [
       "<div>\n",
       "<style scoped>\n",
       "    .dataframe tbody tr th:only-of-type {\n",
       "        vertical-align: middle;\n",
       "    }\n",
       "\n",
       "    .dataframe tbody tr th {\n",
       "        vertical-align: top;\n",
       "    }\n",
       "\n",
       "    .dataframe thead th {\n",
       "        text-align: right;\n",
       "    }\n",
       "</style>\n",
       "<table border=\"1\" class=\"dataframe\">\n",
       "  <thead>\n",
       "    <tr style=\"text-align: right;\">\n",
       "      <th></th>\n",
       "      <th>site1</th>\n",
       "      <th>site2</th>\n",
       "      <th>site3</th>\n",
       "      <th>site4</th>\n",
       "      <th>site5</th>\n",
       "      <th>site6</th>\n",
       "      <th>site7</th>\n",
       "      <th>site8</th>\n",
       "      <th>site9</th>\n",
       "      <th>site10</th>\n",
       "    </tr>\n",
       "    <tr>\n",
       "      <th>session_id</th>\n",
       "      <th></th>\n",
       "      <th></th>\n",
       "      <th></th>\n",
       "      <th></th>\n",
       "      <th></th>\n",
       "      <th></th>\n",
       "      <th></th>\n",
       "      <th></th>\n",
       "      <th></th>\n",
       "      <th></th>\n",
       "    </tr>\n",
       "  </thead>\n",
       "  <tbody>\n",
       "    <tr>\n",
       "      <th>1</th>\n",
       "      <td>29</td>\n",
       "      <td>35</td>\n",
       "      <td>22</td>\n",
       "      <td>321</td>\n",
       "      <td>23</td>\n",
       "      <td>2211</td>\n",
       "      <td>6730</td>\n",
       "      <td>21</td>\n",
       "      <td>44582</td>\n",
       "      <td>15336</td>\n",
       "    </tr>\n",
       "    <tr>\n",
       "      <th>2</th>\n",
       "      <td>782</td>\n",
       "      <td>782</td>\n",
       "      <td>782</td>\n",
       "      <td>782</td>\n",
       "      <td>782</td>\n",
       "      <td>782</td>\n",
       "      <td>782</td>\n",
       "      <td>782</td>\n",
       "      <td>782</td>\n",
       "      <td>782</td>\n",
       "    </tr>\n",
       "    <tr>\n",
       "      <th>3</th>\n",
       "      <td>55</td>\n",
       "      <td>55</td>\n",
       "      <td>55</td>\n",
       "      <td>55</td>\n",
       "      <td>55</td>\n",
       "      <td>55</td>\n",
       "      <td>55</td>\n",
       "      <td>55</td>\n",
       "      <td>1445</td>\n",
       "      <td>1445</td>\n",
       "    </tr>\n",
       "  </tbody>\n",
       "</table>\n",
       "</div>"
      ],
      "text/plain": [
       "            site1  site2  site3  site4  site5  site6  site7  site8  site9  \\\n",
       "session_id                                                                  \n",
       "1              29     35     22    321     23   2211   6730     21  44582   \n",
       "2             782    782    782    782    782    782    782    782    782   \n",
       "3              55     55     55     55     55     55     55     55   1445   \n",
       "\n",
       "            site10  \n",
       "session_id          \n",
       "1            15336  \n",
       "2              782  \n",
       "3             1445  "
      ]
     },
     "execution_count": 10,
     "metadata": {},
     "output_type": "execute_result"
    }
   ],
   "source": [
    "test_df[site_cols] = test_df[site_cols].fillna(0).astype(int)\n",
    "test_df[site_cols].head(3)"
   ]
  },
  {
   "cell_type": "markdown",
   "metadata": {},
   "source": [
    "## Начнем создавать новые признаки"
   ]
  },
  {
   "cell_type": "code",
   "execution_count": 11,
   "metadata": {
    "ExecuteTime": {
     "end_time": "2018-04-05T14:39:07.529315Z",
     "start_time": "2018-04-05T14:39:07.492142Z"
    }
   },
   "outputs": [],
   "source": [
    "import numpy as np\n",
    "additional_data_df = pd.DataFrame(index = full_df.index)"
   ]
  },
  {
   "cell_type": "markdown",
   "metadata": {},
   "source": [
    "### Количество уникальных сайтов в сессиях"
   ]
  },
  {
   "cell_type": "markdown",
   "metadata": {},
   "source": [
    "Посмотрим на распределение количества уникальных сайтов в сессиях, и как оно различается в зависимости от пользователя:"
   ]
  },
  {
   "cell_type": "code",
   "execution_count": 12,
   "metadata": {
    "ExecuteTime": {
     "end_time": "2018-04-05T14:39:07.643080Z",
     "start_time": "2018-04-05T14:39:07.531377Z"
    }
   },
   "outputs": [
    {
     "data": {
      "text/plain": [
       "session_id\n",
       "21669     2\n",
       "54843     2\n",
       "77292     6\n",
       "114021    5\n",
       "146670    6\n",
       "dtype: int64"
      ]
     },
     "execution_count": 12,
     "metadata": {},
     "output_type": "execute_result"
    }
   ],
   "source": [
    "train_df[site_cols].head(5).apply(lambda x: len(np.unique(x[x!=0])), axis=1)"
   ]
  },
  {
   "cell_type": "code",
   "execution_count": 13,
   "metadata": {
    "ExecuteTime": {
     "end_time": "2018-04-05T14:39:07.698061Z",
     "start_time": "2018-04-05T14:39:07.645573Z"
    }
   },
   "outputs": [
    {
     "data": {
      "text/html": [
       "<div>\n",
       "<style scoped>\n",
       "    .dataframe tbody tr th:only-of-type {\n",
       "        vertical-align: middle;\n",
       "    }\n",
       "\n",
       "    .dataframe tbody tr th {\n",
       "        vertical-align: top;\n",
       "    }\n",
       "\n",
       "    .dataframe thead th {\n",
       "        text-align: right;\n",
       "    }\n",
       "</style>\n",
       "<table border=\"1\" class=\"dataframe\">\n",
       "  <thead>\n",
       "    <tr style=\"text-align: right;\">\n",
       "      <th></th>\n",
       "      <th>site1</th>\n",
       "      <th>site2</th>\n",
       "      <th>site3</th>\n",
       "      <th>site4</th>\n",
       "      <th>site5</th>\n",
       "      <th>site6</th>\n",
       "      <th>site7</th>\n",
       "      <th>site8</th>\n",
       "      <th>site9</th>\n",
       "      <th>site10</th>\n",
       "    </tr>\n",
       "    <tr>\n",
       "      <th>session_id</th>\n",
       "      <th></th>\n",
       "      <th></th>\n",
       "      <th></th>\n",
       "      <th></th>\n",
       "      <th></th>\n",
       "      <th></th>\n",
       "      <th></th>\n",
       "      <th></th>\n",
       "      <th></th>\n",
       "      <th></th>\n",
       "    </tr>\n",
       "  </thead>\n",
       "  <tbody>\n",
       "    <tr>\n",
       "      <th>21669</th>\n",
       "      <td>56</td>\n",
       "      <td>55</td>\n",
       "      <td>0</td>\n",
       "      <td>0</td>\n",
       "      <td>0</td>\n",
       "      <td>0</td>\n",
       "      <td>0</td>\n",
       "      <td>0</td>\n",
       "      <td>0</td>\n",
       "      <td>0</td>\n",
       "    </tr>\n",
       "    <tr>\n",
       "      <th>54843</th>\n",
       "      <td>56</td>\n",
       "      <td>55</td>\n",
       "      <td>56</td>\n",
       "      <td>55</td>\n",
       "      <td>0</td>\n",
       "      <td>0</td>\n",
       "      <td>0</td>\n",
       "      <td>0</td>\n",
       "      <td>0</td>\n",
       "      <td>0</td>\n",
       "    </tr>\n",
       "    <tr>\n",
       "      <th>77292</th>\n",
       "      <td>946</td>\n",
       "      <td>946</td>\n",
       "      <td>951</td>\n",
       "      <td>946</td>\n",
       "      <td>946</td>\n",
       "      <td>945</td>\n",
       "      <td>948</td>\n",
       "      <td>784</td>\n",
       "      <td>949</td>\n",
       "      <td>946</td>\n",
       "    </tr>\n",
       "    <tr>\n",
       "      <th>114021</th>\n",
       "      <td>945</td>\n",
       "      <td>948</td>\n",
       "      <td>949</td>\n",
       "      <td>948</td>\n",
       "      <td>945</td>\n",
       "      <td>946</td>\n",
       "      <td>947</td>\n",
       "      <td>945</td>\n",
       "      <td>946</td>\n",
       "      <td>946</td>\n",
       "    </tr>\n",
       "    <tr>\n",
       "      <th>146670</th>\n",
       "      <td>947</td>\n",
       "      <td>950</td>\n",
       "      <td>948</td>\n",
       "      <td>947</td>\n",
       "      <td>950</td>\n",
       "      <td>952</td>\n",
       "      <td>946</td>\n",
       "      <td>951</td>\n",
       "      <td>946</td>\n",
       "      <td>947</td>\n",
       "    </tr>\n",
       "  </tbody>\n",
       "</table>\n",
       "</div>"
      ],
      "text/plain": [
       "            site1  site2  site3  site4  site5  site6  site7  site8  site9  \\\n",
       "session_id                                                                  \n",
       "21669          56     55      0      0      0      0      0      0      0   \n",
       "54843          56     55     56     55      0      0      0      0      0   \n",
       "77292         946    946    951    946    946    945    948    784    949   \n",
       "114021        945    948    949    948    945    946    947    945    946   \n",
       "146670        947    950    948    947    950    952    946    951    946   \n",
       "\n",
       "            site10  \n",
       "session_id          \n",
       "21669            0  \n",
       "54843            0  \n",
       "77292          946  \n",
       "114021         946  \n",
       "146670         947  "
      ]
     },
     "execution_count": 13,
     "metadata": {},
     "output_type": "execute_result"
    }
   ],
   "source": [
    "train_df[site_cols].head(5)"
   ]
  },
  {
   "cell_type": "code",
   "execution_count": 14,
   "metadata": {
    "ExecuteTime": {
     "end_time": "2018-04-05T14:40:31.237326Z",
     "start_time": "2018-04-05T14:39:07.700151Z"
    }
   },
   "outputs": [
    {
     "data": {
      "text/html": [
       "<div>\n",
       "<style scoped>\n",
       "    .dataframe tbody tr th:only-of-type {\n",
       "        vertical-align: middle;\n",
       "    }\n",
       "\n",
       "    .dataframe tbody tr th {\n",
       "        vertical-align: top;\n",
       "    }\n",
       "\n",
       "    .dataframe thead th {\n",
       "        text-align: right;\n",
       "    }\n",
       "</style>\n",
       "<table border=\"1\" class=\"dataframe\">\n",
       "  <thead>\n",
       "    <tr style=\"text-align: right;\">\n",
       "      <th></th>\n",
       "      <th>nunique_site_count</th>\n",
       "      <th>target</th>\n",
       "    </tr>\n",
       "    <tr>\n",
       "      <th>session_id</th>\n",
       "      <th></th>\n",
       "      <th></th>\n",
       "    </tr>\n",
       "  </thead>\n",
       "  <tbody>\n",
       "    <tr>\n",
       "      <th>21669</th>\n",
       "      <td>2</td>\n",
       "      <td>0</td>\n",
       "    </tr>\n",
       "    <tr>\n",
       "      <th>54843</th>\n",
       "      <td>2</td>\n",
       "      <td>0</td>\n",
       "    </tr>\n",
       "    <tr>\n",
       "      <th>77292</th>\n",
       "      <td>6</td>\n",
       "      <td>0</td>\n",
       "    </tr>\n",
       "    <tr>\n",
       "      <th>114021</th>\n",
       "      <td>5</td>\n",
       "      <td>0</td>\n",
       "    </tr>\n",
       "    <tr>\n",
       "      <th>146670</th>\n",
       "      <td>6</td>\n",
       "      <td>0</td>\n",
       "    </tr>\n",
       "  </tbody>\n",
       "</table>\n",
       "</div>"
      ],
      "text/plain": [
       "            nunique_site_count  target\n",
       "session_id                            \n",
       "21669                        2       0\n",
       "54843                        2       0\n",
       "77292                        6       0\n",
       "114021                       5       0\n",
       "146670                       6       0"
      ]
     },
     "execution_count": 14,
     "metadata": {},
     "output_type": "execute_result"
    }
   ],
   "source": [
    "unique_count_sites_df = pd.DataFrame({'nunique_site_count' : train_df[site_cols].apply(lambda x: len(np.unique(x[x!=0])), axis=1), 'target' : train_df.target})\n",
    "unique_count_sites_df.head()"
   ]
  },
  {
   "cell_type": "code",
   "execution_count": 15,
   "metadata": {
    "ExecuteTime": {
     "end_time": "2018-04-05T14:40:31.269336Z",
     "start_time": "2018-04-05T14:40:31.239868Z"
    }
   },
   "outputs": [
    {
     "data": {
      "application/vnd.plotly.v1+json": {
       "data": [
        {
         "name": "target 0",
         "type": "bar",
         "x": [
          7,
          6,
          8,
          5,
          4,
          9,
          3,
          2,
          1,
          10
         ],
         "y": [
          37185,
          35332,
          33203,
          30763,
          23162,
          22855,
          21004,
          20446,
          16830,
          10484
         ]
        },
        {
         "name": "target 1",
         "type": "bar",
         "x": [
          7,
          5,
          6,
          8,
          4,
          9,
          3,
          2,
          10,
          1
         ],
         "y": [
          467,
          368,
          368,
          335,
          240,
          206,
          141,
          78,
          61,
          33
         ]
        }
       ],
       "layout": {
        "title": "Distributions of amount of unique sites in sessions"
       }
      },
      "text/html": [
       "<div id=\"a2e47047-d5cb-419a-a17f-579a9fc8321a\" style=\"height: 525px; width: 100%;\" class=\"plotly-graph-div\"></div><script type=\"text/javascript\">require([\"plotly\"], function(Plotly) { window.PLOTLYENV=window.PLOTLYENV || {};window.PLOTLYENV.BASE_URL=\"https://plot.ly\";Plotly.newPlot(\"a2e47047-d5cb-419a-a17f-579a9fc8321a\", [{\"type\": \"bar\", \"x\": [7, 6, 8, 5, 4, 9, 3, 2, 1, 10], \"y\": [37185, 35332, 33203, 30763, 23162, 22855, 21004, 20446, 16830, 10484], \"name\": \"target 0\"}, {\"type\": \"bar\", \"x\": [7, 5, 6, 8, 4, 9, 3, 2, 10, 1], \"y\": [467, 368, 368, 335, 240, 206, 141, 78, 61, 33], \"name\": \"target 1\"}], {\"title\": \"Distributions of amount of unique sites in sessions\"}, {\"showLink\": true, \"linkText\": \"Export to plot.ly\"})});</script>"
      ],
      "text/vnd.plotly.v1+html": [
       "<div id=\"a2e47047-d5cb-419a-a17f-579a9fc8321a\" style=\"height: 525px; width: 100%;\" class=\"plotly-graph-div\"></div><script type=\"text/javascript\">require([\"plotly\"], function(Plotly) { window.PLOTLYENV=window.PLOTLYENV || {};window.PLOTLYENV.BASE_URL=\"https://plot.ly\";Plotly.newPlot(\"a2e47047-d5cb-419a-a17f-579a9fc8321a\", [{\"type\": \"bar\", \"x\": [7, 6, 8, 5, 4, 9, 3, 2, 1, 10], \"y\": [37185, 35332, 33203, 30763, 23162, 22855, 21004, 20446, 16830, 10484], \"name\": \"target 0\"}, {\"type\": \"bar\", \"x\": [7, 5, 6, 8, 4, 9, 3, 2, 10, 1], \"y\": [467, 368, 368, 335, 240, 206, 141, 78, 61, 33], \"name\": \"target 1\"}], {\"title\": \"Distributions of amount of unique sites in sessions\"}, {\"showLink\": true, \"linkText\": \"Export to plot.ly\"})});</script>"
      ]
     },
     "metadata": {},
     "output_type": "display_data"
    }
   ],
   "source": [
    "data4 = [ go.Bar(\n",
    "    x=unique_count_sites_df[unique_count_sites_df.target == 0]['nunique_site_count'].value_counts().index,\n",
    "    y=unique_count_sites_df[unique_count_sites_df.target == 0]['nunique_site_count'].value_counts(),\n",
    "    name='target 0'\n",
    "), go.Bar(\n",
    "    x=unique_count_sites_df[unique_count_sites_df.target == 1]['nunique_site_count'].value_counts().index,\n",
    "    y=unique_count_sites_df[unique_count_sites_df.target == 1]['nunique_site_count'].value_counts(),\n",
    "    name='target 1'\n",
    ")]\n",
    "layout = {'title': 'Distributions of amount of unique sites in sessions'}\n",
    "fig = go.Figure(data=data4, layout=layout)\n",
    "iplot(fig)"
   ]
  },
  {
   "cell_type": "markdown",
   "metadata": {},
   "source": [
    "Добавим столбец 'nunique' в датафрейм additional_data_df:"
   ]
  },
  {
   "cell_type": "code",
   "execution_count": 16,
   "metadata": {
    "ExecuteTime": {
     "end_time": "2018-04-05T14:42:21.440525Z",
     "start_time": "2018-04-05T14:40:31.270746Z"
    }
   },
   "outputs": [],
   "source": [
    "#del unique_count_sites_df\n",
    "additional_data_df['nunique'] = full_df[site_cols].apply(lambda x: len(np.unique(x[x!=0])), axis=1)"
   ]
  },
  {
   "cell_type": "markdown",
   "metadata": {},
   "source": [
    "### Индикаторы популярных сайтов в сессии"
   ]
  },
  {
   "cell_type": "markdown",
   "metadata": {},
   "source": [
    "#### Найдем наиболее популярные сайты в обучающей выборке среди всех пользователей"
   ]
  },
  {
   "cell_type": "code",
   "execution_count": 17,
   "metadata": {
    "ExecuteTime": {
     "end_time": "2018-04-05T14:42:21.520041Z",
     "start_time": "2018-04-05T14:42:21.442368Z"
    }
   },
   "outputs": [
    {
     "data": {
      "text/plain": [
       "21     123776\n",
       "0      122730\n",
       "23      87619\n",
       "782     77055\n",
       "22      58258\n",
       "29      54094\n",
       "167     46405\n",
       "780     43841\n",
       "778     38194\n",
       "52      36085\n",
       "dtype: int64"
      ]
     },
     "execution_count": 17,
     "metadata": {},
     "output_type": "execute_result"
    }
   ],
   "source": [
    "top_sites = pd.Series(train_df[site_cols].values.flatten()\n",
    "                     ).value_counts().sort_values(ascending=False).head(10)\n",
    "top_sites"
   ]
  },
  {
   "cell_type": "code",
   "execution_count": 18,
   "metadata": {
    "ExecuteTime": {
     "end_time": "2018-04-05T14:42:21.534074Z",
     "start_time": "2018-04-05T14:42:21.521671Z"
    }
   },
   "outputs": [
    {
     "data": {
      "text/plain": [
       "77     1382\n",
       "80     1354\n",
       "76     1307\n",
       "29      897\n",
       "21      857\n",
       "81      609\n",
       "879     522\n",
       "22      522\n",
       "75      451\n",
       "82      447\n",
       "dtype: int64"
      ]
     },
     "execution_count": 18,
     "metadata": {},
     "output_type": "execute_result"
    }
   ],
   "source": [
    "# Alice's preferences\n",
    "top_sites_alice = pd.Series(train_df[train_df.target==1][site_cols].values.flatten()\n",
    "                           ).value_counts().sort_values(ascending=False).head(10)\n",
    "top_sites_alice"
   ]
  },
  {
   "cell_type": "markdown",
   "metadata": {},
   "source": [
    "Заметим, что сайты 21, 22 и 29 находятся в топе популярных и у Alice, и у остальных пользователей."
   ]
  },
  {
   "cell_type": "markdown",
   "metadata": {},
   "source": [
    "Посмотрим, как часто встречаются сайты, популярные у Alice, среди всех сессий выборки:"
   ]
  },
  {
   "cell_type": "code",
   "execution_count": 19,
   "metadata": {
    "ExecuteTime": {
     "end_time": "2018-04-05T14:42:23.722871Z",
     "start_time": "2018-04-05T14:42:21.536672Z"
    }
   },
   "outputs": [],
   "source": [
    "alices_pop_sites=[]\n",
    "for s in top_sites_alice.index:\n",
    "    alices_pop_sites.append(len(train_df[train_df.target==0][site_cols].values.flatten()[train_df[train_df.target==0][site_cols].values.flatten()==s]))"
   ]
  },
  {
   "cell_type": "code",
   "execution_count": 20,
   "metadata": {
    "ExecuteTime": {
     "end_time": "2018-04-05T14:42:23.761706Z",
     "start_time": "2018-04-05T14:42:23.725085Z"
    }
   },
   "outputs": [],
   "source": [
    "alices_top_names = []\n",
    "for s in top_sites_alice.index:\n",
    "    alices_top_names.append(list(site_dict.keys())[list(site_dict.values()).index(s)])"
   ]
  },
  {
   "cell_type": "code",
   "execution_count": 21,
   "metadata": {
    "ExecuteTime": {
     "end_time": "2018-04-05T14:42:23.814840Z",
     "start_time": "2018-04-05T14:42:23.764071Z"
    }
   },
   "outputs": [
    {
     "data": {
      "text/plain": [
       "['i1.ytimg.com',\n",
       " 's.youtube.com',\n",
       " 'www.youtube.com',\n",
       " 'www.facebook.com',\n",
       " 'www.google.fr',\n",
       " 'r4---sn-gxo5uxg-jqbe.googlevideo.com',\n",
       " 'r1---sn-gxo5uxg-jqbe.googlevideo.com',\n",
       " 'apis.google.com',\n",
       " 's.ytimg.com',\n",
       " 'r2---sn-gxo5uxg-jqbe.googlevideo.com']"
      ]
     },
     "execution_count": 21,
     "metadata": {},
     "output_type": "execute_result"
    }
   ],
   "source": [
    "alices_top_names"
   ]
  },
  {
   "cell_type": "code",
   "execution_count": 22,
   "metadata": {
    "ExecuteTime": {
     "end_time": "2018-04-05T14:42:23.884761Z",
     "start_time": "2018-04-05T14:42:23.817040Z"
    }
   },
   "outputs": [
    {
     "data": {
      "application/vnd.plotly.v1+json": {
       "data": [
        {
         "name": "among Alice",
         "type": "bar",
         "x": [
          "i1.ytimg.com",
          "s.youtube.com",
          "www.youtube.com",
          "www.facebook.com",
          "www.google.fr",
          "r4---sn-gxo5uxg-jqbe.googlevideo.com",
          "r1---sn-gxo5uxg-jqbe.googlevideo.com",
          "apis.google.com",
          "s.ytimg.com",
          "r2---sn-gxo5uxg-jqbe.googlevideo.com"
         ],
         "y": [
          1382,
          1354,
          1307,
          897,
          857,
          609,
          522,
          522,
          451,
          447
         ]
        },
        {
         "name": "among all another",
         "type": "bar",
         "x": [
          "i1.ytimg.com",
          "s.youtube.com",
          "www.youtube.com",
          "www.facebook.com",
          "www.google.fr",
          "r4---sn-gxo5uxg-jqbe.googlevideo.com",
          "r1---sn-gxo5uxg-jqbe.googlevideo.com",
          "apis.google.com",
          "s.ytimg.com",
          "r2---sn-gxo5uxg-jqbe.googlevideo.com"
         ],
         "y": [
          15888,
          30037,
          19615,
          53197,
          122919,
          7457,
          8160,
          57736,
          9654,
          7737
         ]
        }
       ],
       "layout": {
        "title": "Distribution of alices most popular sites"
       }
      },
      "text/html": [
       "<div id=\"cf0531cd-5799-45fe-8594-7272bc2bdb39\" style=\"height: 525px; width: 100%;\" class=\"plotly-graph-div\"></div><script type=\"text/javascript\">require([\"plotly\"], function(Plotly) { window.PLOTLYENV=window.PLOTLYENV || {};window.PLOTLYENV.BASE_URL=\"https://plot.ly\";Plotly.newPlot(\"cf0531cd-5799-45fe-8594-7272bc2bdb39\", [{\"type\": \"bar\", \"y\": [1382, 1354, 1307, 897, 857, 609, 522, 522, 451, 447], \"x\": [\"i1.ytimg.com\", \"s.youtube.com\", \"www.youtube.com\", \"www.facebook.com\", \"www.google.fr\", \"r4---sn-gxo5uxg-jqbe.googlevideo.com\", \"r1---sn-gxo5uxg-jqbe.googlevideo.com\", \"apis.google.com\", \"s.ytimg.com\", \"r2---sn-gxo5uxg-jqbe.googlevideo.com\"], \"name\": \"among Alice\"}, {\"type\": \"bar\", \"y\": [15888, 30037, 19615, 53197, 122919, 7457, 8160, 57736, 9654, 7737], \"x\": [\"i1.ytimg.com\", \"s.youtube.com\", \"www.youtube.com\", \"www.facebook.com\", \"www.google.fr\", \"r4---sn-gxo5uxg-jqbe.googlevideo.com\", \"r1---sn-gxo5uxg-jqbe.googlevideo.com\", \"apis.google.com\", \"s.ytimg.com\", \"r2---sn-gxo5uxg-jqbe.googlevideo.com\"], \"name\": \"among all another\"}], {\"title\": \"Distribution of alices most popular sites\"}, {\"showLink\": true, \"linkText\": \"Export to plot.ly\"})});</script>"
      ],
      "text/vnd.plotly.v1+html": [
       "<div id=\"cf0531cd-5799-45fe-8594-7272bc2bdb39\" style=\"height: 525px; width: 100%;\" class=\"plotly-graph-div\"></div><script type=\"text/javascript\">require([\"plotly\"], function(Plotly) { window.PLOTLYENV=window.PLOTLYENV || {};window.PLOTLYENV.BASE_URL=\"https://plot.ly\";Plotly.newPlot(\"cf0531cd-5799-45fe-8594-7272bc2bdb39\", [{\"type\": \"bar\", \"y\": [1382, 1354, 1307, 897, 857, 609, 522, 522, 451, 447], \"x\": [\"i1.ytimg.com\", \"s.youtube.com\", \"www.youtube.com\", \"www.facebook.com\", \"www.google.fr\", \"r4---sn-gxo5uxg-jqbe.googlevideo.com\", \"r1---sn-gxo5uxg-jqbe.googlevideo.com\", \"apis.google.com\", \"s.ytimg.com\", \"r2---sn-gxo5uxg-jqbe.googlevideo.com\"], \"name\": \"among Alice\"}, {\"type\": \"bar\", \"y\": [15888, 30037, 19615, 53197, 122919, 7457, 8160, 57736, 9654, 7737], \"x\": [\"i1.ytimg.com\", \"s.youtube.com\", \"www.youtube.com\", \"www.facebook.com\", \"www.google.fr\", \"r4---sn-gxo5uxg-jqbe.googlevideo.com\", \"r1---sn-gxo5uxg-jqbe.googlevideo.com\", \"apis.google.com\", \"s.ytimg.com\", \"r2---sn-gxo5uxg-jqbe.googlevideo.com\"], \"name\": \"among all another\"}], {\"title\": \"Distribution of alices most popular sites\"}, {\"showLink\": true, \"linkText\": \"Export to plot.ly\"})});</script>"
      ]
     },
     "metadata": {},
     "output_type": "display_data"
    }
   ],
   "source": [
    "data5 = [\n",
    "    go.Bar(y=top_sites_alice, x=alices_top_names, name='among Alice'),\n",
    "    go.Bar(y=alices_pop_sites, x=alices_top_names, name='among all another')\n",
    "]\n",
    "fig = go.Figure(data=data5, layout={'title': 'Distribution of alices most popular sites'})\n",
    "iplot(fig)"
   ]
  },
  {
   "cell_type": "markdown",
   "metadata": {},
   "source": [
    "Видим, что сайты, популярные у Alice, пользуются популярностью также и у остальных пользователей. Тем не менее, они будут нам полезны, добавим в датафрейм  additional_data_df индикатор захода на эти сайты:"
   ]
  },
  {
   "cell_type": "code",
   "execution_count": 23,
   "metadata": {
    "ExecuteTime": {
     "end_time": "2018-04-05T14:42:50.260224Z",
     "start_time": "2018-04-05T14:42:23.887356Z"
    }
   },
   "outputs": [],
   "source": [
    "additional_data_df['alices_top_site'] = full_df[site_cols].apply(lambda x: 1 if x.any() in list(top_sites_alice.index) else 0, axis=1)"
   ]
  },
  {
   "cell_type": "markdown",
   "metadata": {},
   "source": [
    "Из-за того, что списки пересекаются, начиная уже с четвертого элемента, возможно, более показательно будет добавить индикатор захода в топ-3 популярных сайтов Alice."
   ]
  },
  {
   "cell_type": "code",
   "execution_count": 24,
   "metadata": {
    "ExecuteTime": {
     "end_time": "2018-04-05T14:43:13.682527Z",
     "start_time": "2018-04-05T14:42:50.262255Z"
    }
   },
   "outputs": [],
   "source": [
    "additional_data_df['alices_top3_site'] = full_df[site_cols].apply(lambda x: 1 if x.any() in list(top_sites_alice.index)[:3] else 0, axis=1)"
   ]
  },
  {
   "cell_type": "code",
   "execution_count": 25,
   "metadata": {
    "ExecuteTime": {
     "end_time": "2018-04-05T14:43:13.705182Z",
     "start_time": "2018-04-05T14:43:13.684459Z"
    },
    "scrolled": true
   },
   "outputs": [
    {
     "data": {
      "text/html": [
       "<div>\n",
       "<style scoped>\n",
       "    .dataframe tbody tr th:only-of-type {\n",
       "        vertical-align: middle;\n",
       "    }\n",
       "\n",
       "    .dataframe tbody tr th {\n",
       "        vertical-align: top;\n",
       "    }\n",
       "\n",
       "    .dataframe thead th {\n",
       "        text-align: right;\n",
       "    }\n",
       "</style>\n",
       "<table border=\"1\" class=\"dataframe\">\n",
       "  <thead>\n",
       "    <tr style=\"text-align: right;\">\n",
       "      <th></th>\n",
       "      <th>nunique</th>\n",
       "      <th>alices_top_site</th>\n",
       "      <th>alices_top3_site</th>\n",
       "    </tr>\n",
       "    <tr>\n",
       "      <th>session_id</th>\n",
       "      <th></th>\n",
       "      <th></th>\n",
       "      <th></th>\n",
       "    </tr>\n",
       "  </thead>\n",
       "  <tbody>\n",
       "    <tr>\n",
       "      <th>21669</th>\n",
       "      <td>2</td>\n",
       "      <td>0</td>\n",
       "      <td>0</td>\n",
       "    </tr>\n",
       "    <tr>\n",
       "      <th>54843</th>\n",
       "      <td>2</td>\n",
       "      <td>0</td>\n",
       "      <td>0</td>\n",
       "    </tr>\n",
       "    <tr>\n",
       "      <th>77292</th>\n",
       "      <td>6</td>\n",
       "      <td>0</td>\n",
       "      <td>0</td>\n",
       "    </tr>\n",
       "    <tr>\n",
       "      <th>114021</th>\n",
       "      <td>5</td>\n",
       "      <td>0</td>\n",
       "      <td>0</td>\n",
       "    </tr>\n",
       "    <tr>\n",
       "      <th>146670</th>\n",
       "      <td>6</td>\n",
       "      <td>0</td>\n",
       "      <td>0</td>\n",
       "    </tr>\n",
       "    <tr>\n",
       "      <th>242171</th>\n",
       "      <td>5</td>\n",
       "      <td>0</td>\n",
       "      <td>0</td>\n",
       "    </tr>\n",
       "    <tr>\n",
       "      <th>57157</th>\n",
       "      <td>5</td>\n",
       "      <td>0</td>\n",
       "      <td>0</td>\n",
       "    </tr>\n",
       "    <tr>\n",
       "      <th>240201</th>\n",
       "      <td>6</td>\n",
       "      <td>0</td>\n",
       "      <td>0</td>\n",
       "    </tr>\n",
       "    <tr>\n",
       "      <th>210686</th>\n",
       "      <td>5</td>\n",
       "      <td>0</td>\n",
       "      <td>0</td>\n",
       "    </tr>\n",
       "    <tr>\n",
       "      <th>98804</th>\n",
       "      <td>8</td>\n",
       "      <td>0</td>\n",
       "      <td>0</td>\n",
       "    </tr>\n",
       "    <tr>\n",
       "      <th>113494</th>\n",
       "      <td>4</td>\n",
       "      <td>0</td>\n",
       "      <td>0</td>\n",
       "    </tr>\n",
       "    <tr>\n",
       "      <th>223837</th>\n",
       "      <td>8</td>\n",
       "      <td>0</td>\n",
       "      <td>0</td>\n",
       "    </tr>\n",
       "    <tr>\n",
       "      <th>145475</th>\n",
       "      <td>5</td>\n",
       "      <td>0</td>\n",
       "      <td>0</td>\n",
       "    </tr>\n",
       "    <tr>\n",
       "      <th>186633</th>\n",
       "      <td>5</td>\n",
       "      <td>0</td>\n",
       "      <td>0</td>\n",
       "    </tr>\n",
       "    <tr>\n",
       "      <th>45193</th>\n",
       "      <td>10</td>\n",
       "      <td>0</td>\n",
       "      <td>0</td>\n",
       "    </tr>\n",
       "    <tr>\n",
       "      <th>102930</th>\n",
       "      <td>8</td>\n",
       "      <td>0</td>\n",
       "      <td>0</td>\n",
       "    </tr>\n",
       "    <tr>\n",
       "      <th>15789</th>\n",
       "      <td>8</td>\n",
       "      <td>0</td>\n",
       "      <td>0</td>\n",
       "    </tr>\n",
       "    <tr>\n",
       "      <th>205868</th>\n",
       "      <td>3</td>\n",
       "      <td>0</td>\n",
       "      <td>0</td>\n",
       "    </tr>\n",
       "    <tr>\n",
       "      <th>21102</th>\n",
       "      <td>6</td>\n",
       "      <td>0</td>\n",
       "      <td>0</td>\n",
       "    </tr>\n",
       "    <tr>\n",
       "      <th>193454</th>\n",
       "      <td>6</td>\n",
       "      <td>0</td>\n",
       "      <td>0</td>\n",
       "    </tr>\n",
       "    <tr>\n",
       "      <th>252924</th>\n",
       "      <td>6</td>\n",
       "      <td>0</td>\n",
       "      <td>0</td>\n",
       "    </tr>\n",
       "    <tr>\n",
       "      <th>12713</th>\n",
       "      <td>8</td>\n",
       "      <td>0</td>\n",
       "      <td>0</td>\n",
       "    </tr>\n",
       "    <tr>\n",
       "      <th>182016</th>\n",
       "      <td>7</td>\n",
       "      <td>0</td>\n",
       "      <td>0</td>\n",
       "    </tr>\n",
       "    <tr>\n",
       "      <th>55750</th>\n",
       "      <td>2</td>\n",
       "      <td>0</td>\n",
       "      <td>0</td>\n",
       "    </tr>\n",
       "    <tr>\n",
       "      <th>237109</th>\n",
       "      <td>7</td>\n",
       "      <td>0</td>\n",
       "      <td>0</td>\n",
       "    </tr>\n",
       "    <tr>\n",
       "      <th>120126</th>\n",
       "      <td>4</td>\n",
       "      <td>0</td>\n",
       "      <td>0</td>\n",
       "    </tr>\n",
       "    <tr>\n",
       "      <th>140105</th>\n",
       "      <td>10</td>\n",
       "      <td>0</td>\n",
       "      <td>0</td>\n",
       "    </tr>\n",
       "    <tr>\n",
       "      <th>129357</th>\n",
       "      <td>9</td>\n",
       "      <td>0</td>\n",
       "      <td>0</td>\n",
       "    </tr>\n",
       "    <tr>\n",
       "      <th>136699</th>\n",
       "      <td>4</td>\n",
       "      <td>0</td>\n",
       "      <td>0</td>\n",
       "    </tr>\n",
       "    <tr>\n",
       "      <th>113189</th>\n",
       "      <td>6</td>\n",
       "      <td>0</td>\n",
       "      <td>0</td>\n",
       "    </tr>\n",
       "    <tr>\n",
       "      <th>...</th>\n",
       "      <td>...</td>\n",
       "      <td>...</td>\n",
       "      <td>...</td>\n",
       "    </tr>\n",
       "    <tr>\n",
       "      <th>82768</th>\n",
       "      <td>6</td>\n",
       "      <td>0</td>\n",
       "      <td>0</td>\n",
       "    </tr>\n",
       "    <tr>\n",
       "      <th>82769</th>\n",
       "      <td>4</td>\n",
       "      <td>0</td>\n",
       "      <td>0</td>\n",
       "    </tr>\n",
       "    <tr>\n",
       "      <th>82770</th>\n",
       "      <td>2</td>\n",
       "      <td>0</td>\n",
       "      <td>0</td>\n",
       "    </tr>\n",
       "    <tr>\n",
       "      <th>82771</th>\n",
       "      <td>1</td>\n",
       "      <td>0</td>\n",
       "      <td>0</td>\n",
       "    </tr>\n",
       "    <tr>\n",
       "      <th>82772</th>\n",
       "      <td>8</td>\n",
       "      <td>0</td>\n",
       "      <td>0</td>\n",
       "    </tr>\n",
       "    <tr>\n",
       "      <th>82773</th>\n",
       "      <td>6</td>\n",
       "      <td>0</td>\n",
       "      <td>0</td>\n",
       "    </tr>\n",
       "    <tr>\n",
       "      <th>82774</th>\n",
       "      <td>9</td>\n",
       "      <td>0</td>\n",
       "      <td>0</td>\n",
       "    </tr>\n",
       "    <tr>\n",
       "      <th>82775</th>\n",
       "      <td>7</td>\n",
       "      <td>0</td>\n",
       "      <td>0</td>\n",
       "    </tr>\n",
       "    <tr>\n",
       "      <th>82776</th>\n",
       "      <td>7</td>\n",
       "      <td>0</td>\n",
       "      <td>0</td>\n",
       "    </tr>\n",
       "    <tr>\n",
       "      <th>82777</th>\n",
       "      <td>7</td>\n",
       "      <td>0</td>\n",
       "      <td>0</td>\n",
       "    </tr>\n",
       "    <tr>\n",
       "      <th>82778</th>\n",
       "      <td>7</td>\n",
       "      <td>0</td>\n",
       "      <td>0</td>\n",
       "    </tr>\n",
       "    <tr>\n",
       "      <th>82779</th>\n",
       "      <td>3</td>\n",
       "      <td>0</td>\n",
       "      <td>0</td>\n",
       "    </tr>\n",
       "    <tr>\n",
       "      <th>82780</th>\n",
       "      <td>5</td>\n",
       "      <td>0</td>\n",
       "      <td>0</td>\n",
       "    </tr>\n",
       "    <tr>\n",
       "      <th>82781</th>\n",
       "      <td>7</td>\n",
       "      <td>0</td>\n",
       "      <td>0</td>\n",
       "    </tr>\n",
       "    <tr>\n",
       "      <th>82782</th>\n",
       "      <td>7</td>\n",
       "      <td>0</td>\n",
       "      <td>0</td>\n",
       "    </tr>\n",
       "    <tr>\n",
       "      <th>82783</th>\n",
       "      <td>6</td>\n",
       "      <td>0</td>\n",
       "      <td>0</td>\n",
       "    </tr>\n",
       "    <tr>\n",
       "      <th>82784</th>\n",
       "      <td>2</td>\n",
       "      <td>0</td>\n",
       "      <td>0</td>\n",
       "    </tr>\n",
       "    <tr>\n",
       "      <th>82785</th>\n",
       "      <td>7</td>\n",
       "      <td>0</td>\n",
       "      <td>0</td>\n",
       "    </tr>\n",
       "    <tr>\n",
       "      <th>82786</th>\n",
       "      <td>3</td>\n",
       "      <td>0</td>\n",
       "      <td>0</td>\n",
       "    </tr>\n",
       "    <tr>\n",
       "      <th>82787</th>\n",
       "      <td>5</td>\n",
       "      <td>0</td>\n",
       "      <td>0</td>\n",
       "    </tr>\n",
       "    <tr>\n",
       "      <th>82788</th>\n",
       "      <td>5</td>\n",
       "      <td>0</td>\n",
       "      <td>0</td>\n",
       "    </tr>\n",
       "    <tr>\n",
       "      <th>82789</th>\n",
       "      <td>7</td>\n",
       "      <td>0</td>\n",
       "      <td>0</td>\n",
       "    </tr>\n",
       "    <tr>\n",
       "      <th>82790</th>\n",
       "      <td>9</td>\n",
       "      <td>0</td>\n",
       "      <td>0</td>\n",
       "    </tr>\n",
       "    <tr>\n",
       "      <th>82791</th>\n",
       "      <td>4</td>\n",
       "      <td>0</td>\n",
       "      <td>0</td>\n",
       "    </tr>\n",
       "    <tr>\n",
       "      <th>82792</th>\n",
       "      <td>8</td>\n",
       "      <td>0</td>\n",
       "      <td>0</td>\n",
       "    </tr>\n",
       "    <tr>\n",
       "      <th>82793</th>\n",
       "      <td>3</td>\n",
       "      <td>0</td>\n",
       "      <td>0</td>\n",
       "    </tr>\n",
       "    <tr>\n",
       "      <th>82794</th>\n",
       "      <td>6</td>\n",
       "      <td>0</td>\n",
       "      <td>0</td>\n",
       "    </tr>\n",
       "    <tr>\n",
       "      <th>82795</th>\n",
       "      <td>10</td>\n",
       "      <td>0</td>\n",
       "      <td>0</td>\n",
       "    </tr>\n",
       "    <tr>\n",
       "      <th>82796</th>\n",
       "      <td>7</td>\n",
       "      <td>0</td>\n",
       "      <td>0</td>\n",
       "    </tr>\n",
       "    <tr>\n",
       "      <th>82797</th>\n",
       "      <td>2</td>\n",
       "      <td>0</td>\n",
       "      <td>0</td>\n",
       "    </tr>\n",
       "  </tbody>\n",
       "</table>\n",
       "<p>336358 rows × 3 columns</p>\n",
       "</div>"
      ],
      "text/plain": [
       "            nunique  alices_top_site  alices_top3_site\n",
       "session_id                                            \n",
       "21669             2                0                 0\n",
       "54843             2                0                 0\n",
       "77292             6                0                 0\n",
       "114021            5                0                 0\n",
       "146670            6                0                 0\n",
       "242171            5                0                 0\n",
       "57157             5                0                 0\n",
       "240201            6                0                 0\n",
       "210686            5                0                 0\n",
       "98804             8                0                 0\n",
       "113494            4                0                 0\n",
       "223837            8                0                 0\n",
       "145475            5                0                 0\n",
       "186633            5                0                 0\n",
       "45193            10                0                 0\n",
       "102930            8                0                 0\n",
       "15789             8                0                 0\n",
       "205868            3                0                 0\n",
       "21102             6                0                 0\n",
       "193454            6                0                 0\n",
       "252924            6                0                 0\n",
       "12713             8                0                 0\n",
       "182016            7                0                 0\n",
       "55750             2                0                 0\n",
       "237109            7                0                 0\n",
       "120126            4                0                 0\n",
       "140105           10                0                 0\n",
       "129357            9                0                 0\n",
       "136699            4                0                 0\n",
       "113189            6                0                 0\n",
       "...             ...              ...               ...\n",
       "82768             6                0                 0\n",
       "82769             4                0                 0\n",
       "82770             2                0                 0\n",
       "82771             1                0                 0\n",
       "82772             8                0                 0\n",
       "82773             6                0                 0\n",
       "82774             9                0                 0\n",
       "82775             7                0                 0\n",
       "82776             7                0                 0\n",
       "82777             7                0                 0\n",
       "82778             7                0                 0\n",
       "82779             3                0                 0\n",
       "82780             5                0                 0\n",
       "82781             7                0                 0\n",
       "82782             7                0                 0\n",
       "82783             6                0                 0\n",
       "82784             2                0                 0\n",
       "82785             7                0                 0\n",
       "82786             3                0                 0\n",
       "82787             5                0                 0\n",
       "82788             5                0                 0\n",
       "82789             7                0                 0\n",
       "82790             9                0                 0\n",
       "82791             4                0                 0\n",
       "82792             8                0                 0\n",
       "82793             3                0                 0\n",
       "82794             6                0                 0\n",
       "82795            10                0                 0\n",
       "82796             7                0                 0\n",
       "82797             2                0                 0\n",
       "\n",
       "[336358 rows x 3 columns]"
      ]
     },
     "execution_count": 25,
     "metadata": {},
     "output_type": "execute_result"
    }
   ],
   "source": [
    "additional_data_df"
   ]
  },
  {
   "cell_type": "markdown",
   "metadata": {},
   "source": [
    "Кроме того, добавим индикатор захода на наиболее популярные сайты в выборке:"
   ]
  },
  {
   "cell_type": "code",
   "execution_count": 26,
   "metadata": {
    "ExecuteTime": {
     "end_time": "2018-04-05T14:43:39.899476Z",
     "start_time": "2018-04-05T14:43:13.707131Z"
    }
   },
   "outputs": [],
   "source": [
    "additional_data_df['top_site'] = full_df[site_cols].apply(lambda x: 1 if x.any() in list(top_sites.index) else 0, axis=1)"
   ]
  },
  {
   "cell_type": "markdown",
   "metadata": {},
   "source": [
    "### День недели, час начала сессии, часть дня, индикатор выходного дня"
   ]
  },
  {
   "cell_type": "code",
   "execution_count": 27,
   "metadata": {
    "ExecuteTime": {
     "end_time": "2018-04-05T14:43:41.548122Z",
     "start_time": "2018-04-05T14:43:39.901637Z"
    }
   },
   "outputs": [],
   "source": [
    "additional_data_df['start_hour'] = full_df['time1'].apply(lambda x: x.hour)"
   ]
  },
  {
   "cell_type": "code",
   "execution_count": 28,
   "metadata": {
    "ExecuteTime": {
     "end_time": "2018-04-05T14:43:42.656802Z",
     "start_time": "2018-04-05T14:43:41.549841Z"
    }
   },
   "outputs": [],
   "source": [
    "additional_data_df['day_of_week'] = full_df['time1'].apply(lambda x: x.weekday())"
   ]
  },
  {
   "cell_type": "code",
   "execution_count": 29,
   "metadata": {
    "ExecuteTime": {
     "end_time": "2018-04-05T14:43:46.739006Z",
     "start_time": "2018-04-05T14:43:42.658989Z"
    }
   },
   "outputs": [],
   "source": [
    "import seaborn as sns\n",
    "import matplotlib.pyplot as plt\n",
    "_, axes = plt.subplots(1, 2, figsize=(16,6))\n",
    "\n",
    "sns.countplot(x=additional_data_df[:idx][train_df.target==0].day_of_week, hue=train_df.target, ax=axes[0]);\n",
    "sns.countplot(x=additional_data_df[:idx][train_df.target==1].day_of_week, hue=train_df.target, ax=axes[1]);\n",
    "_.suptitle('Distribution sessions by day of week'); # can also get the figure from plt.gcf()"
   ]
  },
  {
   "cell_type": "code",
   "execution_count": 30,
   "metadata": {
    "ExecuteTime": {
     "end_time": "2018-04-05T14:43:46.969897Z",
     "start_time": "2018-04-05T14:43:46.741045Z"
    }
   },
   "outputs": [],
   "source": [
    "import seaborn as sns\n",
    "_, axes = plt.subplots(1, 2, figsize=(16,6))\n",
    "\n",
    "sns.countplot(x=additional_data_df[:idx][train_df.target==0].start_hour, hue=train_df.target, ax=axes[0]);\n",
    "sns.countplot(x=additional_data_df[:idx][train_df.target==1].start_hour, hue=train_df.target, ax=axes[1]);\n",
    "_.suptitle('Distribution sessions by day of week'); # can also get the figure from plt.gcf()"
   ]
  },
  {
   "cell_type": "markdown",
   "metadata": {},
   "source": [
    "Видим, что у Alice довольно отличное от общей выборки время начала сессии. Укажем отдельным столбцом часть дня, соответсвующую start_hour:"
   ]
  },
  {
   "cell_type": "code",
   "execution_count": 31,
   "metadata": {
    "ExecuteTime": {
     "end_time": "2018-04-05T14:43:46.981857Z",
     "start_time": "2018-04-05T14:43:46.972057Z"
    }
   },
   "outputs": [],
   "source": [
    "def day_part(hour):\n",
    "    if hour<9:\n",
    "        return 'early_morning'\n",
    "    elif hour<12:\n",
    "            return 'morning'\n",
    "    elif hour<16:\n",
    "            return 'day'\n",
    "    elif hour<19:\n",
    "            return 'early evening'\n",
    "    else:\n",
    "        return 'evening'"
   ]
  },
  {
   "cell_type": "code",
   "execution_count": 32,
   "metadata": {
    "ExecuteTime": {
     "end_time": "2018-04-05T14:43:47.171934Z",
     "start_time": "2018-04-05T14:43:46.983516Z"
    }
   },
   "outputs": [],
   "source": [
    "additional_data_df['daypart'] = additional_data_df['start_hour'].apply(lambda x: day_part(x))"
   ]
  },
  {
   "cell_type": "code",
   "execution_count": 33,
   "metadata": {
    "ExecuteTime": {
     "end_time": "2018-04-05T14:43:47.315304Z",
     "start_time": "2018-04-05T14:43:47.173993Z"
    }
   },
   "outputs": [],
   "source": [
    "additional_data_df['weekend'] = additional_data_df['day_of_week'].apply(lambda x: 1 if x>4 else 0)"
   ]
  },
  {
   "cell_type": "markdown",
   "metadata": {},
   "source": [
    "### Признак захода на vk.com\n",
    "Это мой \"инсайт\", который я отрыла, рассматривая файлы пользователей: некоторые пользователи вовсе не заходят на этот сайт, а Alice - довольно много"
   ]
  },
  {
   "cell_type": "code",
   "execution_count": 34,
   "metadata": {
    "ExecuteTime": {
     "end_time": "2018-04-05T14:43:47.319907Z",
     "start_time": "2018-04-05T14:43:47.317402Z"
    }
   },
   "outputs": [],
   "source": [
    "site_vk = site_dict['vk.com']"
   ]
  },
  {
   "cell_type": "code",
   "execution_count": 35,
   "metadata": {
    "ExecuteTime": {
     "end_time": "2018-04-05T14:43:47.545535Z",
     "start_time": "2018-04-05T14:43:47.321520Z"
    }
   },
   "outputs": [
    {
     "data": {
      "text/plain": [
       "1035"
      ]
     },
     "execution_count": 35,
     "metadata": {},
     "output_type": "execute_result"
    }
   ],
   "source": [
    "len(train_df[train_df.target==0][site_cols].values.flatten()[train_df[train_df.target==0][site_cols].values.flatten()==site_vk])"
   ]
  },
  {
   "cell_type": "code",
   "execution_count": 36,
   "metadata": {
    "ExecuteTime": {
     "end_time": "2018-04-05T14:43:47.557371Z",
     "start_time": "2018-04-05T14:43:47.547214Z"
    }
   },
   "outputs": [
    {
     "data": {
      "text/plain": [
       "286"
      ]
     },
     "execution_count": 36,
     "metadata": {},
     "output_type": "execute_result"
    }
   ],
   "source": [
    "len(train_df[train_df.target==1][site_cols].values.flatten()[train_df[train_df.target==1][site_cols].values.flatten()==site_vk])"
   ]
  },
  {
   "cell_type": "code",
   "execution_count": 37,
   "metadata": {
    "ExecuteTime": {
     "end_time": "2018-04-05T14:43:49.801640Z",
     "start_time": "2018-04-05T14:43:47.558980Z"
    }
   },
   "outputs": [],
   "source": [
    "additional_data_df['vk.com'] = full_df[site_cols].apply(lambda x: 1 if site_vk in x else 0, axis=1)"
   ]
  },
  {
   "cell_type": "markdown",
   "metadata": {},
   "source": [
    "### Трансформация временных меток в интервалы времени"
   ]
  },
  {
   "cell_type": "code",
   "execution_count": 38,
   "metadata": {
    "ExecuteTime": {
     "end_time": "2018-04-05T14:43:53.805868Z",
     "start_time": "2018-04-05T14:43:49.803751Z"
    }
   },
   "outputs": [],
   "source": [
    "stamps = full_df[time_cols].apply(pd.to_datetime)\n",
    "for t in stamps[:-1]:\n",
    "    stamps[t] = np.log1p((stamps.shift(-1, axis=1)[t] - stamps[t])/np.timedelta64(1,'s'))\n",
    "stamps.drop('time10', axis=1, inplace=True)"
   ]
  },
  {
   "cell_type": "code",
   "execution_count": 39,
   "metadata": {
    "ExecuteTime": {
     "end_time": "2018-04-05T14:43:53.831747Z",
     "start_time": "2018-04-05T14:43:53.807931Z"
    }
   },
   "outputs": [
    {
     "data": {
      "text/html": [
       "<div>\n",
       "<style scoped>\n",
       "    .dataframe tbody tr th:only-of-type {\n",
       "        vertical-align: middle;\n",
       "    }\n",
       "\n",
       "    .dataframe tbody tr th {\n",
       "        vertical-align: top;\n",
       "    }\n",
       "\n",
       "    .dataframe thead th {\n",
       "        text-align: right;\n",
       "    }\n",
       "</style>\n",
       "<table border=\"1\" class=\"dataframe\">\n",
       "  <thead>\n",
       "    <tr style=\"text-align: right;\">\n",
       "      <th></th>\n",
       "      <th>time1</th>\n",
       "      <th>time2</th>\n",
       "      <th>time3</th>\n",
       "      <th>time4</th>\n",
       "      <th>time5</th>\n",
       "      <th>time6</th>\n",
       "      <th>time7</th>\n",
       "      <th>time8</th>\n",
       "      <th>time9</th>\n",
       "    </tr>\n",
       "    <tr>\n",
       "      <th>session_id</th>\n",
       "      <th></th>\n",
       "      <th></th>\n",
       "      <th></th>\n",
       "      <th></th>\n",
       "      <th></th>\n",
       "      <th></th>\n",
       "      <th></th>\n",
       "      <th></th>\n",
       "      <th></th>\n",
       "    </tr>\n",
       "  </thead>\n",
       "  <tbody>\n",
       "    <tr>\n",
       "      <th>21669</th>\n",
       "      <td>0.000000</td>\n",
       "      <td>NaN</td>\n",
       "      <td>NaN</td>\n",
       "      <td>NaN</td>\n",
       "      <td>NaN</td>\n",
       "      <td>NaN</td>\n",
       "      <td>NaN</td>\n",
       "      <td>NaN</td>\n",
       "      <td>NaN</td>\n",
       "    </tr>\n",
       "    <tr>\n",
       "      <th>54843</th>\n",
       "      <td>0.000000</td>\n",
       "      <td>7.487174</td>\n",
       "      <td>1.098612</td>\n",
       "      <td>NaN</td>\n",
       "      <td>NaN</td>\n",
       "      <td>NaN</td>\n",
       "      <td>NaN</td>\n",
       "      <td>NaN</td>\n",
       "      <td>NaN</td>\n",
       "    </tr>\n",
       "    <tr>\n",
       "      <th>77292</th>\n",
       "      <td>0.693147</td>\n",
       "      <td>0.693147</td>\n",
       "      <td>0.000000</td>\n",
       "      <td>0.693147</td>\n",
       "      <td>0.0</td>\n",
       "      <td>0.000000</td>\n",
       "      <td>0.000000</td>\n",
       "      <td>0.693147</td>\n",
       "      <td>0.000000</td>\n",
       "    </tr>\n",
       "    <tr>\n",
       "      <th>114021</th>\n",
       "      <td>0.000000</td>\n",
       "      <td>0.693147</td>\n",
       "      <td>0.000000</td>\n",
       "      <td>0.000000</td>\n",
       "      <td>0.0</td>\n",
       "      <td>0.693147</td>\n",
       "      <td>0.000000</td>\n",
       "      <td>0.000000</td>\n",
       "      <td>0.693147</td>\n",
       "    </tr>\n",
       "    <tr>\n",
       "      <th>146670</th>\n",
       "      <td>0.000000</td>\n",
       "      <td>0.000000</td>\n",
       "      <td>0.693147</td>\n",
       "      <td>0.000000</td>\n",
       "      <td>0.0</td>\n",
       "      <td>0.000000</td>\n",
       "      <td>0.693147</td>\n",
       "      <td>0.000000</td>\n",
       "      <td>0.000000</td>\n",
       "    </tr>\n",
       "  </tbody>\n",
       "</table>\n",
       "</div>"
      ],
      "text/plain": [
       "               time1     time2     time3     time4  time5     time6     time7  \\\n",
       "session_id                                                                      \n",
       "21669       0.000000       NaN       NaN       NaN    NaN       NaN       NaN   \n",
       "54843       0.000000  7.487174  1.098612       NaN    NaN       NaN       NaN   \n",
       "77292       0.693147  0.693147  0.000000  0.693147    0.0  0.000000  0.000000   \n",
       "114021      0.000000  0.693147  0.000000  0.000000    0.0  0.693147  0.000000   \n",
       "146670      0.000000  0.000000  0.693147  0.000000    0.0  0.000000  0.693147   \n",
       "\n",
       "               time8     time9  \n",
       "session_id                      \n",
       "21669            NaN       NaN  \n",
       "54843            NaN       NaN  \n",
       "77292       0.693147  0.000000  \n",
       "114021      0.000000  0.693147  \n",
       "146670      0.000000  0.000000  "
      ]
     },
     "execution_count": 39,
     "metadata": {},
     "output_type": "execute_result"
    }
   ],
   "source": [
    "stamps.head()"
   ]
  },
  {
   "cell_type": "markdown",
   "metadata": {},
   "source": [
    "Добавим в additional_data_df столбец timespan - разница между первым и последним сайтом в сессии."
   ]
  },
  {
   "cell_type": "code",
   "execution_count": 40,
   "metadata": {
    "ExecuteTime": {
     "end_time": "2018-04-05T14:43:53.935818Z",
     "start_time": "2018-04-05T14:43:53.834370Z"
    }
   },
   "outputs": [],
   "source": [
    "additional_data_df['timespan'] = stamps.sum(axis=1)"
   ]
  },
  {
   "cell_type": "markdown",
   "metadata": {},
   "source": [
    "## Преобразуем категориальные признаки"
   ]
  },
  {
   "cell_type": "code",
   "execution_count": 41,
   "metadata": {
    "ExecuteTime": {
     "end_time": "2018-04-05T14:43:54.035577Z",
     "start_time": "2018-04-05T14:43:53.938256Z"
    }
   },
   "outputs": [],
   "source": [
    "add_data_df = pd.get_dummies(additional_data_df, columns=['start_hour', 'day_of_week', 'daypart'])"
   ]
  },
  {
   "cell_type": "code",
   "execution_count": 42,
   "metadata": {
    "ExecuteTime": {
     "end_time": "2018-04-05T14:43:54.067010Z",
     "start_time": "2018-04-05T14:43:54.037684Z"
    },
    "scrolled": true
   },
   "outputs": [
    {
     "data": {
      "text/html": [
       "<div>\n",
       "<style scoped>\n",
       "    .dataframe tbody tr th:only-of-type {\n",
       "        vertical-align: middle;\n",
       "    }\n",
       "\n",
       "    .dataframe tbody tr th {\n",
       "        vertical-align: top;\n",
       "    }\n",
       "\n",
       "    .dataframe thead th {\n",
       "        text-align: right;\n",
       "    }\n",
       "</style>\n",
       "<table border=\"1\" class=\"dataframe\">\n",
       "  <thead>\n",
       "    <tr style=\"text-align: right;\">\n",
       "      <th></th>\n",
       "      <th>nunique</th>\n",
       "      <th>alices_top_site</th>\n",
       "      <th>alices_top3_site</th>\n",
       "      <th>top_site</th>\n",
       "      <th>weekend</th>\n",
       "      <th>vk.com</th>\n",
       "      <th>timespan</th>\n",
       "      <th>start_hour_7</th>\n",
       "      <th>start_hour_8</th>\n",
       "      <th>start_hour_9</th>\n",
       "      <th>...</th>\n",
       "      <th>day_of_week_2</th>\n",
       "      <th>day_of_week_3</th>\n",
       "      <th>day_of_week_4</th>\n",
       "      <th>day_of_week_5</th>\n",
       "      <th>day_of_week_6</th>\n",
       "      <th>daypart_day</th>\n",
       "      <th>daypart_early evening</th>\n",
       "      <th>daypart_early_morning</th>\n",
       "      <th>daypart_evening</th>\n",
       "      <th>daypart_morning</th>\n",
       "    </tr>\n",
       "    <tr>\n",
       "      <th>session_id</th>\n",
       "      <th></th>\n",
       "      <th></th>\n",
       "      <th></th>\n",
       "      <th></th>\n",
       "      <th></th>\n",
       "      <th></th>\n",
       "      <th></th>\n",
       "      <th></th>\n",
       "      <th></th>\n",
       "      <th></th>\n",
       "      <th></th>\n",
       "      <th></th>\n",
       "      <th></th>\n",
       "      <th></th>\n",
       "      <th></th>\n",
       "      <th></th>\n",
       "      <th></th>\n",
       "      <th></th>\n",
       "      <th></th>\n",
       "      <th></th>\n",
       "      <th></th>\n",
       "    </tr>\n",
       "  </thead>\n",
       "  <tbody>\n",
       "    <tr>\n",
       "      <th>21669</th>\n",
       "      <td>2</td>\n",
       "      <td>0</td>\n",
       "      <td>0</td>\n",
       "      <td>0</td>\n",
       "      <td>1</td>\n",
       "      <td>0</td>\n",
       "      <td>0.000000</td>\n",
       "      <td>0</td>\n",
       "      <td>1</td>\n",
       "      <td>0</td>\n",
       "      <td>...</td>\n",
       "      <td>0</td>\n",
       "      <td>0</td>\n",
       "      <td>0</td>\n",
       "      <td>1</td>\n",
       "      <td>0</td>\n",
       "      <td>0</td>\n",
       "      <td>0</td>\n",
       "      <td>1</td>\n",
       "      <td>0</td>\n",
       "      <td>0</td>\n",
       "    </tr>\n",
       "    <tr>\n",
       "      <th>54843</th>\n",
       "      <td>2</td>\n",
       "      <td>0</td>\n",
       "      <td>0</td>\n",
       "      <td>0</td>\n",
       "      <td>1</td>\n",
       "      <td>0</td>\n",
       "      <td>8.585786</td>\n",
       "      <td>0</td>\n",
       "      <td>1</td>\n",
       "      <td>0</td>\n",
       "      <td>...</td>\n",
       "      <td>0</td>\n",
       "      <td>0</td>\n",
       "      <td>0</td>\n",
       "      <td>1</td>\n",
       "      <td>0</td>\n",
       "      <td>0</td>\n",
       "      <td>0</td>\n",
       "      <td>1</td>\n",
       "      <td>0</td>\n",
       "      <td>0</td>\n",
       "    </tr>\n",
       "    <tr>\n",
       "      <th>77292</th>\n",
       "      <td>6</td>\n",
       "      <td>0</td>\n",
       "      <td>0</td>\n",
       "      <td>0</td>\n",
       "      <td>1</td>\n",
       "      <td>0</td>\n",
       "      <td>2.772589</td>\n",
       "      <td>0</td>\n",
       "      <td>1</td>\n",
       "      <td>0</td>\n",
       "      <td>...</td>\n",
       "      <td>0</td>\n",
       "      <td>0</td>\n",
       "      <td>0</td>\n",
       "      <td>1</td>\n",
       "      <td>0</td>\n",
       "      <td>0</td>\n",
       "      <td>0</td>\n",
       "      <td>1</td>\n",
       "      <td>0</td>\n",
       "      <td>0</td>\n",
       "    </tr>\n",
       "    <tr>\n",
       "      <th>114021</th>\n",
       "      <td>5</td>\n",
       "      <td>0</td>\n",
       "      <td>0</td>\n",
       "      <td>0</td>\n",
       "      <td>1</td>\n",
       "      <td>0</td>\n",
       "      <td>2.079442</td>\n",
       "      <td>0</td>\n",
       "      <td>1</td>\n",
       "      <td>0</td>\n",
       "      <td>...</td>\n",
       "      <td>0</td>\n",
       "      <td>0</td>\n",
       "      <td>0</td>\n",
       "      <td>1</td>\n",
       "      <td>0</td>\n",
       "      <td>0</td>\n",
       "      <td>0</td>\n",
       "      <td>1</td>\n",
       "      <td>0</td>\n",
       "      <td>0</td>\n",
       "    </tr>\n",
       "    <tr>\n",
       "      <th>146670</th>\n",
       "      <td>6</td>\n",
       "      <td>0</td>\n",
       "      <td>0</td>\n",
       "      <td>0</td>\n",
       "      <td>1</td>\n",
       "      <td>0</td>\n",
       "      <td>1.386294</td>\n",
       "      <td>0</td>\n",
       "      <td>1</td>\n",
       "      <td>0</td>\n",
       "      <td>...</td>\n",
       "      <td>0</td>\n",
       "      <td>0</td>\n",
       "      <td>0</td>\n",
       "      <td>1</td>\n",
       "      <td>0</td>\n",
       "      <td>0</td>\n",
       "      <td>0</td>\n",
       "      <td>1</td>\n",
       "      <td>0</td>\n",
       "      <td>0</td>\n",
       "    </tr>\n",
       "  </tbody>\n",
       "</table>\n",
       "<p>5 rows × 36 columns</p>\n",
       "</div>"
      ],
      "text/plain": [
       "            nunique  alices_top_site  alices_top3_site  top_site  weekend  \\\n",
       "session_id                                                                  \n",
       "21669             2                0                 0         0        1   \n",
       "54843             2                0                 0         0        1   \n",
       "77292             6                0                 0         0        1   \n",
       "114021            5                0                 0         0        1   \n",
       "146670            6                0                 0         0        1   \n",
       "\n",
       "            vk.com  timespan  start_hour_7  start_hour_8  start_hour_9  \\\n",
       "session_id                                                               \n",
       "21669            0  0.000000             0             1             0   \n",
       "54843            0  8.585786             0             1             0   \n",
       "77292            0  2.772589             0             1             0   \n",
       "114021           0  2.079442             0             1             0   \n",
       "146670           0  1.386294             0             1             0   \n",
       "\n",
       "                 ...         day_of_week_2  day_of_week_3  day_of_week_4  \\\n",
       "session_id       ...                                                       \n",
       "21669            ...                     0              0              0   \n",
       "54843            ...                     0              0              0   \n",
       "77292            ...                     0              0              0   \n",
       "114021           ...                     0              0              0   \n",
       "146670           ...                     0              0              0   \n",
       "\n",
       "            day_of_week_5  day_of_week_6  daypart_day  daypart_early evening  \\\n",
       "session_id                                                                     \n",
       "21669                   1              0            0                      0   \n",
       "54843                   1              0            0                      0   \n",
       "77292                   1              0            0                      0   \n",
       "114021                  1              0            0                      0   \n",
       "146670                  1              0            0                      0   \n",
       "\n",
       "            daypart_early_morning  daypart_evening  daypart_morning  \n",
       "session_id                                                           \n",
       "21669                           1                0                0  \n",
       "54843                           1                0                0  \n",
       "77292                           1                0                0  \n",
       "114021                          1                0                0  \n",
       "146670                          1                0                0  \n",
       "\n",
       "[5 rows x 36 columns]"
      ]
     },
     "execution_count": 42,
     "metadata": {},
     "output_type": "execute_result"
    }
   ],
   "source": [
    "add_data_df.head()"
   ]
  },
  {
   "cell_type": "markdown",
   "metadata": {},
   "source": [
    "## Векторизуем данные сайтов"
   ]
  },
  {
   "cell_type": "code",
   "execution_count": 43,
   "metadata": {
    "ExecuteTime": {
     "end_time": "2018-04-05T14:44:09.639026Z",
     "start_time": "2018-04-05T14:43:54.069479Z"
    }
   },
   "outputs": [
    {
     "data": {
      "text/plain": [
       "((253561, 50000), (82797, 50000))"
      ]
     },
     "execution_count": 43,
     "metadata": {},
     "output_type": "execute_result"
    }
   ],
   "source": [
    "from sklearn.feature_extraction.text import CountVectorizer\n",
    "cv = CountVectorizer(ngram_range=(1, 3), max_features=50000)\n",
    "full_df[site_cols][:idx].to_csv('train_sessions_text.txt', sep=' ', index=None, header=None)\n",
    "full_df[site_cols][idx:].to_csv('test_sessions_text.txt', sep=' ', index=None, header=None)\n",
    "with open('train_sessions_text.txt') as inp_train_file:\n",
    "    X_train_sites = cv.fit_transform(inp_train_file)\n",
    "with open('test_sessions_text.txt') as inp_test_file:\n",
    "    X_test_sites = cv.transform(inp_test_file)\n",
    "X_train_sites.shape, X_test_sites.shape"
   ]
  },
  {
   "cell_type": "code",
   "execution_count": 44,
   "metadata": {
    "ExecuteTime": {
     "end_time": "2018-04-05T14:44:09.646161Z",
     "start_time": "2018-04-05T14:44:09.640897Z"
    }
   },
   "outputs": [],
   "source": [
    "vocabulary_list = list(cv.vocabulary_.values())"
   ]
  },
  {
   "cell_type": "markdown",
   "metadata": {},
   "source": [
    "## Создадим разбиение с помощью TimeSeriesSplit"
   ]
  },
  {
   "cell_type": "code",
   "execution_count": 45,
   "metadata": {
    "ExecuteTime": {
     "end_time": "2018-04-05T14:44:10.016861Z",
     "start_time": "2018-04-05T14:44:09.647752Z"
    }
   },
   "outputs": [],
   "source": [
    "from sklearn.model_selection import TimeSeriesSplit, cross_val_score, GridSearchCV\n",
    "time_split = TimeSeriesSplit(n_splits=10)"
   ]
  },
  {
   "cell_type": "markdown",
   "metadata": {
    "ExecuteTime": {
     "end_time": "2018-04-04T14:13:25.127205Z",
     "start_time": "2018-04-04T14:13:25.124679Z"
    }
   },
   "source": [
    "## Обучение модели"
   ]
  },
  {
   "cell_type": "markdown",
   "metadata": {},
   "source": [
    "### Объединяем все датафреймы в один, и разбиваем обратно на обучающую и тестовую выбобрки"
   ]
  },
  {
   "cell_type": "code",
   "execution_count": 46,
   "metadata": {
    "ExecuteTime": {
     "end_time": "2018-04-05T14:44:10.022678Z",
     "start_time": "2018-04-05T14:44:10.019233Z"
    }
   },
   "outputs": [],
   "source": [
    "from scipy.sparse import hstack, vstack"
   ]
  },
  {
   "cell_type": "code",
   "execution_count": 47,
   "metadata": {
    "ExecuteTime": {
     "end_time": "2018-04-05T14:44:10.608837Z",
     "start_time": "2018-04-05T14:44:10.025633Z"
    }
   },
   "outputs": [],
   "source": [
    "train_sparse = hstack([X_train_sites, add_data_df[:idx].values], 'csr')\n",
    "test_sparse = hstack([X_test_sites, add_data_df[idx:].values], 'csr')"
   ]
  },
  {
   "cell_type": "markdown",
   "metadata": {},
   "source": [
    "### Создаем несколько моделей"
   ]
  },
  {
   "cell_type": "markdown",
   "metadata": {},
   "source": [
    "#### Обучаем модель RandomForestRegressor, и добавляем его предсказание в качестве нового столбца выборки. Таким образом реализуем ансамблирование моделей"
   ]
  },
  {
   "cell_type": "code",
   "execution_count": 48,
   "metadata": {
    "ExecuteTime": {
     "end_time": "2018-04-05T14:44:11.373526Z",
     "start_time": "2018-04-05T14:44:10.610375Z"
    }
   },
   "outputs": [],
   "source": [
    "from sklearn.linear_model import LogisticRegressionCV, LogisticRegression\n",
    "from sklearn.ensemble import RandomForestRegressor"
   ]
  },
  {
   "cell_type": "code",
   "execution_count": 49,
   "metadata": {
    "ExecuteTime": {
     "end_time": "2018-04-05T14:44:11.378738Z",
     "start_time": "2018-04-05T14:44:11.375534Z"
    }
   },
   "outputs": [],
   "source": [
    "lr = LogisticRegression(C=1, solver='lbfgs', random_state=17)"
   ]
  },
  {
   "cell_type": "code",
   "execution_count": 50,
   "metadata": {
    "ExecuteTime": {
     "end_time": "2018-04-05T14:44:11.442560Z",
     "start_time": "2018-04-05T14:44:11.380335Z"
    }
   },
   "outputs": [],
   "source": [
    "params={\n",
    "    'C' : np.logspace(-2, 1, 10),\n",
    "   # 'penalty' : ['l2', 'l1'],\n",
    "   # 'class_weight' : [None, 'balanced'],\n",
    "    #'tol' : np.logspace(-4, 1, 10)\n",
    "}\n",
    "grid_search = GridSearchCV(estimator=lr, param_grid=params, scoring='roc_auc', cv=time_split, verbose=1, n_jobs=1)"
   ]
  },
  {
   "cell_type": "code",
   "execution_count": 51,
   "metadata": {
    "ExecuteTime": {
     "end_time": "2018-04-05T14:49:00.129901Z",
     "start_time": "2018-04-05T14:44:11.445063Z"
    }
   },
   "outputs": [
    {
     "name": "stdout",
     "output_type": "stream",
     "text": [
      "Fitting 10 folds for each of 10 candidates, totalling 100 fits\n"
     ]
    },
    {
     "name": "stderr",
     "output_type": "stream",
     "text": [
      "[Parallel(n_jobs=1)]: Done 100 out of 100 | elapsed:  4.7min finished\n"
     ]
    },
    {
     "data": {
      "text/plain": [
       "GridSearchCV(cv=TimeSeriesSplit(max_train_size=None, n_splits=10),\n",
       "       error_score='raise',\n",
       "       estimator=LogisticRegression(C=1, class_weight=None, dual=False, fit_intercept=True,\n",
       "          intercept_scaling=1, max_iter=100, multi_class='ovr', n_jobs=1,\n",
       "          penalty='l2', random_state=17, solver='lbfgs', tol=0.0001,\n",
       "          verbose=0, warm_start=False),\n",
       "       fit_params=None, iid=True, n_jobs=1,\n",
       "       param_grid={'C': array([ 0.01   ,  0.02154,  0.04642,  0.1    ,  0.21544,  0.46416,\n",
       "        1.     ,  2.15443,  4.64159, 10.     ])},\n",
       "       pre_dispatch='2*n_jobs', refit=True, return_train_score='warn',\n",
       "       scoring='roc_auc', verbose=1)"
      ]
     },
     "execution_count": 51,
     "metadata": {},
     "output_type": "execute_result"
    }
   ],
   "source": [
    "grid_search.fit(train_sparse, train_df.target)"
   ]
  },
  {
   "cell_type": "code",
   "execution_count": 52,
   "metadata": {
    "ExecuteTime": {
     "end_time": "2018-04-05T14:49:00.143426Z",
     "start_time": "2018-04-05T14:49:00.131967Z"
    }
   },
   "outputs": [
    {
     "data": {
      "text/plain": [
       "(0.9151109444682917, {'C': 0.21544346900318834})"
      ]
     },
     "execution_count": 52,
     "metadata": {},
     "output_type": "execute_result"
    }
   ],
   "source": [
    "grid_search.best_score_, grid_search.best_params_"
   ]
  },
  {
   "cell_type": "code",
   "execution_count": 53,
   "metadata": {
    "ExecuteTime": {
     "end_time": "2018-04-05T14:49:00.203536Z",
     "start_time": "2018-04-05T14:49:00.145405Z"
    }
   },
   "outputs": [],
   "source": [
    "test_pred3 = grid_search.predict_proba(test_sparse)[:, 1]"
   ]
  },
  {
   "cell_type": "markdown",
   "metadata": {},
   "source": [
    "## Оценим важность признаков\n",
    "Построим график для наиболее весомых признаков"
   ]
  },
  {
   "cell_type": "code",
   "execution_count": 57,
   "metadata": {
    "ExecuteTime": {
     "end_time": "2018-04-05T14:52:53.732070Z",
     "start_time": "2018-04-05T14:52:53.715705Z"
    }
   },
   "outputs": [],
   "source": [
    "importance_features_pos = np.argsort(grid_search.best_estimator_.coef_.ravel())[-20:]\n",
    "\n",
    "importance_features_neg = np.argsort(grid_search.best_estimator_.coef_.ravel())[:20]"
   ]
  },
  {
   "cell_type": "code",
   "execution_count": 59,
   "metadata": {
    "ExecuteTime": {
     "end_time": "2018-04-05T14:53:07.803185Z",
     "start_time": "2018-04-05T14:53:07.792368Z"
    }
   },
   "outputs": [],
   "source": [
    "def feature_names(importance_features):\n",
    "    xticks = []\n",
    "    for f in importance_features:\n",
    "        if f>=50000:\n",
    "            xticks.append(add_data_df.columns[f-50000])\n",
    "        else:\n",
    "            sites = list(cv.vocabulary_.keys())[vocabulary_list.index(f)]\n",
    "            harmon = []\n",
    "            for s in sites.split():\n",
    "                harmon.append(list(site_dict.keys())[list(site_dict.values()).index(int(s))]) \n",
    "            xticks.append(','.join(harmon))\n",
    "    return(xticks)"
   ]
  },
  {
   "cell_type": "code",
   "execution_count": null,
   "metadata": {
    "ExecuteTime": {
     "end_time": "2018-04-05T14:52:53.826485Z",
     "start_time": "2018-04-05T14:38:56.967Z"
    }
   },
   "outputs": [],
   "source": [
    "xticks"
   ]
  },
  {
   "cell_type": "code",
   "execution_count": 72,
   "metadata": {
    "ExecuteTime": {
     "end_time": "2018-04-05T15:04:50.126739Z",
     "start_time": "2018-04-05T15:04:49.898828Z"
    }
   },
   "outputs": [
    {
     "data": {
      "application/vnd.plotly.v1+json": {
       "data": [
        {
         "name": "positive features",
         "type": "bar",
         "x": [
          "day_of_week_2",
          "plus.google.com",
          "start_hour_14",
          "daypart_morning",
          "mail.google.com",
          "daypart_early_morning",
          "start_hour_8",
          "day_of_week_6",
          "start_hour_10",
          "daypart_evening",
          "weekend",
          "ocsp.digicert.com",
          "start_hour_11",
          "ocsp.verisign.com",
          "safebrowsing-cache.google.com",
          "static.ccm2.net",
          "evsecure-ocsp.verisign.com",
          "gtssl-ocsp.geotrust.com",
          "ba.commentcamarche.net",
          "api.bing.com,api.bing.com"
         ],
         "y": [
          -2.7629301629404024,
          -2.2687164752295765,
          -2.266424360580952,
          -2.0374793231157855,
          -1.7479292622988734,
          -1.6732108545576747,
          -1.6282252208391352,
          -1.562027978548261,
          -1.446481270839516,
          -1.404515429216408,
          -1.2372865197757024,
          -1.0558605497844709,
          -1.0476549800666772,
          -0.8757400371649374,
          -0.8706094908520637,
          -0.8092940973795648,
          -0.8040801796915116,
          -0.7840208029072991,
          -0.7812951970967947,
          -0.7803191687891268
         ]
        },
        {
         "name": "negative features",
         "type": "bar",
         "x": [
          "static.programme-tv.net",
          "media-1.melty.fr",
          "www.rhonealpesjob.com",
          "mcetv.fr",
          "seriestreaming.org",
          "fr.glee.wikia.com",
          "www35.glam.com",
          "video.tt",
          "g1ujynb3gx.b.ad6media.fr",
          "demotivateur.disqus.com",
          "browser-update.org",
          "www.tete-en-lair.com",
          "start_hour_12",
          "www.jobisjob.fr",
          "www.banque-chalus.fr",
          "s.radio-canada.ca",
          "www.video.tt",
          "www.express.co.uk",
          "daypart_early evening",
          "cid-ed6c3e6a5c6608a4.users.storage.live.com"
         ],
         "y": [
          1.1207177007409865,
          1.1255869762766466,
          1.1282536140178734,
          1.1330783458418097,
          1.1485597658387372,
          1.1652316577930384,
          1.1785803467277245,
          1.1913330826280952,
          1.2058587029305894,
          1.2358281186162714,
          1.2933589954752212,
          1.3103706915761772,
          1.3233990877751687,
          1.3384163392075539,
          1.4221098862829373,
          1.441522608505139,
          1.5125815034005434,
          1.8385347198741275,
          1.869546564371991,
          2.5649460227730128
         ]
        }
       ],
       "layout": {
        "title": "Coefficients of most important featutes"
       }
      },
      "text/html": [
       "<div id=\"11b14216-44cd-4a44-8676-be559d2c98b9\" style=\"height: 525px; width: 100%;\" class=\"plotly-graph-div\"></div><script type=\"text/javascript\">require([\"plotly\"], function(Plotly) { window.PLOTLYENV=window.PLOTLYENV || {};window.PLOTLYENV.BASE_URL=\"https://plot.ly\";Plotly.newPlot(\"11b14216-44cd-4a44-8676-be559d2c98b9\", [{\"type\": \"bar\", \"y\": [-2.7629301629404024, -2.2687164752295765, -2.266424360580952, -2.0374793231157855, -1.7479292622988734, -1.6732108545576747, -1.6282252208391352, -1.562027978548261, -1.446481270839516, -1.404515429216408, -1.2372865197757024, -1.0558605497844709, -1.0476549800666772, -0.8757400371649374, -0.8706094908520637, -0.8092940973795648, -0.8040801796915116, -0.7840208029072991, -0.7812951970967947, -0.7803191687891268], \"x\": [\"day_of_week_2\", \"plus.google.com\", \"start_hour_14\", \"daypart_morning\", \"mail.google.com\", \"daypart_early_morning\", \"start_hour_8\", \"day_of_week_6\", \"start_hour_10\", \"daypart_evening\", \"weekend\", \"ocsp.digicert.com\", \"start_hour_11\", \"ocsp.verisign.com\", \"safebrowsing-cache.google.com\", \"static.ccm2.net\", \"evsecure-ocsp.verisign.com\", \"gtssl-ocsp.geotrust.com\", \"ba.commentcamarche.net\", \"api.bing.com,api.bing.com\"], \"name\": \"positive features\"}, {\"type\": \"bar\", \"y\": [1.1207177007409865, 1.1255869762766466, 1.1282536140178734, 1.1330783458418097, 1.1485597658387372, 1.1652316577930384, 1.1785803467277245, 1.1913330826280952, 1.2058587029305894, 1.2358281186162714, 1.2933589954752212, 1.3103706915761772, 1.3233990877751687, 1.3384163392075539, 1.4221098862829373, 1.441522608505139, 1.5125815034005434, 1.8385347198741275, 1.869546564371991, 2.5649460227730128], \"x\": [\"static.programme-tv.net\", \"media-1.melty.fr\", \"www.rhonealpesjob.com\", \"mcetv.fr\", \"seriestreaming.org\", \"fr.glee.wikia.com\", \"www35.glam.com\", \"video.tt\", \"g1ujynb3gx.b.ad6media.fr\", \"demotivateur.disqus.com\", \"browser-update.org\", \"www.tete-en-lair.com\", \"start_hour_12\", \"www.jobisjob.fr\", \"www.banque-chalus.fr\", \"s.radio-canada.ca\", \"www.video.tt\", \"www.express.co.uk\", \"daypart_early evening\", \"cid-ed6c3e6a5c6608a4.users.storage.live.com\"], \"name\": \"negative features\"}], {\"title\": \"Coefficients of most important featutes\"}, {\"showLink\": true, \"linkText\": \"Export to plot.ly\"})});</script>"
      ],
      "text/vnd.plotly.v1+html": [
       "<div id=\"11b14216-44cd-4a44-8676-be559d2c98b9\" style=\"height: 525px; width: 100%;\" class=\"plotly-graph-div\"></div><script type=\"text/javascript\">require([\"plotly\"], function(Plotly) { window.PLOTLYENV=window.PLOTLYENV || {};window.PLOTLYENV.BASE_URL=\"https://plot.ly\";Plotly.newPlot(\"11b14216-44cd-4a44-8676-be559d2c98b9\", [{\"type\": \"bar\", \"y\": [-2.7629301629404024, -2.2687164752295765, -2.266424360580952, -2.0374793231157855, -1.7479292622988734, -1.6732108545576747, -1.6282252208391352, -1.562027978548261, -1.446481270839516, -1.404515429216408, -1.2372865197757024, -1.0558605497844709, -1.0476549800666772, -0.8757400371649374, -0.8706094908520637, -0.8092940973795648, -0.8040801796915116, -0.7840208029072991, -0.7812951970967947, -0.7803191687891268], \"x\": [\"day_of_week_2\", \"plus.google.com\", \"start_hour_14\", \"daypart_morning\", \"mail.google.com\", \"daypart_early_morning\", \"start_hour_8\", \"day_of_week_6\", \"start_hour_10\", \"daypart_evening\", \"weekend\", \"ocsp.digicert.com\", \"start_hour_11\", \"ocsp.verisign.com\", \"safebrowsing-cache.google.com\", \"static.ccm2.net\", \"evsecure-ocsp.verisign.com\", \"gtssl-ocsp.geotrust.com\", \"ba.commentcamarche.net\", \"api.bing.com,api.bing.com\"], \"name\": \"positive features\"}, {\"type\": \"bar\", \"y\": [1.1207177007409865, 1.1255869762766466, 1.1282536140178734, 1.1330783458418097, 1.1485597658387372, 1.1652316577930384, 1.1785803467277245, 1.1913330826280952, 1.2058587029305894, 1.2358281186162714, 1.2933589954752212, 1.3103706915761772, 1.3233990877751687, 1.3384163392075539, 1.4221098862829373, 1.441522608505139, 1.5125815034005434, 1.8385347198741275, 1.869546564371991, 2.5649460227730128], \"x\": [\"static.programme-tv.net\", \"media-1.melty.fr\", \"www.rhonealpesjob.com\", \"mcetv.fr\", \"seriestreaming.org\", \"fr.glee.wikia.com\", \"www35.glam.com\", \"video.tt\", \"g1ujynb3gx.b.ad6media.fr\", \"demotivateur.disqus.com\", \"browser-update.org\", \"www.tete-en-lair.com\", \"start_hour_12\", \"www.jobisjob.fr\", \"www.banque-chalus.fr\", \"s.radio-canada.ca\", \"www.video.tt\", \"www.express.co.uk\", \"daypart_early evening\", \"cid-ed6c3e6a5c6608a4.users.storage.live.com\"], \"name\": \"negative features\"}], {\"title\": \"Coefficients of most important featutes\"}, {\"showLink\": true, \"linkText\": \"Export to plot.ly\"})});</script>"
      ]
     },
     "metadata": {},
     "output_type": "display_data"
    }
   ],
   "source": [
    "data6 = [\n",
    "    go.Bar(y=grid_search.best_estimator_.coef_.ravel()[importance_features_neg], x=feature_names(importance_features_neg), name='positive features'),\n",
    "    go.Bar(y=grid_search.best_estimator_.coef_.ravel()[importance_features_pos], x=feature_names(importance_features_pos), name='negative features')\n",
    "]\n",
    "\n",
    "fig = go.Figure(data=data6, layout={'title': 'Coefficients of most important featutes'})\n",
    "iplot(fig)"
   ]
  },
  {
   "cell_type": "markdown",
   "metadata": {},
   "source": [
    "Видим, что среди наиболее важных признаков преимущественно сайты, на которые, например, заходила только Alice, или, наоборот, те, на которые она не заходила никогда. Из мною сгенерированных признаков сюда попали только время (start_hour_12) и часть дня (daypart_early_morning)"
   ]
  },
  {
   "cell_type": "markdown",
   "metadata": {},
   "source": [
    "### Попробуем обучить еще одну модель - RandomForestRegressor, и усреднить получившиеся результаты"
   ]
  },
  {
   "cell_type": "code",
   "execution_count": 54,
   "metadata": {
    "ExecuteTime": {
     "end_time": "2018-04-05T14:52:53.280753Z",
     "start_time": "2018-04-05T14:49:00.205591Z"
    }
   },
   "outputs": [],
   "source": [
    "rf = RandomForestRegressor(n_estimators=10, n_jobs=-1, random_state=17)\n",
    "rf.fit(train_sparse, train_df.target)\n",
    "rf_predict = rf.predict(test_sparse)"
   ]
  },
  {
   "cell_type": "code",
   "execution_count": 91,
   "metadata": {
    "ExecuteTime": {
     "end_time": "2018-04-05T15:09:52.402993Z",
     "start_time": "2018-04-05T15:09:52.397244Z"
    }
   },
   "outputs": [],
   "source": [
    "result_answer = np.mean([rf_predict, test_pred3], axis=0)"
   ]
  },
  {
   "cell_type": "code",
   "execution_count": 92,
   "metadata": {
    "ExecuteTime": {
     "end_time": "2018-04-05T15:10:04.961592Z",
     "start_time": "2018-04-05T15:10:04.957751Z"
    }
   },
   "outputs": [
    {
     "data": {
      "text/plain": [
       "(82797,)"
      ]
     },
     "execution_count": 92,
     "metadata": {},
     "output_type": "execute_result"
    }
   ],
   "source": [
    "result_answer.shape"
   ]
  },
  {
   "cell_type": "code",
   "execution_count": 55,
   "metadata": {
    "ExecuteTime": {
     "end_time": "2018-04-05T14:52:53.291982Z",
     "start_time": "2018-04-05T14:52:53.284585Z"
    }
   },
   "outputs": [],
   "source": [
    "# A helper function for writing predictions to a file\n",
    "def write_to_submission_file(predicted_labels, out_file,\n",
    "                             target='target', index_label=\"session_id\"):\n",
    "    predicted_df = pd.DataFrame(predicted_labels,\n",
    "                                index = np.arange(1, predicted_labels.shape[0] + 1),\n",
    "                                columns=[target])\n",
    "    predicted_df.to_csv(out_file, index_label=index_label)"
   ]
  },
  {
   "cell_type": "code",
   "execution_count": 93,
   "metadata": {
    "ExecuteTime": {
     "end_time": "2018-04-05T15:10:13.123572Z",
     "start_time": "2018-04-05T15:10:12.866472Z"
    }
   },
   "outputs": [],
   "source": [
    "write_to_submission_file(result_answer, 'kaggle_answer_file.txt')"
   ]
  },
  {
   "cell_type": "markdown",
   "metadata": {},
   "source": [
    "## Заключение. Итоги"
   ]
  },
  {
   "cell_type": "markdown",
   "metadata": {},
   "source": [
    "В ходе проекта было реализованы следующие шаги:\n",
    "- генерация новых признаков, таких как время начала сессии, количество уникальных сайтов в сессии, день недели, часть дня, время сессии\n",
    "- предобработка данных включала в себя сортировку данных по времени, преобразование данных сайтов в разреженную матрицу, логарифмирование длительности сессии, преобразование порядковых признаков в категориальные.\n",
    "- обучение модели логистической регрессии, обучение модели регрессии случайного леса, усреднение результатов."
   ]
  }
 ],
 "metadata": {
  "kernelspec": {
   "display_name": "Python 3",
   "language": "python",
   "name": "python3"
  },
  "language_info": {
   "codemirror_mode": {
    "name": "ipython",
    "version": 3
   },
   "file_extension": ".py",
   "mimetype": "text/x-python",
   "name": "python",
   "nbconvert_exporter": "python",
   "pygments_lexer": "ipython3",
   "version": "3.6.3"
  },
  "toc": {
   "nav_menu": {},
   "number_sections": true,
   "sideBar": true,
   "skip_h1_title": false,
   "toc_cell": false,
   "toc_position": {},
   "toc_section_display": "block",
   "toc_window_display": false
  },
  "varInspector": {
   "cols": {
    "lenName": 16,
    "lenType": 16,
    "lenVar": 40
   },
   "kernels_config": {
    "python": {
     "delete_cmd_postfix": "",
     "delete_cmd_prefix": "del ",
     "library": "var_list.py",
     "varRefreshCmd": "print(var_dic_list())"
    },
    "r": {
     "delete_cmd_postfix": ") ",
     "delete_cmd_prefix": "rm(",
     "library": "var_list.r",
     "varRefreshCmd": "cat(var_dic_list()) "
    }
   },
   "position": {
    "height": "162px",
    "left": "2112px",
    "right": "20px",
    "top": "242px",
    "width": "317px"
   },
   "types_to_exclude": [
    "module",
    "function",
    "builtin_function_or_method",
    "instance",
    "_Feature"
   ],
   "window_display": true
  }
 },
 "nbformat": 4,
 "nbformat_minor": 2
}
